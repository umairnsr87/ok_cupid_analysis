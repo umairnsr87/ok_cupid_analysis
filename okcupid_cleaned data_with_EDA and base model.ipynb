{
 "cells": [
  {
   "cell_type": "code",
   "execution_count": 1,
   "metadata": {},
   "outputs": [],
   "source": [
    "file=r'C:\\Users\\umairansari\\Desktop'"
   ]
  },
  {
   "cell_type": "code",
   "execution_count": 2,
   "metadata": {},
   "outputs": [],
   "source": [
    "import pandas as pd\n",
    "import numpy as np\n",
    "import seaborn as sns\n",
    "import matplotlib.pyplot as plt\n",
    "import missingno as msno\n",
    "import math\n",
    "from math import floor\n",
    "from sklearn.model_selection import train_test_split,KFold,StratifiedKFold,GridSearchCV,RandomizedSearchCV\n",
    "from sklearn.preprocessing import LabelEncoder\n",
    "import warnings\n",
    "warnings.filterwarnings(\"ignore\")"
   ]
  },
  {
   "cell_type": "code",
   "execution_count": 3,
   "metadata": {},
   "outputs": [],
   "source": [
    "data=pd.read_csv(file+r\"\\profiles_ok_cupid.csv\")"
   ]
  },
  {
   "cell_type": "code",
   "execution_count": 4,
   "metadata": {},
   "outputs": [
    {
     "name": "stdout",
     "output_type": "stream",
     "text": [
      "the dimension of test data is(18166, 31)\n",
      "the dimension of train data is(42386, 31)\n"
     ]
    }
   ],
   "source": [
    "#splitting the data into test and train\n",
    "train,test=train_test_split(data,random_state=19,shuffle=True,test_size=.30)\n",
    "print(\"the dimension of test data is\"+str(test.shape))\n",
    "print(\"the dimension of train data is\"+str(train.shape))"
   ]
  },
  {
   "cell_type": "code",
   "execution_count": 5,
   "metadata": {},
   "outputs": [
    {
     "data": {
      "text/html": [
       "<div>\n",
       "<style scoped>\n",
       "    .dataframe tbody tr th:only-of-type {\n",
       "        vertical-align: middle;\n",
       "    }\n",
       "\n",
       "    .dataframe tbody tr th {\n",
       "        vertical-align: top;\n",
       "    }\n",
       "\n",
       "    .dataframe thead th {\n",
       "        text-align: right;\n",
       "    }\n",
       "</style>\n",
       "<table border=\"1\" class=\"dataframe\">\n",
       "  <thead>\n",
       "    <tr style=\"text-align: right;\">\n",
       "      <th></th>\n",
       "      <th>age</th>\n",
       "      <th>body_type</th>\n",
       "      <th>diet</th>\n",
       "      <th>drinks</th>\n",
       "      <th>drugs</th>\n",
       "      <th>education</th>\n",
       "      <th>essay0</th>\n",
       "      <th>essay1</th>\n",
       "      <th>essay2</th>\n",
       "      <th>essay3</th>\n",
       "      <th>...</th>\n",
       "      <th>location</th>\n",
       "      <th>offspring</th>\n",
       "      <th>orientation</th>\n",
       "      <th>pets</th>\n",
       "      <th>religion</th>\n",
       "      <th>sex</th>\n",
       "      <th>sign</th>\n",
       "      <th>smokes</th>\n",
       "      <th>speaks</th>\n",
       "      <th>status</th>\n",
       "    </tr>\n",
       "  </thead>\n",
       "  <tbody>\n",
       "    <tr>\n",
       "      <td>1519</td>\n",
       "      <td>24</td>\n",
       "      <td>athletic</td>\n",
       "      <td>strictly anything</td>\n",
       "      <td>socially</td>\n",
       "      <td>sometimes</td>\n",
       "      <td>space camp</td>\n",
       "      <td>i'm not going to be able to sum myself up in t...</td>\n",
       "      <td>loving san francisco. not that i have much to ...</td>\n",
       "      <td>cooking&lt;br /&gt;\\ncreating awkward situations&lt;br ...</td>\n",
       "      <td>whether or not i am present.(in company)(there...</td>\n",
       "      <td>...</td>\n",
       "      <td>san francisco, california</td>\n",
       "      <td>doesn&amp;rsquo;t have kids</td>\n",
       "      <td>straight</td>\n",
       "      <td>likes dogs and likes cats</td>\n",
       "      <td>NaN</td>\n",
       "      <td>m</td>\n",
       "      <td>virgo but it doesn&amp;rsquo;t matter</td>\n",
       "      <td>no</td>\n",
       "      <td>english (fluently), sanskrit (fluently)</td>\n",
       "      <td>single</td>\n",
       "    </tr>\n",
       "    <tr>\n",
       "      <td>529</td>\n",
       "      <td>46</td>\n",
       "      <td>fit</td>\n",
       "      <td>anything</td>\n",
       "      <td>socially</td>\n",
       "      <td>NaN</td>\n",
       "      <td>graduated from college/university</td>\n",
       "      <td>i'm not macho and i don't need to prove anythi...</td>\n",
       "      <td>NaN</td>\n",
       "      <td>selecting friends. and feeding those relations...</td>\n",
       "      <td>my smile is big and sincere, eye contact and a...</td>\n",
       "      <td>...</td>\n",
       "      <td>san francisco, california</td>\n",
       "      <td>doesn&amp;rsquo;t have kids</td>\n",
       "      <td>straight</td>\n",
       "      <td>likes dogs</td>\n",
       "      <td>NaN</td>\n",
       "      <td>m</td>\n",
       "      <td>pisces and it&amp;rsquo;s fun to think about</td>\n",
       "      <td>no</td>\n",
       "      <td>english</td>\n",
       "      <td>single</td>\n",
       "    </tr>\n",
       "    <tr>\n",
       "      <td>41425</td>\n",
       "      <td>29</td>\n",
       "      <td>athletic</td>\n",
       "      <td>mostly anything</td>\n",
       "      <td>socially</td>\n",
       "      <td>sometimes</td>\n",
       "      <td>working on space camp</td>\n",
       "      <td>happy, easy, compassionate, excitable, want to...</td>\n",
       "      <td>trying to go to vet school, and have fun mostly.</td>\n",
       "      <td>NaN</td>\n",
       "      <td>my weirdo asymmetric haircut.</td>\n",
       "      <td>...</td>\n",
       "      <td>san francisco, california</td>\n",
       "      <td>doesn&amp;rsquo;t have kids, but might want them</td>\n",
       "      <td>straight</td>\n",
       "      <td>has dogs and has cats</td>\n",
       "      <td>atheism</td>\n",
       "      <td>f</td>\n",
       "      <td>pisces but it doesn&amp;rsquo;t matter</td>\n",
       "      <td>no</td>\n",
       "      <td>english</td>\n",
       "      <td>single</td>\n",
       "    </tr>\n",
       "    <tr>\n",
       "      <td>38814</td>\n",
       "      <td>25</td>\n",
       "      <td>NaN</td>\n",
       "      <td>mostly vegetarian</td>\n",
       "      <td>socially</td>\n",
       "      <td>never</td>\n",
       "      <td>graduated from college/university</td>\n",
       "      <td>living in the east bay currently, went to coll...</td>\n",
       "      <td>NaN</td>\n",
       "      <td>being present for my work, family &amp;amp; friend...</td>\n",
       "      <td>i'm warm &amp;amp; calm, excited to meet new peopl...</td>\n",
       "      <td>...</td>\n",
       "      <td>berkeley, california</td>\n",
       "      <td>NaN</td>\n",
       "      <td>straight</td>\n",
       "      <td>likes dogs</td>\n",
       "      <td>NaN</td>\n",
       "      <td>f</td>\n",
       "      <td>NaN</td>\n",
       "      <td>no</td>\n",
       "      <td>english, spanish</td>\n",
       "      <td>single</td>\n",
       "    </tr>\n",
       "    <tr>\n",
       "      <td>16190</td>\n",
       "      <td>25</td>\n",
       "      <td>athletic</td>\n",
       "      <td>anything</td>\n",
       "      <td>socially</td>\n",
       "      <td>never</td>\n",
       "      <td>working on space camp</td>\n",
       "      <td>i'm a grounded, fun, outgoing, artistic, emoti...</td>\n",
       "      <td>i'm pursuing my dream of acting and singing.&lt;b...</td>\n",
       "      <td>typing, making coffee, making pancakes.</td>\n",
       "      <td>my name, my height</td>\n",
       "      <td>...</td>\n",
       "      <td>san francisco, california</td>\n",
       "      <td>NaN</td>\n",
       "      <td>gay</td>\n",
       "      <td>likes dogs and likes cats</td>\n",
       "      <td>other</td>\n",
       "      <td>m</td>\n",
       "      <td>aquarius and it&amp;rsquo;s fun to think about</td>\n",
       "      <td>no</td>\n",
       "      <td>english, italian (poorly)</td>\n",
       "      <td>single</td>\n",
       "    </tr>\n",
       "  </tbody>\n",
       "</table>\n",
       "<p>5 rows × 31 columns</p>\n",
       "</div>"
      ],
      "text/plain": [
       "      age body_type               diet    drinks      drugs  \\\n",
       "1519   24  athletic  strictly anything  socially  sometimes   \n",
       "529    46       fit           anything  socially        NaN   \n",
       "41425  29  athletic    mostly anything  socially  sometimes   \n",
       "38814  25       NaN  mostly vegetarian  socially      never   \n",
       "16190  25  athletic           anything  socially      never   \n",
       "\n",
       "                               education  \\\n",
       "1519                          space camp   \n",
       "529    graduated from college/university   \n",
       "41425              working on space camp   \n",
       "38814  graduated from college/university   \n",
       "16190              working on space camp   \n",
       "\n",
       "                                                  essay0  \\\n",
       "1519   i'm not going to be able to sum myself up in t...   \n",
       "529    i'm not macho and i don't need to prove anythi...   \n",
       "41425  happy, easy, compassionate, excitable, want to...   \n",
       "38814  living in the east bay currently, went to coll...   \n",
       "16190  i'm a grounded, fun, outgoing, artistic, emoti...   \n",
       "\n",
       "                                                  essay1  \\\n",
       "1519   loving san francisco. not that i have much to ...   \n",
       "529                                                  NaN   \n",
       "41425   trying to go to vet school, and have fun mostly.   \n",
       "38814                                                NaN   \n",
       "16190  i'm pursuing my dream of acting and singing.<b...   \n",
       "\n",
       "                                                  essay2  \\\n",
       "1519   cooking<br />\\ncreating awkward situations<br ...   \n",
       "529    selecting friends. and feeding those relations...   \n",
       "41425                                                NaN   \n",
       "38814  being present for my work, family &amp; friend...   \n",
       "16190            typing, making coffee, making pancakes.   \n",
       "\n",
       "                                                  essay3  ...  \\\n",
       "1519   whether or not i am present.(in company)(there...  ...   \n",
       "529    my smile is big and sincere, eye contact and a...  ...   \n",
       "41425                      my weirdo asymmetric haircut.  ...   \n",
       "38814  i'm warm &amp; calm, excited to meet new peopl...  ...   \n",
       "16190                                 my name, my height  ...   \n",
       "\n",
       "                        location  \\\n",
       "1519   san francisco, california   \n",
       "529    san francisco, california   \n",
       "41425  san francisco, california   \n",
       "38814       berkeley, california   \n",
       "16190  san francisco, california   \n",
       "\n",
       "                                          offspring orientation  \\\n",
       "1519                        doesn&rsquo;t have kids    straight   \n",
       "529                         doesn&rsquo;t have kids    straight   \n",
       "41425  doesn&rsquo;t have kids, but might want them    straight   \n",
       "38814                                           NaN    straight   \n",
       "16190                                           NaN         gay   \n",
       "\n",
       "                            pets religion sex  \\\n",
       "1519   likes dogs and likes cats      NaN   m   \n",
       "529                   likes dogs      NaN   m   \n",
       "41425      has dogs and has cats  atheism   f   \n",
       "38814                 likes dogs      NaN   f   \n",
       "16190  likes dogs and likes cats    other   m   \n",
       "\n",
       "                                             sign smokes  \\\n",
       "1519            virgo but it doesn&rsquo;t matter     no   \n",
       "529      pisces and it&rsquo;s fun to think about     no   \n",
       "41425          pisces but it doesn&rsquo;t matter     no   \n",
       "38814                                         NaN     no   \n",
       "16190  aquarius and it&rsquo;s fun to think about     no   \n",
       "\n",
       "                                        speaks  status  \n",
       "1519   english (fluently), sanskrit (fluently)  single  \n",
       "529                                    english  single  \n",
       "41425                                  english  single  \n",
       "38814                         english, spanish  single  \n",
       "16190                english, italian (poorly)  single  \n",
       "\n",
       "[5 rows x 31 columns]"
      ]
     },
     "execution_count": 5,
     "metadata": {},
     "output_type": "execute_result"
    }
   ],
   "source": [
    "train.head(5)"
   ]
  },
  {
   "cell_type": "code",
   "execution_count": 6,
   "metadata": {},
   "outputs": [
    {
     "data": {
      "text/plain": [
       "(42386, 31)"
      ]
     },
     "execution_count": 6,
     "metadata": {},
     "output_type": "execute_result"
    }
   ],
   "source": [
    "train.shape"
   ]
  },
  {
   "cell_type": "code",
   "execution_count": 7,
   "metadata": {},
   "outputs": [
    {
     "data": {
      "text/plain": [
       "Index(['age', 'body_type', 'diet', 'drinks', 'drugs', 'education', 'essay0',\n",
       "       'essay1', 'essay2', 'essay3', 'essay4', 'essay5', 'essay6', 'essay7',\n",
       "       'essay8', 'essay9', 'ethnicity', 'height', 'income', 'job',\n",
       "       'last_online', 'location', 'offspring', 'orientation', 'pets',\n",
       "       'religion', 'sex', 'sign', 'smokes', 'speaks', 'status'],\n",
       "      dtype='object')"
      ]
     },
     "execution_count": 7,
     "metadata": {},
     "output_type": "execute_result"
    }
   ],
   "source": [
    "train.columns"
   ]
  },
  {
   "cell_type": "code",
   "execution_count": 8,
   "metadata": {},
   "outputs": [
    {
     "data": {
      "text/plain": [
       "single            38987\n",
       "seeing someone     1453\n",
       "available          1297\n",
       "married             215\n",
       "unknown               6\n",
       "Name: status, dtype: int64"
      ]
     },
     "execution_count": 8,
     "metadata": {},
     "output_type": "execute_result"
    }
   ],
   "source": [
    "train[\"status\"].value_counts()"
   ]
  },
  {
   "cell_type": "code",
   "execution_count": 9,
   "metadata": {},
   "outputs": [
    {
     "data": {
      "image/png": "[encoded data removed]",
      "text/plain": [
       "<Figure size 1296x432 with 1 Axes>"
      ]
     },
     "metadata": {
      "needs_background": "light"
     },
     "output_type": "display_data"
    },
    {
     "name": "stdout",
     "output_type": "stream",
     "text": [
      "Wall time: 2.25 s\n"
     ]
    }
   ],
   "source": [
    "%%time\n",
    "plt.figure(figsize=(18,6))\n",
    "sns.set_style(\"whitegrid\")\n",
    "plt.title(\"Relationship frequencies graph\")\n",
    "sns.countplot(train[\"status\"])\n",
    "plt.xlabel(\"The type of status of the relationship of the persons\")\n",
    "plt.show()"
   ]
  },
  {
   "cell_type": "code",
   "execution_count": 10,
   "metadata": {},
   "outputs": [
    {
     "name": "stdout",
     "output_type": "stream",
     "text": [
      "The new shape of the train data is(41958, 31)\n",
      "The new shape of the test data is(17985, 31)\n",
      "Wall time: 188 ms\n"
     ]
    }
   ],
   "source": [
    "%%time\n",
    "train[\"status\"].value_counts()\n",
    "#counting the values of the status of the data \n",
    "#data[\"status\"].fillna(\"test\",inplace=True)\n",
    "#filling the na data to prepare for the test data as we dont know the test data \n",
    "#datatest=data[data[\"status\"]==\"test\"]\n",
    "#retreiving the data and saperating it for test and train\n",
    "#data=data.loc[data[\"status\"]!=\"test\"]\n",
    "train.dropna(subset=[\"status\"],axis=0,inplace=True)\n",
    "test.dropna(subset=[\"status\"],axis=0,inplace=True)\n",
    "#print(\"The new shape of the train data is\"+str(datatest.shape))\n",
    "print(\"The new shape of the train data is\"+str(train.shape))\n",
    "print(\"The new shape of the test data is\"+str(test.shape))\n",
    "#total=datatest.shape[0]+data.shape[0]\n",
    "#print(\"The total data we have now is \"+str(total))"
   ]
  },
  {
   "cell_type": "code",
   "execution_count": 11,
   "metadata": {},
   "outputs": [
    {
     "data": {
      "text/plain": [
       "<matplotlib.axes._subplots.AxesSubplot at 0x1756629f08>"
      ]
     },
     "execution_count": 11,
     "metadata": {},
     "output_type": "execute_result"
    },
    {
     "data": {
      "image/png": "[encoded data removed]",
      "text/plain": [
       "<Figure size 1800x720 with 2 Axes>"
      ]
     },
     "metadata": {},
     "output_type": "display_data"
    }
   ],
   "source": [
    "#miissing walues in the train data set\n",
    "msno.matrix(train)\n"
   ]
  },
  {
   "cell_type": "code",
   "execution_count": 12,
   "metadata": {},
   "outputs": [
    {
     "data": {
      "text/plain": [
       "<matplotlib.axes._subplots.AxesSubplot at 0x17569c74c8>"
      ]
     },
     "execution_count": 12,
     "metadata": {},
     "output_type": "execute_result"
    },
    {
     "data": {
      "image/png": "[encoded data removed]",
      "text/plain": [
       "<Figure size 1800x720 with 2 Axes>"
      ]
     },
     "metadata": {},
     "output_type": "display_data"
    }
   ],
   "source": [
    "#miissing walues in the train data set\n",
    "msno.matrix(test)"
   ]
  },
  {
   "cell_type": "code",
   "execution_count": 13,
   "metadata": {},
   "outputs": [
    {
     "name": "stdout",
     "output_type": "stream",
     "text": [
      "Wall time: 46.9 ms\n"
     ]
    }
   ],
   "source": [
    "%%time\n",
    "#getting the data for the body type\n",
    "train[\"body_type\"].isna().sum()\n",
    "#filling the values of the test and train data with other type\n",
    "\n",
    "train[\"body_type\"].fillna(\"other\",inplace=True)\n",
    "test[\"body_type\"].fillna(\"other\",inplace=True)"
   ]
  },
  {
   "cell_type": "code",
   "execution_count": 14,
   "metadata": {},
   "outputs": [
    {
     "name": "stdout",
     "output_type": "stream",
     "text": [
      "Wall time: 31.3 ms\n"
     ]
    }
   ],
   "source": [
    "%%time\n",
    "#flling the na data for diet column according to the domain knowledge\n",
    "train[\"diet\"].fillna(\"prefer not to say\",inplace=True)\n",
    "test[\"diet\"].fillna(\"prefer not to say\",inplace=True)"
   ]
  },
  {
   "cell_type": "code",
   "execution_count": 15,
   "metadata": {},
   "outputs": [
    {
     "name": "stdout",
     "output_type": "stream",
     "text": [
      "Wall time: 17.5 ms\n"
     ]
    }
   ],
   "source": [
    "%%time\n",
    "#filling the na data for drinks according to the domain knowledge column\n",
    "train[\"drinks\"].fillna(\"prefer not to say\",inplace=True)\n",
    "test[\"drinks\"].fillna(\"prefer not to say\",inplace=True)"
   ]
  },
  {
   "cell_type": "code",
   "execution_count": 16,
   "metadata": {},
   "outputs": [
    {
     "name": "stdout",
     "output_type": "stream",
     "text": [
      "Wall time: 270 ms\n"
     ]
    }
   ],
   "source": [
    "%%time\n",
    "#changing the type of the height column to numeric \n",
    "train[\"height\"]=pd.to_numeric(train[\"height\"],errors='coerce')\n",
    "test[\"height\"]=pd.to_numeric(test[\"height\"],errors='coerce')"
   ]
  },
  {
   "cell_type": "code",
   "execution_count": 17,
   "metadata": {},
   "outputs": [
    {
     "name": "stdout",
     "output_type": "stream",
     "text": [
      "The mean of the target column is 68.29777142176141\n"
     ]
    }
   ],
   "source": [
    "print(\"The mean of the target column is \"+str(np.mean(train[\"height\"])))"
   ]
  },
  {
   "cell_type": "code",
   "execution_count": 18,
   "metadata": {},
   "outputs": [
    {
     "data": {
      "text/plain": [
       "68"
      ]
     },
     "execution_count": 18,
     "metadata": {},
     "output_type": "execute_result"
    }
   ],
   "source": [
    "floor(np.mean(train[\"height\"]))"
   ]
  },
  {
   "cell_type": "code",
   "execution_count": 19,
   "metadata": {},
   "outputs": [],
   "source": [
    "#function to detect outliers for the data \n",
    "def detect_outliers(data):\n",
    "    outliers = []\n",
    "    threshold=3\n",
    "    mean = np.mean(data)\n",
    "    std = np.std(data)\n",
    "    for i in data:\n",
    "        z_score = (i-mean)/std\n",
    "        print(z_score)\n",
    "        if np.abs(z_score) > threshold:\n",
    "            outliers.append(i)\n",
    "    return outliers"
   ]
  },
  {
   "cell_type": "code",
   "execution_count": 20,
   "metadata": {},
   "outputs": [
    {
     "data": {
      "text/plain": [
       "(17985, 31)"
      ]
     },
     "execution_count": 20,
     "metadata": {},
     "output_type": "execute_result"
    }
   ],
   "source": [
    "test.shape"
   ]
  },
  {
   "cell_type": "code",
   "execution_count": 21,
   "metadata": {},
   "outputs": [
    {
     "data": {
      "image/png": "[encoded data removed]",
      "text/plain": [
       "<Figure size 432x288 with 1 Axes>"
      ]
     },
     "metadata": {},
     "output_type": "display_data"
    }
   ],
   "source": [
    "#checking the height whether it contains outliers or not\n",
    "sns.boxplot(train[\"height\"])\n",
    "plt.xlabel(\"Height in cms\")\n",
    "plt.show()"
   ]
  },
  {
   "cell_type": "code",
   "execution_count": 22,
   "metadata": {},
   "outputs": [
    {
     "name": "stdout",
     "output_type": "stream",
     "text": [
      "People with more that normal height are in train set 49\n"
     ]
    }
   ],
   "source": [
    "#detecting the outliers after seeing the boxplot whiskers\n",
    "heightoutliers=train.loc[train[\"height\"]>80]\n",
    "heightoutliers=train.loc[train[\"height\"]<58]\n",
    "print(\"People with more that normal height are in train set \"+str(heightoutliers.shape[0]))"
   ]
  },
  {
   "cell_type": "code",
   "execution_count": 23,
   "metadata": {},
   "outputs": [
    {
     "name": "stdout",
     "output_type": "stream",
     "text": [
      "The median is 68.0\n",
      "Wall time: 15.6 ms\n"
     ]
    }
   ],
   "source": [
    "%%time\n",
    "#filling the NA values according to the domain knowledge of heights \n",
    "#data[\"height\"].mean()\n",
    "print(\"The median is \"+str(train[\"height\"].median()))\n",
    "#we are filling the NA data of height column after checking the outliers \n",
    "train[\"height\"].fillna(floor(np.mean(train[\"height\"])),inplace=True)\n",
    "test[\"height\"].fillna(floor(np.mean(train[\"height\"])),inplace=True)\n"
   ]
  },
  {
   "cell_type": "code",
   "execution_count": 24,
   "metadata": {},
   "outputs": [
    {
     "name": "stdout",
     "output_type": "stream",
     "text": [
      "Wall time: 15.6 ms\n"
     ]
    }
   ],
   "source": [
    "%%time\n",
    "#filling the NA values according to the domain knowledge\n",
    "train[\"drugs\"].fillna(\"prefer not to say\",inplace=True)\n",
    "test[\"drugs\"].fillna(\"prefer not to say\",inplace=True)"
   ]
  },
  {
   "cell_type": "code",
   "execution_count": 25,
   "metadata": {},
   "outputs": [
    {
     "name": "stdout",
     "output_type": "stream",
     "text": [
      "Wall time: 15.6 ms\n"
     ]
    }
   ],
   "source": [
    "%%time\n",
    "#filling the NA values according to the domain knowledge\n",
    "train[\"education\"].isna().sum()\n",
    "train[\"education\"].fillna(\"prefer not to say\",inplace=True)\n",
    "test[\"education\"].fillna(\"prefer not to say\",inplace=True)"
   ]
  },
  {
   "cell_type": "code",
   "execution_count": 26,
   "metadata": {},
   "outputs": [
    {
     "name": "stdout",
     "output_type": "stream",
     "text": [
      "Wall time: 31.3 ms\n"
     ]
    }
   ],
   "source": [
    "%%time\n",
    "#filling the NA values according to the domain knowledge\n",
    "train[\"job\"].isna().sum()\n",
    "train[\"job\"].fillna(\"prefer not to say\",inplace=True)\n",
    "test[\"job\"].fillna(\"prefer not to say\",inplace=True)"
   ]
  },
  {
   "cell_type": "code",
   "execution_count": 27,
   "metadata": {},
   "outputs": [
    {
     "data": {
      "text/plain": [
       "doesn&rsquo;t have kids                                5282\n",
       "doesn&rsquo;t have kids, but might want them           2688\n",
       "doesn&rsquo;t have kids, but wants them                2495\n",
       "doesn&rsquo;t want kids                                2060\n",
       "has a kid                                              1333\n",
       "has kids                                               1271\n",
       "doesn&rsquo;t have kids, and doesn&rsquo;t want any     778\n",
       "has kids, but doesn&rsquo;t want more                   320\n",
       "has a kid, but doesn&rsquo;t want more                  211\n",
       "wants kids                                              160\n",
       "has a kid, and might want more                          155\n",
       "might want kids                                         123\n",
       "has kids, and might want more                            86\n",
       "has a kid, and wants more                                46\n",
       "has kids, and wants more                                 13\n",
       "Name: offspring, dtype: int64"
      ]
     },
     "execution_count": 27,
     "metadata": {},
     "output_type": "execute_result"
    }
   ],
   "source": [
    "train[\"offspring\"].value_counts()"
   ]
  },
  {
   "cell_type": "code",
   "execution_count": 28,
   "metadata": {},
   "outputs": [
    {
     "name": "stdout",
     "output_type": "stream",
     "text": [
      "Wall time: 156 ms\n"
     ]
    },
    {
     "data": {
      "text/plain": [
       "((17985, 31), (41958, 31))"
      ]
     },
     "execution_count": 28,
     "metadata": {},
     "output_type": "execute_result"
    }
   ],
   "source": [
    "%%time\n",
    "#filling the NA values according to the domain knowledge\n",
    "train[\"offspring\"].isna().sum()\n",
    "#data[\"offspring\"]=data[\"offspring\"].apply(lambda p:p.replace(\"&rsquo;\",\"o\"))\n",
    "train[\"offspring\"]=train[\"offspring\"].str.replace(\"&rsquo;\",\"o\")\n",
    "test[\"offspring\"]=test[\"offspring\"].str.replace(\"&rsquo;\",\"o\")\n",
    "\n",
    "train[\"offspring\"].fillna(\"prefer not to say\",inplace=True)\n",
    "\n",
    "test[\"offspring\"].fillna(\"prefer not to say\",inplace=True)\n",
    "test.shape,train.shape"
   ]
  },
  {
   "cell_type": "code",
   "execution_count": 29,
   "metadata": {},
   "outputs": [],
   "source": [
    "train[\"pets\"].fillna(\"dont like pets\",inplace=True)\n",
    "test[\"pets\"].fillna(\"dont like pets\",inplace=True)"
   ]
  },
  {
   "cell_type": "code",
   "execution_count": 30,
   "metadata": {},
   "outputs": [
    {
     "name": "stdout",
     "output_type": "stream",
     "text": [
      "Wall time: 0 ns\n"
     ]
    },
    {
     "data": {
      "text/plain": [
       "14104"
      ]
     },
     "execution_count": 30,
     "metadata": {},
     "output_type": "execute_result"
    }
   ],
   "source": [
    "%%time\n",
    "#filling the NA values according to the domain knowledge\n",
    "train[\"religion\"].isna().sum()"
   ]
  },
  {
   "cell_type": "code",
   "execution_count": 31,
   "metadata": {},
   "outputs": [
    {
     "name": "stdout",
     "output_type": "stream",
     "text": [
      "Wall time: 15.6 ms\n"
     ]
    }
   ],
   "source": [
    "%%time\n",
    "#filling the NA values according to the domain knowledge\n",
    "train[\"religion\"].fillna(\"prefer not to say\",inplace=True)\n",
    "test[\"religion\"].fillna(\"prefer not to say\",inplace=True)"
   ]
  },
  {
   "cell_type": "code",
   "execution_count": 32,
   "metadata": {},
   "outputs": [
    {
     "name": "stdout",
     "output_type": "stream",
     "text": [
      "Wall time: 15.6 ms\n"
     ]
    }
   ],
   "source": [
    "%%time\n",
    "#filling the NA values according to the domain knowledge\n",
    "train[\"smokes\"].isna().sum()\n",
    "train[\"smokes\"].fillna(\"prefer not to say\",inplace=True)\n",
    "test[\"smokes\"].fillna(\"prefer not to say\",inplace=True)"
   ]
  },
  {
   "cell_type": "code",
   "execution_count": 33,
   "metadata": {},
   "outputs": [
    {
     "name": "stdout",
     "output_type": "stream",
     "text": [
      "Wall time: 219 ms\n"
     ]
    }
   ],
   "source": [
    "%%time\n",
    "#filling the NA values according to the domain knowledge\n",
    "#removing the irrational taggs from the data\n",
    "train[\"sign\"]=train[\"sign\"].str.replace(\"&rsquo;\",\"\")\n",
    "test[\"sign\"]=test[\"sign\"].str.replace(\"&rsquo;\",\"\")\n",
    "\n",
    "train[\"sign\"].value_counts()\n",
    "train[\"sign\"].fillna(\"prefer not to say\",inplace=True)\n",
    "test[\"sign\"].fillna(\"prefer not to say\",inplace=True)"
   ]
  },
  {
   "cell_type": "code",
   "execution_count": 34,
   "metadata": {},
   "outputs": [
    {
     "name": "stdout",
     "output_type": "stream",
     "text": [
      "Wall time: 46.9 ms\n"
     ]
    }
   ],
   "source": [
    "%%time\n",
    "#filling the NA values according to the domain knowledge\n",
    "train[\"ethnicity\"].value_counts().sum()\n",
    "train[\"ethnicity\"].fillna(\"prefer not to say\",inplace=True)\n",
    "test[\"ethnicity\"].fillna(\"prefer not to say\",inplace=True)"
   ]
  },
  {
   "cell_type": "code",
   "execution_count": 35,
   "metadata": {},
   "outputs": [
    {
     "data": {
      "text/plain": [
       "1519     i'm not going to be able to sum myself up in t...\n",
       "529      i'm not macho and i don't need to prove anythi...\n",
       "41425    happy, easy, compassionate, excitable, want to...\n",
       "38814    living in the east bay currently, went to coll...\n",
       "16190    i'm a grounded, fun, outgoing, artistic, emoti...\n",
       "13858    student of life... if you saw me on a friday n...\n",
       "28691    i'm geminiacally versatile with eclectic and b...\n",
       "29057    i'm looking for someone with whom to experienc...\n",
       "45120    well hello there.<br />\\ni am a social kind a ...\n",
       "59899    i'm just me... to me, getting the know someone...\n",
       "23229    i keep a journal and i love music. i'm quiet a...\n",
       "47758    i am a happy person, i like my job, i love my ...\n",
       "14171    born and raised in san diego. moved to sf afte...\n",
       "3449     i like people but i'm usually shy when first m...\n",
       "24341                                                  NaN\n",
       "4523     poly-exploring texas boy transplanted joyously...\n",
       "46924         \"that it aint no sin to be glad your alive.\"\n",
       "12559    i am a free spirit who tries to find beauty an...\n",
       "53831    i'm 23, love to read, am a pretty big dork, an...\n",
       "22628    first things first - i am poly, happily marrie...\n",
       "Name: essay0, dtype: object"
      ]
     },
     "execution_count": 35,
     "metadata": {},
     "output_type": "execute_result"
    }
   ],
   "source": [
    "train[\"essay0\"].head(20)"
   ]
  },
  {
   "cell_type": "code",
   "execution_count": 36,
   "metadata": {},
   "outputs": [
    {
     "data": {
      "text/plain": [
       "array(['essay0', 'essay1', 'essay2', 'essay3', 'essay4', 'essay5',\n",
       "       'essay6', 'essay7', 'essay8', 'essay9'], dtype=object)"
      ]
     },
     "execution_count": 36,
     "metadata": {},
     "output_type": "execute_result"
    }
   ],
   "source": [
    "#getting the column names of essay0:essay9\n",
    "train.columns\n",
    "colnames_essay=train.columns.values[6:16]\n",
    "colnames_essay"
   ]
  },
  {
   "cell_type": "code",
   "execution_count": 37,
   "metadata": {},
   "outputs": [
    {
     "name": "stdout",
     "output_type": "stream",
     "text": [
      "Wall time: 13.5 s\n"
     ]
    }
   ],
   "source": [
    "%%time\n",
    "#cleaning the data to remove some irrational tags\n",
    "for col in colnames_essay:\n",
    "    train[col]=train[col].str.replace(\"<br />\",\"\")\n",
    "    train[col]=train[col].str.replace(\"/n\",\"\")\n",
    "    train[col]=train[col].str.replace(\"\\n\",\"\")\n",
    "    train[col]=train[col].str.replace(\":\",\" \")\n",
    "    train[col]=train[col].str.replace('<em>','')    \n",
    "    train[col]=train[col].str.replace('<strong>','')\n",
    "    test[col]=test[col].str.replace(\"<br />\",\"\")\n",
    "    test[col]=test[col].str.replace(\"/n\",\"\")\n",
    "    test[col]=test[col].str.replace(\"\\n\",\"\")\n",
    "    test[col]=test[col].str.replace(\":\",\" \")\n",
    "    test[col]=test[col].str.replace('<em>','')    \n",
    "    test[col]=test[col].str.replace('<strong>','')\n"
   ]
  },
  {
   "cell_type": "code",
   "execution_count": 38,
   "metadata": {},
   "outputs": [
    {
     "name": "stdout",
     "output_type": "stream",
     "text": [
      "1519     i'm not going to be able to sum myself up in t...\n",
      "529      i'm not macho and i don't need to prove anythi...\n",
      "41425    happy, easy, compassionate, excitable, want to...\n",
      "38814    living in the east bay currently, went to coll...\n",
      "16190    i'm a grounded, fun, outgoing, artistic, emoti...\n",
      "Name: essay0, dtype: object\n",
      "1519     loving san francisco. not that i have much to ...\n",
      "529                                                    NaN\n",
      "41425     trying to go to vet school, and have fun mostly.\n",
      "38814                                                  NaN\n",
      "16190    i'm pursuing my dream of acting and singing.i'...\n",
      "Name: essay1, dtype: object\n",
      "1519     cookingcreating awkward situationsmaking peopl...\n",
      "529      selecting friends. and feeding those relations...\n",
      "41425                                                  NaN\n",
      "38814    being present for my work, family &amp; friend...\n",
      "16190              typing, making coffee, making pancakes.\n",
      "Name: essay2, dtype: object\n",
      "1519     whether or not i am present.(in company)(there...\n",
      "529      my smile is big and sincere, eye contact and a...\n",
      "41425                        my weirdo asymmetric haircut.\n",
      "38814    i'm warm &amp; calm, excited to meet new peopl...\n",
      "16190                                   my name, my height\n",
      "Name: essay3, dtype: object\n",
      "1519     those are my favorites...these are things bett...\n",
      "529      this section is irrelevant to a connection.i h...\n",
      "41425    books  david sedaris, fantasy, malcolm gladwel...\n",
      "38814                                                  NaN\n",
      "16190    books  east of eden, ask and it it given, coll...\n",
      "Name: essay4, dtype: object\n",
      "1519     my favorites(see above)friendsphysical activit...\n",
      "529      i have everything thing i need and most of wha...\n",
      "41425    good food, friends, lovers, dogs, music and le...\n",
      "38814    1. q-tips2. my family &amp; friends3. the abil...\n",
      "16190    familylovefriendsgodintimacyartactingoperagosp...\n",
      "Name: essay5, dtype: object\n",
      "1519     funny scenes/stories that could go in a future...\n",
      "529                                                    NaN\n",
      "41425                                      my next meal...\n",
      "38814    how to get to the mountains &amp; jump in a (h...\n",
      "16190    new ways to cook food, men, acting, films, coffee\n",
      "Name: essay6, dtype: object\n",
      "1519                          doing whatever sounds fun...\n",
      "529                                                    NaN\n",
      "41425    either in watching movies, making a great meal...\n",
      "38814    either mustering up the energy to cook a delic...\n",
      "16190                   wining and dining, watching a film\n",
      "Name: essay7, dtype: object\n",
      "1519     when i hear someone say \"fickle\" i see, in my ...\n",
      "529      #1 i'm pretty open, but i will take your secre...\n",
      "41425                                                  NaN\n",
      "38814                                                  NaN\n",
      "16190                                     i love anchovies\n",
      "Name: essay8, dtype: object\n",
      "1519     there's more you would like to know..oryou lik...\n",
      "529      you have taken the time to express yourself wi...\n",
      "41425                                 you want to have fun\n",
      "38814    you are genuine, kind, pro-choice, and live in...\n",
      "16190                            your interested in a date\n",
      "Name: essay9, dtype: object\n",
      "Wall time: 62.5 ms\n"
     ]
    }
   ],
   "source": [
    "%%time\n",
    "#checking the column heads to get the overview of the data they contains \n",
    "for col in colnames_essay:\n",
    "    print(train[col].head(5))"
   ]
  },
  {
   "cell_type": "code",
   "execution_count": 39,
   "metadata": {},
   "outputs": [
    {
     "name": "stdout",
     "output_type": "stream",
     "text": [
      "Wall time: 93.8 ms\n"
     ]
    }
   ],
   "source": [
    "%%time\n",
    "#renaming the columns to be more specific details\n",
    "train.rename(columns={'essay0':'aboutme',\n",
    "                          'essay1':'work_profession_details',\n",
    "                          'essay2':'your_speciality','essay3':'describe_your_look','essay4':'your_interests',\n",
    "                    'essay4':'things_you_do','essay5':'things_you_love_todo','essay6':'things_you_love_todo1',\n",
    "                    'essay7':'things_you_prefer_todo','essay8':'what_brings_you_here','essay9':'pickup_lines'}, \n",
    "                 inplace=True)\n",
    "test.rename(columns={'essay0':'aboutme',\n",
    "                          'essay1':'work_profession_details',\n",
    "                          'essay2':'your_speciality','essay3':'describe_your_look','essay4':'your_interests',\n",
    "                    'essay4':'things_you_do','essay5':'things_you_love_todo','essay6':'things_you_love_todo1',\n",
    "                    'essay7':'things_you_prefer_todo','essay8':'what_brings_you_here','essay9':'pickup_lines'}, \n",
    "                 inplace=True)\n",
    " "
   ]
  },
  {
   "cell_type": "code",
   "execution_count": 40,
   "metadata": {},
   "outputs": [
    {
     "data": {
      "text/plain": [
       "Index(['age', 'body_type', 'diet', 'drinks', 'drugs', 'education', 'aboutme',\n",
       "       'work_profession_details', 'your_speciality', 'describe_your_look',\n",
       "       'things_you_do', 'things_you_love_todo', 'things_you_love_todo1',\n",
       "       'things_you_prefer_todo', 'what_brings_you_here', 'pickup_lines',\n",
       "       'ethnicity', 'height', 'income', 'job', 'last_online', 'location',\n",
       "       'offspring', 'orientation', 'pets', 'religion', 'sex', 'sign', 'smokes',\n",
       "       'speaks', 'status'],\n",
       "      dtype='object')"
      ]
     },
     "execution_count": 40,
     "metadata": {},
     "output_type": "execute_result"
    }
   ],
   "source": [
    "#checking the new column names\n",
    "train.columns"
   ]
  },
  {
   "cell_type": "code",
   "execution_count": 41,
   "metadata": {},
   "outputs": [
    {
     "name": "stdout",
     "output_type": "stream",
     "text": [
      "Wall time: 31.3 ms\n"
     ]
    }
   ],
   "source": [
    "%%time\n",
    "#colnames_essay_modified=list(train.columns.values[6:16])\n",
    "#colnames_essay_modified\n",
    "#for col in colnames_essay_modified:\n",
    "cleaned_datatrain=train.drop(train.columns[6:16], axis = 1) \n",
    "cleaned_datatest=test.drop(test.columns[6:16], axis = 1) \n",
    "#cleaned_data=data.dropna(subset=colnames_essay_modified,axis=1)"
   ]
  },
  {
   "cell_type": "code",
   "execution_count": 42,
   "metadata": {},
   "outputs": [
    {
     "data": {
      "text/plain": [
       "(17985, 21)"
      ]
     },
     "execution_count": 42,
     "metadata": {},
     "output_type": "execute_result"
    }
   ],
   "source": [
    "cleaned_datatest.shape"
   ]
  },
  {
   "cell_type": "code",
   "execution_count": 43,
   "metadata": {},
   "outputs": [
    {
     "data": {
      "text/plain": [
       "((17985, 21), (41958, 21))"
      ]
     },
     "execution_count": 43,
     "metadata": {},
     "output_type": "execute_result"
    }
   ],
   "source": [
    "cleaned_datatest.shape,cleaned_datatrain.shape"
   ]
  },
  {
   "cell_type": "code",
   "execution_count": 44,
   "metadata": {},
   "outputs": [],
   "source": [
    "cleaned_datatrain.to_csv(\"OKCUPID_cleaned_data_train.csv\",index=False)\n",
    "cleaned_datatest.to_csv(\"OKCUPID_cleaned_data_test.csv\",index=False)"
   ]
  },
  {
   "cell_type": "code",
   "execution_count": 45,
   "metadata": {},
   "outputs": [],
   "source": [
    "#import os\n",
    "#os.getcwd()\n"
   ]
  },
  {
   "cell_type": "markdown",
   "metadata": {},
   "source": [
    "# Explanatory Data Analysis"
   ]
  },
  {
   "cell_type": "code",
   "execution_count": 46,
   "metadata": {},
   "outputs": [],
   "source": [
    "# #checking the data of test and train for target column\n",
    "# #fucntion for the subplots to check the distribution of target 0 and 1\n",
    "# def plot_feature_target(df1,df2,label1,label2,features):\n",
    "#     #making the subplots of 10,10 \n",
    "#     fig,ax=plt.subplots(1,1,figsize=(18,22))\n",
    "#     #making a counter variable\n",
    "#     i=0\n",
    "#     #iterating over the loop for setting the counter variable to zero to 100\n",
    "#     for feature in features:\n",
    "#         i+=1\n",
    "#         plt.subplot(1,1,i)\n",
    "#         #creating a distplot to check the distribution of 0\n",
    "#         sns.countplot(df1[feature],label=label1)\n",
    "#         #creating a distplot to check the distribution of 1\n",
    "#         sns.countplot(df2[feature],label=label2)\n",
    "#         #setting the labels for the plot\n",
    "#         plt.xlabel(feature, fontsize=9)\n",
    "#         locs, labels = plt.xticks()\n",
    "#         plt.tick_params(axis='x', which='major', labelsize=6, pad=-6)\n",
    "#         plt.tick_params(axis='y', which='major', labelsize=6)\n",
    "#         #plt.xticks(np.arange(100), (train.features.values[2:102]))\n",
    "#         #plt.set_xticklabels(feature)\n",
    "#         #showing the plot\n",
    "#     plt.show()"
   ]
  },
  {
   "cell_type": "code",
   "execution_count": 47,
   "metadata": {},
   "outputs": [
    {
     "data": {
      "text/plain": [
       "<matplotlib.axes._subplots.AxesSubplot at 0x17709fb288>"
      ]
     },
     "execution_count": 47,
     "metadata": {},
     "output_type": "execute_result"
    },
    {
     "data": {
      "image/png": "[encoded data removed]",
      "text/plain": [
       "<Figure size 432x288 with 1 Axes>"
      ]
     },
     "metadata": {},
     "output_type": "display_data"
    }
   ],
   "source": [
    "#plot_feature_target(train,test,\"train\",\"test\",[\"status\"])\n",
    "#sns.countplot(train[\"status\"],label=\"train\")\n",
    "sns.countplot(test[\"status\"],label=\"test\")"
   ]
  },
  {
   "cell_type": "code",
   "execution_count": 48,
   "metadata": {},
   "outputs": [
    {
     "data": {
      "text/plain": [
       "3    16708\n",
       "2      611\n",
       "0      567\n",
       "1       95\n",
       "4        4\n",
       "Name: status_trans_le, dtype: int64"
      ]
     },
     "execution_count": 48,
     "metadata": {},
     "output_type": "execute_result"
    }
   ],
   "source": [
    "#label transforming the target column\n",
    "label=LabelEncoder()\n",
    "label.fit(train[\"status\"])\n",
    "train[\"status_trans_le\"]=label.transform(train[\"status\"])\n",
    "test[\"status_trans_le\"]=label.transform(test[\"status\"])\n",
    "test[\"status_trans_le\"].value_counts()"
   ]
  },
  {
   "cell_type": "code",
   "execution_count": 49,
   "metadata": {},
   "outputs": [
    {
     "data": {
      "text/plain": [
       "single            38987\n",
       "seeing someone     1453\n",
       "available          1297\n",
       "married             215\n",
       "unknown               6\n",
       "Name: status, dtype: int64"
      ]
     },
     "execution_count": 49,
     "metadata": {},
     "output_type": "execute_result"
    }
   ],
   "source": [
    "train.status.value_counts()"
   ]
  },
  {
   "cell_type": "code",
   "execution_count": 50,
   "metadata": {},
   "outputs": [
    {
     "data": {
      "image/png": "[encoded data removed]",
      "text/plain": [
       "<Figure size 720x432 with 1 Axes>"
      ]
     },
     "metadata": {},
     "output_type": "display_data"
    }
   ],
   "source": [
    "#lets see the height vs target columns\n",
    "plt.figure(figsize=(10,6))\n",
    "plt.title(\"Height vs target columns of the train data\")\n",
    "sns.scatterplot(train[\"height\"],train[\"status\"],hue=train[\"status\"])\n",
    "plt.xlabel(\"Age group\")\n",
    "plt.ylabel(\"Status of the person\")\n",
    "color=[\"red\",\"blue\",\"green\",\"yellow\",\"cyan\"]\n",
    "#plt.legend(color,[\"single\",\"seeing someone\",\"available\",\"married\",\"unknown\"])\n",
    "plt.legend()\n",
    "plt.show()"
   ]
  },
  {
   "cell_type": "code",
   "execution_count": 51,
   "metadata": {},
   "outputs": [
    {
     "data": {
      "image/png": "[encoded data removed]",
      "text/plain": [
       "<Figure size 864x576 with 1 Axes>"
      ]
     },
     "metadata": {},
     "output_type": "display_data"
    }
   ],
   "source": [
    "#checking the distribution of the height column\n",
    "plt.figure(figsize=(12,8))\n",
    "plt.title(\"Distribution of height test and train\")\n",
    "sns.distplot(train[\"height\"],label=\"train\",color=\"orange\",hist=False)\n",
    "sns.distplot(test[\"height\"],label=\"test\",color=\"green\",hist=False)\n",
    "plt.legend()\n",
    "plt.show()\n",
    "\n",
    "#as we can see that there is a bit difference in the test and train height column"
   ]
  },
  {
   "cell_type": "code",
   "execution_count": 52,
   "metadata": {},
   "outputs": [
    {
     "name": "stdout",
     "output_type": "stream",
     "text": [
      "<class 'pandas.core.frame.DataFrame'>\n",
      "Int64Index: 41958 entries, 1519 to 10862\n",
      "Data columns (total 32 columns):\n",
      "age                        41958 non-null object\n",
      "body_type                  41958 non-null object\n",
      "diet                       41958 non-null object\n",
      "drinks                     41958 non-null object\n",
      "drugs                      41958 non-null object\n",
      "education                  41958 non-null object\n",
      "aboutme                    38111 non-null object\n",
      "work_profession_details    36650 non-null object\n",
      "your_speciality            35264 non-null object\n",
      "describe_your_look         33989 non-null object\n",
      "things_you_do              34588 non-null object\n",
      "things_you_love_todo       34360 non-null object\n",
      "things_you_love_todo1      32359 non-null object\n",
      "things_you_prefer_todo     33308 non-null object\n",
      "what_brings_you_here       28595 non-null object\n",
      "pickup_lines               33170 non-null object\n",
      "ethnicity                  41958 non-null object\n",
      "height                     41958 non-null float64\n",
      "income                     41958 non-null object\n",
      "job                        41958 non-null object\n",
      "last_online                41958 non-null object\n",
      "location                   41958 non-null object\n",
      "offspring                  41958 non-null object\n",
      "orientation                41958 non-null object\n",
      "pets                       41958 non-null object\n",
      "religion                   41958 non-null object\n",
      "sex                        41958 non-null object\n",
      "sign                       41958 non-null object\n",
      "smokes                     41958 non-null object\n",
      "speaks                     41924 non-null object\n",
      "status                     41958 non-null object\n",
      "status_trans_le            41958 non-null int32\n",
      "dtypes: float64(1), int32(1), object(30)\n",
      "memory usage: 10.4+ MB\n"
     ]
    }
   ],
   "source": [
    "train.info()"
   ]
  },
  {
   "cell_type": "code",
   "execution_count": 53,
   "metadata": {},
   "outputs": [
    {
     "data": {
      "image/png": "[encoded data removed]",
      "text/plain": [
       "<Figure size 720x432 with 1 Axes>"
      ]
     },
     "metadata": {},
     "output_type": "display_data"
    },
    {
     "name": "stdout",
     "output_type": "stream",
     "text": [
      "Wall time: 13 s\n"
     ]
    }
   ],
   "source": [
    "%%time\n",
    "# t0=train.loc[train[\"status_trans_le\"]==0]\n",
    "# t1=train.loc[train[\"status_trans_le\"]==1]\n",
    "# t2=train.loc[train[\"status_trans_le\"]==2]\n",
    "# t3=train.loc[train[\"status_trans_le\"]==3]\n",
    "# t4=train.loc[train[\"status_trans_le\"]==4]\n",
    "#lets see the height vs target columns\n",
    "plt.figure(figsize=(10,6))\n",
    "plt.title(\"sex vs target columns of the train data\")\n",
    "sns.scatterplot(train[\"sex\"],train[\"status\"],hue=train[\"status\"])\n",
    "plt.xlabel(\"Sex of the person\")\n",
    "plt.ylabel(\"Status of the person\")\n",
    "#color=[\"red\",\"blue\",\"green\",\"yellow\",\"cyan\"]\n",
    "#plt.legend(color,[\"single\",\"seeing someone\",\"available\",\"married\",\"unknown\"])\n",
    "plt.legend()\n",
    "plt.show()"
   ]
  },
  {
   "cell_type": "code",
   "execution_count": 54,
   "metadata": {},
   "outputs": [
    {
     "data": {
      "text/plain": [
       "array(['m', 'f'], dtype=object)"
      ]
     },
     "execution_count": 54,
     "metadata": {},
     "output_type": "execute_result"
    }
   ],
   "source": [
    "train[\"sex\"].unique()"
   ]
  },
  {
   "cell_type": "code",
   "execution_count": 55,
   "metadata": {},
   "outputs": [
    {
     "data": {
      "text/plain": [
       "<Figure size 720x432 with 0 Axes>"
      ]
     },
     "metadata": {},
     "output_type": "display_data"
    },
    {
     "data": {
      "image/png": "[encoded data removed]",
      "text/plain": [
       "<Figure size 1152x576 with 2 Axes>"
      ]
     },
     "metadata": {},
     "output_type": "display_data"
    },
    {
     "name": "stdout",
     "output_type": "stream",
     "text": [
      "Wall time: 1.01 s\n"
     ]
    }
   ],
   "source": [
    "%%time\n",
    "data_sex_f=train.loc[train[\"sex\"]=='f']\n",
    "data_sex_m=train.loc[train[\"sex\"]=='m']\n",
    "sns.set_style('whitegrid')\n",
    "plt.figure(figsize=(10,6))\n",
    "fig, (ax1,ax2) = plt.subplots(1,2,figsize=(16,8))\n",
    "\n",
    "ax1.hist(data_sex_f[\"status\"],label=\"FEMALE vs TARGET\",color=\"green\",histtype=\"barstacked\")\n",
    "ax1.set_title(\"Female vs target columns of the train data\")\n",
    "#ax2.title(\"Female vs target columns of the train data\")\n",
    "ax2.hist(data_sex_m[\"status\"],label=\"MALE vs TARGET\",histtype=\"barstacked\")\n",
    "ax2.set_title(\"male vs target columns of the train data\")\n",
    "plt.legend()\n",
    "plt.show()\n"
   ]
  },
  {
   "cell_type": "markdown",
   "metadata": {},
   "source": [
    "# Lets add some feature engineering for EDA"
   ]
  },
  {
   "cell_type": "code",
   "execution_count": 56,
   "metadata": {},
   "outputs": [],
   "source": [
    "value=train.columns[6:16]"
   ]
  },
  {
   "cell_type": "code",
   "execution_count": 57,
   "metadata": {},
   "outputs": [
    {
     "name": "stdout",
     "output_type": "stream",
     "text": [
      "aboutme\n",
      "work_profession_details\n",
      "your_speciality\n",
      "describe_your_look\n",
      "things_you_do\n",
      "things_you_love_todo\n",
      "things_you_love_todo1\n",
      "things_you_prefer_todo\n",
      "what_brings_you_here\n",
      "pickup_lines\n"
     ]
    }
   ],
   "source": [
    "for val in value:\n",
    "    print(val)\n",
    "    cleaned_datatrain[\"len_\"+val]=train[val].str.findall(r'(\\w+)').str.len()\n",
    "    cleaned_datatest[\"len_\"+val]=test[val].str.findall(r'(\\w+)').str.len()\n",
    "    train[\"len_\"+val]=train[val].str.findall(r'(\\w+)').str.len()\n",
    "    test[\"len_\"+val]=test[val].str.findall(r'(\\w+)').str.len()"
   ]
  },
  {
   "cell_type": "code",
   "execution_count": 58,
   "metadata": {},
   "outputs": [
    {
     "data": {
      "text/plain": [
       "((17985, 31), (41958, 31))"
      ]
     },
     "execution_count": 58,
     "metadata": {},
     "output_type": "execute_result"
    }
   ],
   "source": [
    "cleaned_datatest.shape,cleaned_datatrain.shape"
   ]
  },
  {
   "cell_type": "code",
   "execution_count": 59,
   "metadata": {},
   "outputs": [
    {
     "data": {
      "text/html": [
       "<div>\n",
       "<style scoped>\n",
       "    .dataframe tbody tr th:only-of-type {\n",
       "        vertical-align: middle;\n",
       "    }\n",
       "\n",
       "    .dataframe tbody tr th {\n",
       "        vertical-align: top;\n",
       "    }\n",
       "\n",
       "    .dataframe thead th {\n",
       "        text-align: right;\n",
       "    }\n",
       "</style>\n",
       "<table border=\"1\" class=\"dataframe\">\n",
       "  <thead>\n",
       "    <tr style=\"text-align: right;\">\n",
       "      <th></th>\n",
       "      <th>age</th>\n",
       "      <th>body_type</th>\n",
       "      <th>diet</th>\n",
       "      <th>drinks</th>\n",
       "      <th>drugs</th>\n",
       "      <th>education</th>\n",
       "      <th>ethnicity</th>\n",
       "      <th>height</th>\n",
       "      <th>income</th>\n",
       "      <th>job</th>\n",
       "      <th>...</th>\n",
       "      <th>len_aboutme</th>\n",
       "      <th>len_work_profession_details</th>\n",
       "      <th>len_your_speciality</th>\n",
       "      <th>len_describe_your_look</th>\n",
       "      <th>len_things_you_do</th>\n",
       "      <th>len_things_you_love_todo</th>\n",
       "      <th>len_things_you_love_todo1</th>\n",
       "      <th>len_things_you_prefer_todo</th>\n",
       "      <th>len_what_brings_you_here</th>\n",
       "      <th>len_pickup_lines</th>\n",
       "    </tr>\n",
       "  </thead>\n",
       "  <tbody>\n",
       "    <tr>\n",
       "      <td>1519</td>\n",
       "      <td>24</td>\n",
       "      <td>athletic</td>\n",
       "      <td>strictly anything</td>\n",
       "      <td>socially</td>\n",
       "      <td>sometimes</td>\n",
       "      <td>space camp</td>\n",
       "      <td>white</td>\n",
       "      <td>74.0</td>\n",
       "      <td>20000</td>\n",
       "      <td>sales / marketing / biz dev</td>\n",
       "      <td>...</td>\n",
       "      <td>32.0</td>\n",
       "      <td>31.0</td>\n",
       "      <td>22.0</td>\n",
       "      <td>37.0</td>\n",
       "      <td>27.0</td>\n",
       "      <td>8.0</td>\n",
       "      <td>44.0</td>\n",
       "      <td>4.0</td>\n",
       "      <td>56.0</td>\n",
       "      <td>36.0</td>\n",
       "    </tr>\n",
       "    <tr>\n",
       "      <td>529</td>\n",
       "      <td>46</td>\n",
       "      <td>fit</td>\n",
       "      <td>anything</td>\n",
       "      <td>socially</td>\n",
       "      <td>prefer not to say</td>\n",
       "      <td>graduated from college/university</td>\n",
       "      <td>white</td>\n",
       "      <td>71.0</td>\n",
       "      <td>-1</td>\n",
       "      <td>sales / marketing / biz dev</td>\n",
       "      <td>...</td>\n",
       "      <td>502.0</td>\n",
       "      <td>NaN</td>\n",
       "      <td>132.0</td>\n",
       "      <td>12.0</td>\n",
       "      <td>22.0</td>\n",
       "      <td>111.0</td>\n",
       "      <td>NaN</td>\n",
       "      <td>NaN</td>\n",
       "      <td>51.0</td>\n",
       "      <td>13.0</td>\n",
       "    </tr>\n",
       "    <tr>\n",
       "      <td>41425</td>\n",
       "      <td>29</td>\n",
       "      <td>athletic</td>\n",
       "      <td>mostly anything</td>\n",
       "      <td>socially</td>\n",
       "      <td>sometimes</td>\n",
       "      <td>working on space camp</td>\n",
       "      <td>prefer not to say</td>\n",
       "      <td>65.0</td>\n",
       "      <td>1000000</td>\n",
       "      <td>student</td>\n",
       "      <td>...</td>\n",
       "      <td>21.0</td>\n",
       "      <td>10.0</td>\n",
       "      <td>NaN</td>\n",
       "      <td>4.0</td>\n",
       "      <td>59.0</td>\n",
       "      <td>8.0</td>\n",
       "      <td>3.0</td>\n",
       "      <td>11.0</td>\n",
       "      <td>NaN</td>\n",
       "      <td>5.0</td>\n",
       "    </tr>\n",
       "    <tr>\n",
       "      <td>38814</td>\n",
       "      <td>25</td>\n",
       "      <td>other</td>\n",
       "      <td>mostly vegetarian</td>\n",
       "      <td>socially</td>\n",
       "      <td>never</td>\n",
       "      <td>graduated from college/university</td>\n",
       "      <td>white</td>\n",
       "      <td>63.0</td>\n",
       "      <td>-1</td>\n",
       "      <td>medicine / health</td>\n",
       "      <td>...</td>\n",
       "      <td>46.0</td>\n",
       "      <td>NaN</td>\n",
       "      <td>24.0</td>\n",
       "      <td>19.0</td>\n",
       "      <td>NaN</td>\n",
       "      <td>36.0</td>\n",
       "      <td>41.0</td>\n",
       "      <td>28.0</td>\n",
       "      <td>NaN</td>\n",
       "      <td>19.0</td>\n",
       "    </tr>\n",
       "    <tr>\n",
       "      <td>16190</td>\n",
       "      <td>25</td>\n",
       "      <td>athletic</td>\n",
       "      <td>anything</td>\n",
       "      <td>socially</td>\n",
       "      <td>never</td>\n",
       "      <td>working on space camp</td>\n",
       "      <td>white</td>\n",
       "      <td>76.0</td>\n",
       "      <td>-1</td>\n",
       "      <td>hospitality / travel</td>\n",
       "      <td>...</td>\n",
       "      <td>43.0</td>\n",
       "      <td>20.0</td>\n",
       "      <td>5.0</td>\n",
       "      <td>4.0</td>\n",
       "      <td>54.0</td>\n",
       "      <td>1.0</td>\n",
       "      <td>9.0</td>\n",
       "      <td>6.0</td>\n",
       "      <td>3.0</td>\n",
       "      <td>5.0</td>\n",
       "    </tr>\n",
       "  </tbody>\n",
       "</table>\n",
       "<p>5 rows × 31 columns</p>\n",
       "</div>"
      ],
      "text/plain": [
       "      age body_type               diet    drinks              drugs  \\\n",
       "1519   24  athletic  strictly anything  socially          sometimes   \n",
       "529    46       fit           anything  socially  prefer not to say   \n",
       "41425  29  athletic    mostly anything  socially          sometimes   \n",
       "38814  25     other  mostly vegetarian  socially              never   \n",
       "16190  25  athletic           anything  socially              never   \n",
       "\n",
       "                               education          ethnicity  height   income  \\\n",
       "1519                          space camp              white    74.0    20000   \n",
       "529    graduated from college/university              white    71.0       -1   \n",
       "41425              working on space camp  prefer not to say    65.0  1000000   \n",
       "38814  graduated from college/university              white    63.0       -1   \n",
       "16190              working on space camp              white    76.0       -1   \n",
       "\n",
       "                               job  ... len_aboutme  \\\n",
       "1519   sales / marketing / biz dev  ...        32.0   \n",
       "529    sales / marketing / biz dev  ...       502.0   \n",
       "41425                      student  ...        21.0   \n",
       "38814            medicine / health  ...        46.0   \n",
       "16190         hospitality / travel  ...        43.0   \n",
       "\n",
       "      len_work_profession_details len_your_speciality len_describe_your_look  \\\n",
       "1519                         31.0                22.0                   37.0   \n",
       "529                           NaN               132.0                   12.0   \n",
       "41425                        10.0                 NaN                    4.0   \n",
       "38814                         NaN                24.0                   19.0   \n",
       "16190                        20.0                 5.0                    4.0   \n",
       "\n",
       "      len_things_you_do len_things_you_love_todo len_things_you_love_todo1  \\\n",
       "1519               27.0                      8.0                      44.0   \n",
       "529                22.0                    111.0                       NaN   \n",
       "41425              59.0                      8.0                       3.0   \n",
       "38814               NaN                     36.0                      41.0   \n",
       "16190              54.0                      1.0                       9.0   \n",
       "\n",
       "      len_things_you_prefer_todo len_what_brings_you_here len_pickup_lines  \n",
       "1519                         4.0                     56.0             36.0  \n",
       "529                          NaN                     51.0             13.0  \n",
       "41425                       11.0                      NaN              5.0  \n",
       "38814                       28.0                      NaN             19.0  \n",
       "16190                        6.0                      3.0              5.0  \n",
       "\n",
       "[5 rows x 31 columns]"
      ]
     },
     "execution_count": 59,
     "metadata": {},
     "output_type": "execute_result"
    }
   ],
   "source": [
    "cleaned_datatrain.head()"
   ]
  },
  {
   "cell_type": "code",
   "execution_count": 60,
   "metadata": {},
   "outputs": [
    {
     "name": "stdout",
     "output_type": "stream",
     "text": [
      "Wall time: 46.9 ms\n"
     ]
    }
   ],
   "source": [
    "%%time\n",
    "value=cleaned_datatest.iloc[:,21:].columns\n",
    "for val in value:\n",
    "    cleaned_datatrain[val].fillna(0,inplace=True)\n",
    "    cleaned_datatest[val].fillna(0,inplace=True)"
   ]
  },
  {
   "cell_type": "code",
   "execution_count": 61,
   "metadata": {},
   "outputs": [],
   "source": [
    "#dropping language column beacuse of too many unique values and shortage of time\n",
    "cleaned_datatrain.drop([\"speaks\"],axis=1,inplace=True)\n",
    "cleaned_datatest.drop([\"speaks\"],axis=1,inplace=True)\n"
   ]
  },
  {
   "cell_type": "code",
   "execution_count": 62,
   "metadata": {},
   "outputs": [],
   "source": [
    "#lets check the target column of the people who have descrited themselves well\n",
    "cleaned_datatest[\"status_trans_le\"]=test[\"status_trans_le\"]\n",
    "cleaned_datatrain[\"status_trans_le\"]=train[\"status_trans_le\"]"
   ]
  },
  {
   "cell_type": "code",
   "execution_count": 63,
   "metadata": {},
   "outputs": [
    {
     "data": {
      "text/plain": [
       "<matplotlib.axes._subplots.AxesSubplot at 0x1756b63b48>"
      ]
     },
     "execution_count": 63,
     "metadata": {},
     "output_type": "execute_result"
    },
    {
     "data": {
      "image/png": "[encoded data removed]",
      "text/plain": [
       "<Figure size 720x432 with 1 Axes>"
      ]
     },
     "metadata": {},
     "output_type": "display_data"
    }
   ],
   "source": [
    "plt.figure(figsize=(10,6))\n",
    "sns.scatterplot(cleaned_datatrain[\"len_aboutme\"],cleaned_datatrain[\"status\"])\n",
    "sns.scatterplot(cleaned_datatrain[\"len_describe_your_look\"],cleaned_datatrain[\"status\"])\n"
   ]
  },
  {
   "cell_type": "code",
   "execution_count": 64,
   "metadata": {},
   "outputs": [
    {
     "data": {
      "text/plain": [
       "<matplotlib.axes._subplots.AxesSubplot at 0x1700919888>"
      ]
     },
     "execution_count": 64,
     "metadata": {},
     "output_type": "execute_result"
    },
    {
     "data": {
      "image/png": "[encoded data removed]",
      "text/plain": [
       "<Figure size 720x432 with 1 Axes>"
      ]
     },
     "metadata": {},
     "output_type": "display_data"
    }
   ],
   "source": [
    "plt.figure(figsize=(10,6))\n",
    "sns.scatterplot(cleaned_datatrain[\"len_things_you_do\"],cleaned_datatrain[\"status\"])\n",
    "sns.scatterplot(cleaned_datatrain[\"len_things_you_love_todo\"],cleaned_datatrain[\"status\"])\n"
   ]
  },
  {
   "cell_type": "code",
   "execution_count": 65,
   "metadata": {},
   "outputs": [
    {
     "data": {
      "text/plain": [
       "<matplotlib.axes._subplots.AxesSubplot at 0x1710522f48>"
      ]
     },
     "execution_count": 65,
     "metadata": {},
     "output_type": "execute_result"
    },
    {
     "data": {
      "image/png": "[encoded data removed]",
      "text/plain": [
       "<Figure size 720x432 with 1 Axes>"
      ]
     },
     "metadata": {},
     "output_type": "display_data"
    }
   ],
   "source": [
    "plt.figure(figsize=(10,6))\n",
    "sns.scatterplot(cleaned_datatrain[\"len_things_you_prefer_todo\"],cleaned_datatrain[\"status\"])\n",
    "sns.scatterplot(cleaned_datatrain[\"len_what_brings_you_here\"],cleaned_datatrain[\"status\"])\n"
   ]
  },
  {
   "cell_type": "code",
   "execution_count": 66,
   "metadata": {},
   "outputs": [],
   "source": [
    "#changing the datatype of age column\n",
    "cleaned_datatrain[\"age\"]=cleaned_datatrain[\"age\"].astype('int')\n",
    "cleaned_datatest[\"age\"]=cleaned_datatest[\"age\"].astype('int')"
   ]
  },
  {
   "cell_type": "code",
   "execution_count": 67,
   "metadata": {},
   "outputs": [
    {
     "data": {
      "image/png": "[encoded data removed]",
      "text/plain": [
       "<Figure size 720x432 with 1 Axes>"
      ]
     },
     "metadata": {},
     "output_type": "display_data"
    }
   ],
   "source": [
    "plt.figure(figsize=(10,6))\n",
    "plt.title(\"age plot of train vs test\")\n",
    "sns.set_style('whitegrid')\n",
    "sns.distplot(cleaned_datatrain[\"age\"],label=\"train\",color=\"green\",kde=True,hist=True)\n",
    "sns.distplot(cleaned_datatest[\"age\"],label=\"test\",color=\"blue\",kde=True,hist=True)\n",
    "#cleaned_datatrain[\"age\"].plot(kde=True,kind=\"hist\",color=\"green\")\n",
    "plt.legend()\n",
    "plt.show()"
   ]
  },
  {
   "cell_type": "code",
   "execution_count": 68,
   "metadata": {},
   "outputs": [
    {
     "name": "stderr",
     "output_type": "stream",
     "text": [
      "No handles with labels found to put in legend.\n"
     ]
    },
    {
     "data": {
      "image/png": "[encoded data removed]",
      "text/plain": [
       "<Figure size 720x432 with 1 Axes>"
      ]
     },
     "metadata": {},
     "output_type": "display_data"
    }
   ],
   "source": [
    "plt.figure(figsize=(10,6))\n",
    "plt.title(\"train age vs status\")\n",
    "sns.set_style('whitegrid')\n",
    "sns.scatterplot(cleaned_datatrain[\"age\"],cleaned_datatrain[\"status\"],color=\"green\")\n",
    "plt.legend()\n",
    "plt.show()"
   ]
  },
  {
   "cell_type": "code",
   "execution_count": 69,
   "metadata": {},
   "outputs": [
    {
     "name": "stderr",
     "output_type": "stream",
     "text": [
      "No handles with labels found to put in legend.\n"
     ]
    },
    {
     "data": {
      "image/png": "[encoded data removed]",
      "text/plain": [
       "<Figure size 720x432 with 1 Axes>"
      ]
     },
     "metadata": {},
     "output_type": "display_data"
    }
   ],
   "source": [
    "#lets check the spread in the age column\n",
    "plt.figure(figsize=(10,6))\n",
    "plt.title(\"train age vs status\")\n",
    "sns.set_style('whitegrid')\n",
    "sns.violinplot(cleaned_datatrain[\"age\"],cleaned_datatrain[\"status\"])\n",
    "plt.legend()\n",
    "plt.show()"
   ]
  },
  {
   "cell_type": "code",
   "execution_count": 70,
   "metadata": {},
   "outputs": [
    {
     "name": "stderr",
     "output_type": "stream",
     "text": [
      "No handles with labels found to put in legend.\n"
     ]
    },
    {
     "data": {
      "image/png": "[encoded data removed]",
      "text/plain": [
       "<Figure size 720x432 with 1 Axes>"
      ]
     },
     "metadata": {},
     "output_type": "display_data"
    }
   ],
   "source": [
    "#lets check the outliers in the age column\n",
    "plt.figure(figsize=(10,6))\n",
    "plt.title(\"train age vs status\")\n",
    "sns.set_style('whitegrid')\n",
    "sns.boxplot(cleaned_datatrain[\"age\"],cleaned_datatrain[\"status\"])\n",
    "plt.legend()\n",
    "plt.show()"
   ]
  },
  {
   "cell_type": "code",
   "execution_count": 71,
   "metadata": {},
   "outputs": [
    {
     "name": "stderr",
     "output_type": "stream",
     "text": [
      "No handles with labels found to put in legend.\n"
     ]
    },
    {
     "data": {
      "image/png": "[encoded data removed]",
      "text/plain": [
       "<Figure size 720x432 with 1 Axes>"
      ]
     },
     "metadata": {},
     "output_type": "display_data"
    }
   ],
   "source": [
    "#lets check the outliers in the age column\n",
    "plt.figure(figsize=(10,6))\n",
    "plt.title(\"test age vs status\")\n",
    "sns.set_style('whitegrid')\n",
    "sns.boxplot(cleaned_datatest[\"age\"],cleaned_datatest[\"status\"])\n",
    "plt.legend()\n",
    "plt.show()"
   ]
  },
  {
   "cell_type": "code",
   "execution_count": 72,
   "metadata": {},
   "outputs": [],
   "source": [
    "def plot_scatterplot(df1, df2,features):\n",
    "    sns.set_style('whitegrid')\n",
    "    plt.figure()\n",
    "    i = 0\n",
    "    fig, ax = plt.subplots(4,3,figsize=(15,15))\n",
    "    for feature in features:\n",
    "        i += 1\n",
    "        plt.subplot(4,3,i)\n",
    "        plt.scatter(df1[feature], df2[feature], marker='*')\n",
    "        plt.xlabel(feature, fontsize=9)\n",
    "    plt.show();\n",
    "#checking the train and test data spread"
   ]
  },
  {
   "cell_type": "code",
   "execution_count": 73,
   "metadata": {},
   "outputs": [
    {
     "data": {
      "text/plain": [
       "((17985, 13), (41958, 13))"
      ]
     },
     "execution_count": 73,
     "metadata": {},
     "output_type": "execute_result"
    }
   ],
   "source": [
    "#to check the similarity between the test and train data hich we have splitted\n",
    "#cancatinating train columns of int and float \n",
    "integer_column_names=cleaned_datatrain.select_dtypes('int')\n",
    "float_col_names=cleaned_datatrain.select_dtypes('float')\n",
    "merged_df_train=pd.concat([integer_column_names,float_col_names],axis=1)\n",
    "#test numeric columns columns of int and float\n",
    "integer_column_names=cleaned_datatest.select_dtypes('int')\n",
    "float_col_names=cleaned_datatest.select_dtypes('float')\n",
    "merged_df_test=pd.concat([integer_column_names,float_col_names],axis=1)\n",
    "merged_df_test.shape,merged_df_train.shape"
   ]
  },
  {
   "cell_type": "code",
   "execution_count": 74,
   "metadata": {},
   "outputs": [
    {
     "name": "stdout",
     "output_type": "stream",
     "text": [
      "['age' 'status_trans_le' 'height' 'len_aboutme'\n",
      " 'len_work_profession_details' 'len_your_speciality'\n",
      " 'len_describe_your_look' 'len_things_you_do' 'len_things_you_love_todo'\n",
      " 'len_things_you_love_todo1' 'len_things_you_prefer_todo'\n",
      " 'len_what_brings_you_here' 'len_pickup_lines']\n"
     ]
    },
    {
     "ename": "ValueError",
     "evalue": "num must be 1 <= num <= 12, not 13",
     "output_type": "error",
     "traceback": [
      "\u001b[1;31m---------------------------------------------------------------------------\u001b[0m",
      "\u001b[1;31mValueError\u001b[0m                                Traceback (most recent call last)",
      "\u001b[1;32m<timed exec>\u001b[0m in \u001b[0;36m<module>\u001b[1;34m\u001b[0m\n",
      "\u001b[1;32m<ipython-input-72-3e7df04fef36>\u001b[0m in \u001b[0;36mplot_scatterplot\u001b[1;34m(df1, df2, features)\u001b[0m\n\u001b[0;32m      6\u001b[0m     \u001b[1;32mfor\u001b[0m \u001b[0mfeature\u001b[0m \u001b[1;32min\u001b[0m \u001b[0mfeatures\u001b[0m\u001b[1;33m:\u001b[0m\u001b[1;33m\u001b[0m\u001b[1;33m\u001b[0m\u001b[0m\n\u001b[0;32m      7\u001b[0m         \u001b[0mi\u001b[0m \u001b[1;33m+=\u001b[0m \u001b[1;36m1\u001b[0m\u001b[1;33m\u001b[0m\u001b[1;33m\u001b[0m\u001b[0m\n\u001b[1;32m----> 8\u001b[1;33m         \u001b[0mplt\u001b[0m\u001b[1;33m.\u001b[0m\u001b[0msubplot\u001b[0m\u001b[1;33m(\u001b[0m\u001b[1;36m4\u001b[0m\u001b[1;33m,\u001b[0m\u001b[1;36m3\u001b[0m\u001b[1;33m,\u001b[0m\u001b[0mi\u001b[0m\u001b[1;33m)\u001b[0m\u001b[1;33m\u001b[0m\u001b[1;33m\u001b[0m\u001b[0m\n\u001b[0m\u001b[0;32m      9\u001b[0m         \u001b[0mplt\u001b[0m\u001b[1;33m.\u001b[0m\u001b[0mscatter\u001b[0m\u001b[1;33m(\u001b[0m\u001b[0mdf1\u001b[0m\u001b[1;33m[\u001b[0m\u001b[0mfeature\u001b[0m\u001b[1;33m]\u001b[0m\u001b[1;33m,\u001b[0m \u001b[0mdf2\u001b[0m\u001b[1;33m[\u001b[0m\u001b[0mfeature\u001b[0m\u001b[1;33m]\u001b[0m\u001b[1;33m,\u001b[0m \u001b[0mmarker\u001b[0m\u001b[1;33m=\u001b[0m\u001b[1;34m'*'\u001b[0m\u001b[1;33m)\u001b[0m\u001b[1;33m\u001b[0m\u001b[1;33m\u001b[0m\u001b[0m\n\u001b[0;32m     10\u001b[0m         \u001b[0mplt\u001b[0m\u001b[1;33m.\u001b[0m\u001b[0mxlabel\u001b[0m\u001b[1;33m(\u001b[0m\u001b[0mfeature\u001b[0m\u001b[1;33m,\u001b[0m \u001b[0mfontsize\u001b[0m\u001b[1;33m=\u001b[0m\u001b[1;36m9\u001b[0m\u001b[1;33m)\u001b[0m\u001b[1;33m\u001b[0m\u001b[1;33m\u001b[0m\u001b[0m\n",
      "\u001b[1;32m~\\Anaconda3\\lib\\site-packages\\matplotlib\\pyplot.py\u001b[0m in \u001b[0;36msubplot\u001b[1;34m(*args, **kwargs)\u001b[0m\n\u001b[0;32m   1074\u001b[0m \u001b[1;33m\u001b[0m\u001b[0m\n\u001b[0;32m   1075\u001b[0m     \u001b[0mfig\u001b[0m \u001b[1;33m=\u001b[0m \u001b[0mgcf\u001b[0m\u001b[1;33m(\u001b[0m\u001b[1;33m)\u001b[0m\u001b[1;33m\u001b[0m\u001b[1;33m\u001b[0m\u001b[0m\n\u001b[1;32m-> 1076\u001b[1;33m     \u001b[0ma\u001b[0m \u001b[1;33m=\u001b[0m \u001b[0mfig\u001b[0m\u001b[1;33m.\u001b[0m\u001b[0madd_subplot\u001b[0m\u001b[1;33m(\u001b[0m\u001b[1;33m*\u001b[0m\u001b[0margs\u001b[0m\u001b[1;33m,\u001b[0m \u001b[1;33m**\u001b[0m\u001b[0mkwargs\u001b[0m\u001b[1;33m)\u001b[0m\u001b[1;33m\u001b[0m\u001b[1;33m\u001b[0m\u001b[0m\n\u001b[0m\u001b[0;32m   1077\u001b[0m     \u001b[0mbbox\u001b[0m \u001b[1;33m=\u001b[0m \u001b[0ma\u001b[0m\u001b[1;33m.\u001b[0m\u001b[0mbbox\u001b[0m\u001b[1;33m\u001b[0m\u001b[1;33m\u001b[0m\u001b[0m\n\u001b[0;32m   1078\u001b[0m     \u001b[0mbyebye\u001b[0m \u001b[1;33m=\u001b[0m \u001b[1;33m[\u001b[0m\u001b[1;33m]\u001b[0m\u001b[1;33m\u001b[0m\u001b[1;33m\u001b[0m\u001b[0m\n",
      "\u001b[1;32m~\\Anaconda3\\lib\\site-packages\\matplotlib\\figure.py\u001b[0m in \u001b[0;36madd_subplot\u001b[1;34m(self, *args, **kwargs)\u001b[0m\n\u001b[0;32m   1412\u001b[0m                     \u001b[0mself\u001b[0m\u001b[1;33m.\u001b[0m\u001b[0m_axstack\u001b[0m\u001b[1;33m.\u001b[0m\u001b[0mremove\u001b[0m\u001b[1;33m(\u001b[0m\u001b[0max\u001b[0m\u001b[1;33m)\u001b[0m\u001b[1;33m\u001b[0m\u001b[1;33m\u001b[0m\u001b[0m\n\u001b[0;32m   1413\u001b[0m \u001b[1;33m\u001b[0m\u001b[0m\n\u001b[1;32m-> 1414\u001b[1;33m             \u001b[0ma\u001b[0m \u001b[1;33m=\u001b[0m \u001b[0msubplot_class_factory\u001b[0m\u001b[1;33m(\u001b[0m\u001b[0mprojection_class\u001b[0m\u001b[1;33m)\u001b[0m\u001b[1;33m(\u001b[0m\u001b[0mself\u001b[0m\u001b[1;33m,\u001b[0m \u001b[1;33m*\u001b[0m\u001b[0margs\u001b[0m\u001b[1;33m,\u001b[0m \u001b[1;33m**\u001b[0m\u001b[0mkwargs\u001b[0m\u001b[1;33m)\u001b[0m\u001b[1;33m\u001b[0m\u001b[1;33m\u001b[0m\u001b[0m\n\u001b[0m\u001b[0;32m   1415\u001b[0m \u001b[1;33m\u001b[0m\u001b[0m\n\u001b[0;32m   1416\u001b[0m         \u001b[1;32mreturn\u001b[0m \u001b[0mself\u001b[0m\u001b[1;33m.\u001b[0m\u001b[0m_add_axes_internal\u001b[0m\u001b[1;33m(\u001b[0m\u001b[0mkey\u001b[0m\u001b[1;33m,\u001b[0m \u001b[0ma\u001b[0m\u001b[1;33m)\u001b[0m\u001b[1;33m\u001b[0m\u001b[1;33m\u001b[0m\u001b[0m\n",
      "\u001b[1;32m~\\Anaconda3\\lib\\site-packages\\matplotlib\\axes\\_subplots.py\u001b[0m in \u001b[0;36m__init__\u001b[1;34m(self, fig, *args, **kwargs)\u001b[0m\n\u001b[0;32m     57\u001b[0m                 \u001b[1;32mif\u001b[0m \u001b[0mnum\u001b[0m \u001b[1;33m<\u001b[0m \u001b[1;36m1\u001b[0m \u001b[1;32mor\u001b[0m \u001b[0mnum\u001b[0m \u001b[1;33m>\u001b[0m \u001b[0mrows\u001b[0m\u001b[1;33m*\u001b[0m\u001b[0mcols\u001b[0m\u001b[1;33m:\u001b[0m\u001b[1;33m\u001b[0m\u001b[1;33m\u001b[0m\u001b[0m\n\u001b[0;32m     58\u001b[0m                     raise ValueError(\n\u001b[1;32m---> 59\u001b[1;33m                         f\"num must be 1 <= num <= {rows*cols}, not {num}\")\n\u001b[0m\u001b[0;32m     60\u001b[0m                 self._subplotspec = GridSpec(\n\u001b[0;32m     61\u001b[0m                         rows, cols, figure=self.figure)[int(num) - 1]\n",
      "\u001b[1;31mValueError\u001b[0m: num must be 1 <= num <= 12, not 13"
     ]
    },
    {
     "data": {
      "text/plain": [
       "<Figure size 432x288 with 0 Axes>"
      ]
     },
     "metadata": {},
     "output_type": "display_data"
    },
    {
     "data": {
      "image/png": "[encoded data removed]",
      "text/plain": [
       "<Figure size 1080x1080 with 12 Axes>"
      ]
     },
     "metadata": {},
     "output_type": "display_data"
    }
   ],
   "source": [
    "%%time\n",
    "#this \n",
    "feature=merged_df_train.columns.values\n",
    "print(feature)\n",
    "plot_scatterplot(merged_df_train.sample(n=1500),merged_df_test.sample(n=1500),features=feature)"
   ]
  },
  {
   "cell_type": "code",
   "execution_count": 75,
   "metadata": {},
   "outputs": [
    {
     "data": {
      "text/plain": [
       "dtype('O')"
      ]
     },
     "execution_count": 75,
     "metadata": {},
     "output_type": "execute_result"
    }
   ],
   "source": [
    "cleaned_datatest[\"status\"].dtype"
   ]
  },
  {
   "cell_type": "code",
   "execution_count": 76,
   "metadata": {},
   "outputs": [],
   "source": [
    "dataset_object_colnames=[]\n",
    "for colname in cleaned_datatrain.columns:\n",
    "    if cleaned_datatest[colname].dtype=='O':\n",
    "        dataset_object_colnames.append(colname)"
   ]
  },
  {
   "cell_type": "code",
   "execution_count": 77,
   "metadata": {},
   "outputs": [
    {
     "data": {
      "text/plain": [
       "['body_type',\n",
       " 'diet',\n",
       " 'drinks',\n",
       " 'drugs',\n",
       " 'education',\n",
       " 'ethnicity',\n",
       " 'income',\n",
       " 'job',\n",
       " 'last_online',\n",
       " 'location',\n",
       " 'offspring',\n",
       " 'orientation',\n",
       " 'pets',\n",
       " 'religion',\n",
       " 'sex',\n",
       " 'sign',\n",
       " 'smokes',\n",
       " 'status']"
      ]
     },
     "execution_count": 77,
     "metadata": {},
     "output_type": "execute_result"
    }
   ],
   "source": [
    "dataset_object_colnames"
   ]
  },
  {
   "cell_type": "code",
   "execution_count": 78,
   "metadata": {},
   "outputs": [],
   "source": [
    "# for i in dataset_object_colnames:\n",
    "#     print(i)\n",
    "#     cleaned_datatrain[i]=cleaned_datatrain[i].str.replace(\"<\",\"\")\n",
    "#     cleaned_datatest[i]=cleaned_datatest[i].str.replace(\"<\",\"\")\n",
    "cleaned_datatrain[\"income\"]=cleaned_datatrain[\"income\"].astype('float')\n",
    "cleaned_datatest[\"income\"]=cleaned_datatest[\"income\"].astype('float')\n",
    "#cleaned_datatrain[\"last_online\"]=cleaned_datatrain[\"last_online\"].to_date()\n",
    "cleaned_datatrain.drop(['last_online'],axis=1,inplace=True)\n",
    "cleaned_datatest.drop(['last_online'],axis=1,inplace=True)"
   ]
  },
  {
   "cell_type": "code",
   "execution_count": 79,
   "metadata": {},
   "outputs": [
    {
     "name": "stdout",
     "output_type": "stream",
     "text": [
      "Wall time: 1.15 s\n"
     ]
    }
   ],
   "source": [
    "%%time\n",
    "#label encoding all the columns \n",
    "label=LabelEncoder()\n",
    "# for i in dataset_object_colnames:\n",
    "#     print(i)\n",
    "#     cleaned_datatrain[i]=label.fit_transform(cleaned_datatrain[i])\n",
    "#     cleaned_datatest[i]=label.fit_transform(cleaned_datatest[i])\n",
    "cleaned_datatrain[\"body_type\"]=label.fit_transform(cleaned_datatrain[\"body_type\"])\n",
    "cleaned_datatest[\"body_type\"]=label.fit_transform(cleaned_datatest[\"body_type\"])\n",
    "\n",
    "cleaned_datatrain[\"job\"]=label.fit_transform(cleaned_datatrain[\"job\"])\n",
    "cleaned_datatest[\"job\"]=label.fit_transform(cleaned_datatest[\"job\"])\n",
    "\n",
    "cleaned_datatrain[\"diet\"]=label.fit_transform(cleaned_datatrain[\"diet\"])\n",
    "cleaned_datatest[\"diet\"]=label.fit_transform(cleaned_datatest[\"diet\"])\n",
    "\n",
    "cleaned_datatrain[\"drinks\"]=label.fit_transform(cleaned_datatrain[\"drinks\"])\n",
    "cleaned_datatest[\"drinks\"]=label.fit_transform(cleaned_datatest[\"drinks\"])\n",
    "\n",
    "cleaned_datatrain[\"drugs\"]=label.fit_transform(cleaned_datatrain[\"drugs\"])\n",
    "cleaned_datatest[\"drugs\"]=label.fit_transform(cleaned_datatest[\"drugs\"])\n",
    "\n",
    "cleaned_datatrain[\"education\"]=label.fit_transform(cleaned_datatrain[\"education\"])\n",
    "cleaned_datatest[\"education\"]=label.fit_transform(cleaned_datatest[\"education\"])\n",
    "\n",
    "cleaned_datatrain[\"offspring\"]=label.fit_transform(cleaned_datatrain[\"offspring\"])\n",
    "cleaned_datatest[\"offspring\"]=label.fit_transform(cleaned_datatest[\"offspring\"])\n",
    "\n",
    "\n",
    "cleaned_datatrain[\"orientation\"]=label.fit_transform(cleaned_datatrain[\"orientation\"])\n",
    "cleaned_datatest[\"orientation\"]=label.fit_transform(cleaned_datatest[\"orientation\"])\n",
    "\n",
    "\n",
    "cleaned_datatrain[\"pets\"]=label.fit_transform(cleaned_datatrain[\"pets\"])\n",
    "cleaned_datatest[\"pets\"]=label.fit_transform(cleaned_datatest[\"pets\"])\n",
    "\n",
    "\n",
    "cleaned_datatrain[\"religion\"]=label.fit_transform(cleaned_datatrain[\"religion\"])\n",
    "cleaned_datatest[\"religion\"]=label.fit_transform(cleaned_datatest[\"religion\"])\n",
    "\n",
    "\n",
    "cleaned_datatrain[\"sex\"]=label.fit_transform(cleaned_datatrain[\"sex\"])\n",
    "cleaned_datatest[\"sex\"]=label.fit_transform(cleaned_datatest[\"sex\"])\n",
    "\n",
    "\n",
    "cleaned_datatrain[\"sign\"]=label.fit_transform(cleaned_datatrain[\"sign\"])\n",
    "cleaned_datatest[\"sign\"]=label.fit_transform(cleaned_datatest[\"sign\"])\n",
    "\n",
    "\n",
    "cleaned_datatrain[\"smokes\"]=label.fit_transform(cleaned_datatrain[\"smokes\"])\n",
    "cleaned_datatest[\"smokes\"]=label.fit_transform(cleaned_datatest[\"smokes\"])"
   ]
  },
  {
   "cell_type": "code",
   "execution_count": 80,
   "metadata": {},
   "outputs": [
    {
     "data": {
      "text/plain": [
       "array(['california', 'newyork', 'arizona', 'louisiana', 'oregon',\n",
       "       'virginia', 'massachusetts', 'newjersey', 'rhodeisland', 'utah',\n",
       "       'missouri', 'vietnam', 'florida', 'montana', 'connecticut',\n",
       "       'michigan', 'nevada', 'unitedkingdom', 'texas', 'hawaii',\n",
       "       'illinois'], dtype=object)"
      ]
     },
     "execution_count": 80,
     "metadata": {},
     "output_type": "execute_result"
    }
   ],
   "source": [
    "locations=pd.DataFrame(list(cleaned_datatest[\"location\"].str.split(\",\")))\n",
    "locations.columns=['a','b']\n",
    "\n",
    "locations['b']=locations['b'].str.replace(\" \",\"\")\n",
    "locations['b'].unique()"
   ]
  },
  {
   "cell_type": "code",
   "execution_count": 81,
   "metadata": {},
   "outputs": [],
   "source": [
    "#cleaned_datatrain[\"location\"]=\n",
    "#label encoding the locations in train\n",
    "locations=pd.DataFrame(list(cleaned_datatrain[\"location\"].str.split(pat=\",\")))\n",
    "locations.columns=['a','b','c']\n",
    "locations['b']=locations['b'].str.replace(\" \",\"\")\n",
    "cleaned_datatrain[\"location\"]=locations['b']\n",
    "\n",
    "cleaned_datatrain[\"location\"]=cleaned_datatrain[\"location\"].map({'california':0, 'districtofcolumbia':1, 'newyork':2, 'oregon':3,\n",
    "                                                                 'minnesota':4, 'michigan':5, 'washington':6, 'switzerland':7,\n",
    "                                                                 'mexico':8,'texas':9, 'ireland':10, 'pennsylvania':11, 'illinois':12,\n",
    "                                                                 'virginia':13,'massachusetts':14, 'germany':15, 'spain':16, 'netherlands':17,\n",
    "                                                                 'wisconsin':18,'colorado':19,  'florida':20, 'idaho':21, 'arizona':22,\n",
    "                                                                 'britishcolumbia':23, 'northcarolina':24, 'westvirginia':25, 'ohio':26,\n",
    "                                                                 'tennessee':27,  'georgia':28, 'hawaii':29, 'mississippi':30,'unitedkingdom':31,'utah':32,\n",
    "                                                                 'vietnam':33,'nevada':34,'montana':35,'connecticut':36, 'newjersey':37,\n",
    "                                                                 'rhodeisland':38,'louisiana':39})\n",
    "\n"
   ]
  },
  {
   "cell_type": "code",
   "execution_count": 82,
   "metadata": {},
   "outputs": [],
   "source": [
    "#cleaned_datatrain[\"location\"]=label.fit_transform(cleaned_datatrain[\"location\"])\n",
    "#label encoding the locations in test\n",
    "locations=pd.DataFrame(list(cleaned_datatest[\"location\"].str.split(pat=\",\")))\n",
    "locations.columns=['a','b']\n",
    "\n",
    "locations['b']=locations['b'].str.replace(\" \",\"\")\n",
    "cleaned_datatest[\"location\"]=locations['b']\n",
    "cleaned_datatest[\"location\"]=cleaned_datatest[\"location\"].map({'california':0, 'districtofcolumbia':1, 'newyork':2, 'oregon':3,\n",
    "                                                                 'minnesota':4, 'michigan':5, 'washington':6, 'switzerland':7,\n",
    "                                                                 'mexico':8,'texas':9, 'ireland':10, 'pennsylvania':11, 'illinois':12,\n",
    "                                                                 'virginia':13,'massachusetts':14, 'germany':15, 'spain':16, 'netherlands':17,'wisconsin':18,'colorado':19,  'florida':20, 'idaho':21, 'arizona':22,\n",
    "                                                                 'britishcolumbia':23, 'northcarolina':24, 'westvirginia':25, 'ohio':26,\n",
    "                                                                 'tennessee':27,  'georgia':28, 'hawaii':29, 'mississippi':30,'unitedkingdom':31,'utah':32,\n",
    "                                                                 'vietnam':33,'nevada':34,'montana':35,'connecticut':36, 'newjersey':37,\n",
    "                                                                 'rhodeisland':38,'louisiana':39})\n",
    "#cleaned_datatest[\"location\"]=label.fit_transform(cleaned_datatest[\"location\"])\n"
   ]
  },
  {
   "cell_type": "code",
   "execution_count": 83,
   "metadata": {},
   "outputs": [],
   "source": [
    "cleaned_datatrain[\"location\"].fillna(40.0,inplace=True)\n",
    "cleaned_datatest[\"location\"].fillna(40.0,inplace=True)"
   ]
  },
  {
   "cell_type": "code",
   "execution_count": 84,
   "metadata": {},
   "outputs": [],
   "source": [
    "cleaned_datatest.drop([\"ethnicity\"],axis=1,inplace=True)\n",
    "cleaned_datatrain.drop([\"ethnicity\"],axis=1,inplace=True)\n"
   ]
  },
  {
   "cell_type": "code",
   "execution_count": 85,
   "metadata": {},
   "outputs": [
    {
     "data": {
      "text/plain": [
       "((41958, 29), (17985, 29))"
      ]
     },
     "execution_count": 85,
     "metadata": {},
     "output_type": "execute_result"
    }
   ],
   "source": [
    "cleaned_datatrain.shape,cleaned_datatest.shape"
   ]
  },
  {
   "cell_type": "code",
   "execution_count": 86,
   "metadata": {},
   "outputs": [
    {
     "name": "stdout",
     "output_type": "stream",
     "text": [
      "(41958, 28)_(41958,)and test shape is (17985, 28)_(17985,)\n"
     ]
    }
   ],
   "source": [
    "train_cleaned_x=cleaned_datatrain.drop([\"status\"],axis=1)\n",
    "train_cleaned_y=cleaned_datatrain[\"status_trans_le\"]\n",
    "test_cleaned_x=cleaned_datatest.drop([\"status\"],axis=1)\n",
    "test_cleaned_y=cleaned_datatest[\"status_trans_le\"]\n",
    "print(str(train_cleaned_x.shape)+\"_\"+str(train_cleaned_y.shape)+\"and test shape is \"+str(test_cleaned_x.shape)+\"_\"+str(test_cleaned_y.shape))"
   ]
  },
  {
   "cell_type": "markdown",
   "metadata": {},
   "source": [
    "# MODELING PROCESS"
   ]
  },
  {
   "cell_type": "code",
   "execution_count": 88,
   "metadata": {},
   "outputs": [],
   "source": [
    "from sklearn.svm import SVC\n",
    "import lightgbm as lgb\n",
    "from sklearn.linear_model import LogisticRegression,SGDClassifier\n",
    "from xgboost.sklearn import XGBClassifier\n",
    "from lightgbm import LGBMClassifier\n",
    "from sklearn.ensemble import RandomForestClassifier,AdaBoostClassifier,ExtraTreesClassifier,GradientBoostingClassifier"
   ]
  },
  {
   "cell_type": "code",
   "execution_count": 90,
   "metadata": {},
   "outputs": [],
   "source": [
    "lrc=LogisticRegression(class_weight=\"balanced\",n_jobs=-1,verbose=2)\n",
    "sgc=SGDClassifier(class_weight=\"balanced\",n_jobs=-1,verbose=2)\n",
    "rfc=RandomForestClassifier(class_weight=\"balanced\",n_jobs=-1,verbose=2)\n",
    "abc=AdaBoostClassifier(base_estimator=RandomForestClassifier(class_weight=\"balanced\",n_jobs=-1,verbose=2))\n",
    "etc=ExtraTreesClassifier(class_weight=\"balanced\",n_jobs=-1,verbose=2)\n",
    "#gbc=GradientBoostingClassifier(class_weight=\"balanced\")\n",
    "xgc=XGBClassifier(class_weight=\"balanced\",n_jobs=-1,verbose=2)\n",
    "lgbc=LGBMClassifier(class_weight=\"balanced\",n_jobs=-1,verbose=2)"
   ]
  },
  {
   "cell_type": "code",
   "execution_count": 91,
   "metadata": {},
   "outputs": [
    {
     "name": "stdout",
     "output_type": "stream",
     "text": [
      "[LibLinear]"
     ]
    },
    {
     "name": "stderr",
     "output_type": "stream",
     "text": [
      "[Parallel(n_jobs=-1)]: Using backend ThreadingBackend with 4 concurrent workers.\n"
     ]
    },
    {
     "name": "stdout",
     "output_type": "stream",
     "text": [
      "-- Epoch 1-- Epoch 1-- Epoch 1\n",
      "-- Epoch 1\n",
      "\n",
      "\n",
      "Norm: 191913.26, NNZs: 28, Bias: -486.652152, T: 41958, Avg. loss: 5930224824.406983\n",
      "Total training time: 0.06 seconds.\n",
      "-- Epoch 2\n",
      "Norm: 904671.15, NNZs: 28, Bias: -295.785583, T: 41958, Avg. loss: 13845717298.257692\n",
      "Total training time: 0.06 seconds.\n",
      "-- Epoch 2\n",
      "Norm: 477952.81, NNZs: 28, Bias: -672.143408, T: 41958, Avg. loss: 9742996041.177927\n",
      "Total training time: 0.06 seconds.\n",
      "Norm: 153767.08, NNZs: 28, Bias: 62.274543, T: 41958, Avg. loss: 2313050730.178548-- Epoch 2\n",
      "\n",
      "Total training time: 0.05 seconds.\n",
      "-- Epoch 2\n",
      "Norm: 75819.10, NNZs: 28, Bias: -313.865022, T: 83916, Avg. loss: 8876257071.043177\n",
      "Norm: 3113.35, NNZs: 28, Bias: -472.305960, T: 83916, Avg. loss: 974790731.692227\n",
      "Norm: 106967.20, NNZs: 28, Bias: -674.487859, T: 83916, Avg. loss: 1460974463.433081Total training time: 0.09 seconds.\n",
      "\n",
      "-- Epoch 3\n",
      "Total training time: 0.09 seconds.\n",
      "-- Epoch 3\n",
      "Norm: 16986.91, NNZs: 28, Bias: 65.253227, T: 83916, Avg. loss: 322766212.596135Total training time: 0.11 seconds.\n",
      "Total training time: 0.08 seconds.\n",
      "\n",
      "-- Epoch 3-- Epoch 3\n",
      "\n",
      "Norm: 44365.27, NNZs: 28, Bias: -680.466767, T: 125874, Avg. loss: 678312468.407196\n",
      "Total training time: 0.13 seconds.\n",
      "-- Epoch 4\n",
      "Norm: 4205.66, NNZs: 28, Bias: -319.493193, T: 125874, Avg. loss: 4347348595.561078\n",
      "Total training time: 0.14 seconds.\n",
      "Norm: 112405.64, NNZs: 28, Bias: -468.374377, T: 125874, Avg. loss: 459786712.046189-- Epoch 4\n",
      "\n",
      "Total training time: 0.16 seconds.\n",
      "-- Epoch 4\n",
      "Norm: 58154.10, NNZs: 28, Bias: -682.712100, T: 167832, Avg. loss: 493868510.855973\n",
      "Total training time: 0.17 seconds.\n",
      "-- Epoch 5\n",
      "Norm: 1676.72, NNZs: 28, Bias: 64.610727, T: 125874, Avg. loss: 137375360.512028\n",
      "Total training time: 0.17 seconds.\n",
      "-- Epoch 4\n",
      "Norm: 44904.59, NNZs: 28, Bias: -337.471552, T: 167832, Avg. loss: 3979061571.360035\n",
      "Total training time: 0.19 seconds.\n",
      "-- Epoch 5\n",
      "Norm: 4589.94, NNZs: 28, Bias: -682.555704, T: 209790, Avg. loss: 493085851.969654\n",
      "Total training time: 0.22 seconds.\n",
      "-- Epoch 6Norm: 3301.84, NNZs: 28, Bias: -467.254783, T: 167832, Avg. loss: 453412254.634695\n",
      "Total training time: 0.23 seconds.\n",
      "-- Epoch 5\n",
      "\n",
      "Norm: 20774.18, NNZs: 28, Bias: -329.125090, T: 209790, Avg. loss: 3255679216.386164\n",
      "Total training time: 0.22 seconds.\n",
      "-- Epoch 6\n",
      "Norm: 4526.24, NNZs: 28, Bias: -682.305473, T: 251748, Avg. loss: 411303331.947911\n",
      "Total training time: 0.25 seconds.\n",
      "-- Epoch 7\n",
      "Norm: 8837.41, NNZs: 28, Bias: 65.462251, T: 167832, Avg. loss: 123760179.344314\n",
      "Total training time: 0.25 seconds.\n",
      "-- Epoch 5\n",
      "Norm: 851531.50, NNZs: 28, Bias: -337.364817, T: 251748, Avg. loss: 2213419193.587545\n",
      "Total training time: 0.27 seconds.Norm: 2053.30, NNZs: 28, Bias: -466.916641, T: 209790, Avg. loss: 348480192.021372\n",
      "-- Epoch 7\n",
      "\n",
      "Total training time: 0.28 seconds.\n",
      "-- Epoch 6\n",
      "Norm: 20000.62, NNZs: 28, Bias: -333.774987, T: 293706, Avg. loss: 1686773468.194892\n",
      "Total training time: 0.32 seconds.\n",
      "-- Epoch 8\n",
      "Norm: 896.68, NNZs: 28, Bias: 65.396217, T: 209790, Avg. loss: 94985972.987077\n",
      "Total training time: 0.30 seconds.\n",
      "-- Epoch 6Norm: 56695.05, NNZs: 28, Bias: -688.001678, T: 293706, Avg. loss: 283398384.164257\n",
      "\n",
      "Total training time: 0.33 seconds.\n",
      "-- Epoch 8\n",
      "Norm: 4199.17, NNZs: 28, Bias: -464.451504, T: 251748, Avg. loss: 240962425.339630\n",
      "Total training time: 0.36 seconds.\n",
      "-- Epoch 7\n",
      "Norm: 468993.20, NNZs: 28, Bias: -340.214294, T: 335664, Avg. loss: 1721211564.412411\n",
      "Norm: 4181.83, NNZs: 28, Bias: -686.716599, T: 335664, Avg. loss: 261946547.765587Norm: 967.31, NNZs: 28, Bias: 65.505334, T: 251748, Avg. loss: 79213278.122481\n",
      "Total training time: 0.35 seconds.\n",
      "-- Epoch 7\n",
      "Total training time: 0.37 seconds.\n",
      "\n",
      "Total training time: 0.37 seconds.\n",
      "-- Epoch 9-- Epoch 9\n",
      "\n",
      "Norm: 252853.67, NNZs: 28, Bias: -333.395899, T: 377622, Avg. loss: 1680062428.939254\n",
      "Total training time: 0.40 seconds.\n",
      "-- Epoch 10\n",
      "Norm: 2939.15, NNZs: 28, Bias: -463.877109, T: 293706, Avg. loss: 178030121.807774\n",
      "Total training time: 0.43 seconds.\n",
      "-- Epoch 8Norm: 9777.01, NNZs: 28, Bias: -689.501196, T: 377622, Avg. loss: 232428718.330968\n",
      "Total training time: 0.41 seconds.\n",
      "-- Epoch 10\n",
      "\n",
      "Norm: 5964.69, NNZs: 28, Bias: 65.024589, T: 293706, Avg. loss: 54577276.040090\n",
      "Total training time: 0.42 seconds.\n",
      "-- Epoch 8\n",
      "Norm: 1783.42, NNZs: 28, Bias: -464.260759, T: 335664, Avg. loss: 196889426.151524\n",
      "Total training time: 0.46 seconds.\n",
      "-- Epoch 9\n",
      "Norm: 19471.32, NNZs: 28, Bias: -690.165345, T: 419580, Avg. loss: 217351688.252516Norm: 4098.74, NNZs: 28, Bias: -337.127058, T: 419580, Avg. loss: 1496729906.214020\n",
      "Total training time: 0.45 seconds.\n",
      "-- Epoch 11\n",
      "\n",
      "Total training time: 0.46 seconds.\n",
      "-- Epoch 11\n",
      "Norm: 885.96, NNZs: 28, Bias: 65.251521, T: 335664, Avg. loss: 54065994.374655\n",
      "Total training time: 0.45 seconds.\n",
      "-- Epoch 9\n",
      "Norm: 9363.00, NNZs: 28, Bias: -690.943187, T: 461538, Avg. loss: 197946801.355834\n",
      "Total training time: 0.49 seconds.\n",
      "-- Epoch 12\n",
      "Norm: 1829.55, NNZs: 28, Bias: -464.152689, T: 377622, Avg. loss: 183117145.693860\n",
      "Total training time: 0.52 seconds.\n",
      "-- Epoch 10\n",
      "Norm: 3336.72, NNZs: 28, Bias: -334.097233, T: 461538, Avg. loss: 911311905.949853\n",
      "Total training time: 0.52 seconds.Norm: 804.58, NNZs: 28, Bias: 65.151578, T: 377622, Avg. loss: 51704440.465877\n",
      "\n",
      "Total training time: 0.51 seconds.\n",
      "-- Epoch 10\n",
      "-- Epoch 12\n",
      "Norm: 4517.40, NNZs: 28, Bias: -690.633338, T: 503496, Avg. loss: 172152133.040188\n",
      "Total training time: 0.53 seconds.\n",
      "-- Epoch 13\n",
      "Norm: 3093.51, NNZs: 28, Bias: -463.280328, T: 419580, Avg. loss: 160158899.741173\n",
      "Total training time: 0.56 seconds.\n",
      "-- Epoch 11\n",
      "Norm: 3181.48, NNZs: 28, Bias: -336.182122, T: 503496, Avg. loss: 843830371.270405\n",
      "Total training time: 0.55 seconds.\n",
      "-- Epoch 13\n",
      "Norm: 3693.75, NNZs: 28, Bias: -691.986501, T: 545454, Avg. loss: 146447445.429149\n",
      "Total training time: 0.56 seconds.\n",
      "-- Epoch 14\n",
      "Norm: 3681.12, NNZs: 28, Bias: 65.196723, T: 419580, Avg. loss: 46996829.643187\n",
      "Total training time: 0.55 seconds.\n",
      "-- Epoch 11\n",
      "Norm: 6998.01, NNZs: 28, Bias: -463.184574, T: 461538, Avg. loss: 156018388.744631\n",
      "Total training time: 0.59 seconds.\n",
      "-- Epoch 12\n",
      "Norm: 3274.02, NNZs: 28, Bias: -337.775533, T: 545454, Avg. loss: 1097778879.233283\n",
      "Total training time: 0.58 seconds.\n",
      "-- Epoch 14\n",
      "Norm: 3733.71, NNZs: 28, Bias: -691.734328, T: 587412, Avg. loss: 162094532.872815\n",
      "Total training time: 0.60 seconds.\n",
      "-- Epoch 15\n",
      "Norm: 811.76, NNZs: 28, Bias: 64.821330, T: 461538, Avg. loss: 37866594.269915\n",
      "Total training time: 0.59 seconds.\n",
      "-- Epoch 12\n",
      "Norm: 4964.33, NNZs: 28, Bias: -462.503876, T: 503496, Avg. loss: 134363618.044421\n",
      "Total training time: 0.63 seconds.\n",
      "-- Epoch 13\n",
      "Norm: 3313.86, NNZs: 28, Bias: -337.661011, T: 587412, Avg. loss: 711342909.624393\n",
      "Total training time: 0.62 seconds.\n",
      "-- Epoch 15\n",
      "Norm: 3602.33, NNZs: 28, Bias: -692.674116, T: 629370, Avg. loss: 146581210.070835Norm: 17933.87, NNZs: 28, Bias: 64.760575, T: 503496, Avg. loss: 37156866.564376Norm: 3068.65, NNZs: 28, Bias: -337.383417, T: 629370, Avg. loss: 979564120.015875\n",
      "Total training time: 0.64 seconds.\n",
      "-- Epoch 13\n",
      "\n",
      "Total training time: 0.65 seconds.\n",
      "-- Epoch 16\n",
      "\n",
      "Total training time: 0.66 seconds.\n",
      "-- Epoch 16\n",
      "Norm: 3537.93, NNZs: 28, Bias: -692.760972, T: 671328, Avg. loss: 112551618.644590\n",
      "Total training time: 0.68 seconds.\n",
      "-- Epoch 17\n",
      "Norm: 1377.39, NNZs: 28, Bias: -461.676568, T: 545454, Avg. loss: 131992424.028051\n",
      "Total training time: 0.70 seconds.\n",
      "-- Epoch 14\n",
      "Norm: 8476.62, NNZs: 28, Bias: 64.729898, T: 545454, Avg. loss: 33595792.785449\n",
      "Total training time: 0.68 seconds.\n",
      "-- Epoch 14\n",
      "Norm: 8382.27, NNZs: 28, Bias: -338.295795, T: 671328, Avg. loss: 85276435.338018\n",
      "Total training time: 0.70 seconds.\n",
      "-- Epoch 17\n",
      "Norm: 1361.43, NNZs: 28, Bias: -462.412453, T: 587412, Avg. loss: 135653874.312172\n",
      "Total training time: 0.74 seconds.\n",
      "-- Epoch 15\n",
      "Norm: 3666.40, NNZs: 28, Bias: -693.583298, T: 713286, Avg. loss: 131942569.389515\n",
      "Total training time: 0.75 seconds.\n",
      "-- Epoch 18\n",
      "Norm: 15113.92, NNZs: 28, Bias: -461.793488, T: 629370, Avg. loss: 95279156.257051\n",
      "Total training time: 0.78 seconds.\n",
      "-- Epoch 16\n",
      "Norm: 3068.12, NNZs: 28, Bias: -338.215633, T: 713286, Avg. loss: 602164982.313445\n",
      "Total training time: 0.77 seconds.\n",
      "-- Epoch 18\n",
      "Norm: 763.87, NNZs: 28, Bias: 64.666041, T: 587412, Avg. loss: 32614263.479508\n",
      "Total training time: 0.76 seconds.\n",
      "-- Epoch 15\n",
      "Norm: 4068.30, NNZs: 28, Bias: -693.923234, T: 755244, Avg. loss: 106574402.515843Norm: 2970.79, NNZs: 28, Bias: -339.313078, T: 755244, Avg. loss: 786967052.991236\n",
      "Total training time: 0.80 seconds.\n",
      "-- Epoch 19\n",
      "\n",
      "Total training time: 0.80 seconds.\n",
      "-- Epoch 19\n",
      "Norm: 731.59, NNZs: 28, Bias: 64.568780, T: 629370, Avg. loss: 29934552.712292\n",
      "Total training time: 0.79 seconds.\n",
      "-- Epoch 16\n",
      "Norm: 1313.50, NNZs: 28, Bias: -461.229960, T: 671328, Avg. loss: 96243194.627514\n",
      "Total training time: 0.84 seconds.\n",
      "-- Epoch 17\n",
      "Norm: 3407.62, NNZs: 28, Bias: -693.818600, T: 797202, Avg. loss: 95895295.343020\n",
      "Total training time: 0.84 seconds.\n",
      "-- Epoch 20\n",
      "Norm: 755.56, NNZs: 28, Bias: 64.512887, T: 671328, Avg. loss: 27080966.820749\n",
      "Total training time: 0.84 seconds.\n",
      "-- Epoch 17\n",
      "Norm: 25206.81, NNZs: 28, Bias: -338.023769, T: 797202, Avg. loss: 527785991.904800\n",
      "Total training time: 0.86 seconds.\n",
      "-- Epoch 20\n",
      "Norm: 3424.87, NNZs: 28, Bias: -694.149654, T: 839160, Avg. loss: 82867631.775263\n",
      "Total training time: 0.88 seconds.\n",
      "-- Epoch 21\n",
      "Norm: 8835.88, NNZs: 28, Bias: -340.389635, T: 839160, Avg. loss: 720341975.375283Norm: 53018.06, NNZs: 28, Bias: -460.880566, T: 713286, Avg. loss: 98615106.262985\n",
      "Total training time: 0.91 seconds.\n",
      "\n",
      "-- Epoch 18\n",
      "Total training time: 0.90 seconds.\n",
      "-- Epoch 21\n",
      "Norm: 1664.36, NNZs: 28, Bias: 64.556472, T: 713286, Avg. loss: 24981707.848786\n",
      "Total training time: 0.88 seconds.\n",
      "-- Epoch 18\n",
      "Norm: 3305.03, NNZs: 28, Bias: -694.585704, T: 881118, Avg. loss: 100719561.868241\n",
      "Total training time: 0.91 seconds.\n",
      "-- Epoch 22\n",
      "Norm: 7005.69, NNZs: 28, Bias: -339.336488, T: 881118, Avg. loss: 687189296.075719\n",
      "Total training time: 0.93 seconds.\n",
      "Convergence after 21 epochs took 0.93 seconds\n",
      "-- Epoch 1\n",
      "Norm: 6091.78, NNZs: 28, Bias: -460.665457, T: 755244, Avg. loss: 89059218.132262\n",
      "Total training time: 0.95 seconds.\n",
      "-- Epoch 19\n",
      "Norm: 3327.96, NNZs: 28, Bias: -694.219932, T: 923076, Avg. loss: 91747333.419452\n",
      "Total training time: 0.94 seconds.\n",
      "-- Epoch 23\n",
      "Norm: 754.76, NNZs: 28, Bias: 64.436329, T: 755244, Avg. loss: 21230093.471320\n",
      "Total training time: 0.93 seconds.\n",
      "-- Epoch 19\n",
      "Norm: 75106.67, NNZs: 28, Bias: 24.165253, T: 41958, Avg. loss: 8021750019.750213\n",
      "Total training time: 0.03 seconds.\n",
      "-- Epoch 2\n",
      "Norm: 3236.73, NNZs: 28, Bias: -694.333687, T: 965034, Avg. loss: 80144570.257674\n",
      "Total training time: 0.97 seconds.\n",
      "-- Epoch 24\n",
      "Norm: 6141.00, NNZs: 28, Bias: -460.799610, T: 797202, Avg. loss: 91218323.440831\n",
      "Total training time: 0.99 seconds.\n",
      "-- Epoch 20\n",
      "Norm: 713.52, NNZs: 28, Bias: 64.361977, T: 797202, Avg. loss: 20404707.697303\n",
      "Total training time: 0.98 seconds.\n",
      "-- Epoch 20\n",
      "Norm: 44990.52, NNZs: 28, Bias: 158.381403, T: 83916, Avg. loss: 1426140273.454018\n",
      "Total training time: 0.07 seconds.\n",
      "-- Epoch 3\n",
      "Norm: 3255.30, NNZs: 28, Bias: -695.251476, T: 1006992, Avg. loss: 91591664.729250\n",
      "Total training time: 1.02 seconds.\n",
      "-- Epoch 25\n",
      "Norm: 5234.50, NNZs: 28, Bias: -460.605097, T: 839160, Avg. loss: 81311144.615917\n",
      "Total training time: 1.04 seconds.\n",
      "-- Epoch 21\n",
      "Norm: 1377.04, NNZs: 28, Bias: -459.434787, T: 881118, Avg. loss: 66339619.960976\n",
      "Total training time: 1.07 seconds.Norm: 84065.75, NNZs: 28, Bias: 118.221857, T: 125874, Avg. loss: 839588163.774484Norm: 3248.48, NNZs: 28, Bias: -694.732012, T: 1048950, Avg. loss: 87083720.420152\n",
      "\n",
      "Total training time: 1.06 seconds.\n",
      "-- Epoch 26\n",
      "\n",
      "-- Epoch 22\n",
      "Total training time: 0.13 seconds.\n",
      "-- Epoch 4\n",
      "Norm: 685.30, NNZs: 28, Bias: 64.283518, T: 839160, Avg. loss: 19016794.550715\n",
      "Total training time: 1.06 seconds.\n",
      "-- Epoch 21\n",
      "Norm: 3127.00, NNZs: 28, Bias: -694.816721, T: 1090908, Avg. loss: 78039288.796455\n",
      "Total training time: 1.09 seconds.\n",
      "Norm: 20795.08, NNZs: 28, Bias: -459.181630, T: 923076, Avg. loss: 67351479.279106\n",
      "-- Epoch 27\n",
      "Total training time: 1.10 seconds.\n",
      "-- Epoch 23\n",
      "Norm: 60800.88, NNZs: 28, Bias: 113.436771, T: 167832, Avg. loss: 649279528.431113\n",
      "Total training time: 0.18 seconds.\n",
      "-- Epoch 5\n",
      "Norm: 3099.74, NNZs: 28, Bias: -695.217263, T: 1132866, Avg. loss: 76998659.264659\n",
      "Total training time: 1.12 seconds.\n",
      "-- Epoch 28\n",
      "Norm: 3026.97, NNZs: 28, Bias: -459.225363, T: 965034, Avg. loss: 65176954.169309\n",
      "Total training time: 1.14 seconds.\n",
      "-- Epoch 24\n",
      "Norm: 1727.61, NNZs: 28, Bias: 64.155039, T: 881118, Avg. loss: 17770289.089473\n",
      "Total training time: 1.12 seconds.\n",
      "-- Epoch 22\n",
      "Norm: 35533.80, NNZs: 28, Bias: 157.482866, T: 209790, Avg. loss: 528816528.972532\n",
      "Total training time: 0.21 seconds.\n",
      "-- Epoch 6\n",
      "Norm: 1201.14, NNZs: 28, Bias: -458.898173, T: 1006992, Avg. loss: 60806126.793292\n",
      "Total training time: 1.17 seconds.\n",
      "-- Epoch 25\n",
      "Norm: 3073.29, NNZs: 28, Bias: -695.351043, T: 1174824, Avg. loss: 81468270.116291\n",
      "Total training time: 1.16 seconds.\n",
      "-- Epoch 29\n",
      "Norm: 670.98, NNZs: 28, Bias: 64.071823, T: 923076, Avg. loss: 17751318.219136\n",
      "Total training time: 1.16 seconds.\n",
      "-- Epoch 23\n",
      "Norm: 33794.16, NNZs: 28, Bias: 205.210520, T: 251748, Avg. loss: 419266963.511212\n",
      "Total training time: 0.25 seconds.\n",
      "-- Epoch 7\n",
      "Norm: 8131.26, NNZs: 28, Bias: -458.325166, T: 1048950, Avg. loss: 58568217.428639\n",
      "Total training time: 1.22 seconds.\n",
      "-- Epoch 26\n",
      "Norm: 5789.70, NNZs: 28, Bias: 63.982042, T: 965034, Avg. loss: 17713973.100509\n",
      "Total training time: 1.19 seconds.\n",
      "-- Epoch 24\n",
      "Norm: 36735.94, NNZs: 28, Bias: 229.159543, T: 293706, Avg. loss: 339286646.072847\n",
      "Total training time: 0.28 seconds.\n",
      "-- Epoch 8\n",
      "Norm: 3046.09, NNZs: 28, Bias: -695.437940, T: 1216782, Avg. loss: 65471601.929492\n",
      "Total training time: 1.23 seconds.\n",
      "-- Epoch 30\n",
      "Norm: 1463.75, NNZs: 28, Bias: -457.790674, T: 1090908, Avg. loss: 61196788.712178\n",
      "Total training time: 1.26 seconds.\n",
      "-- Epoch 27Norm: 1875.50, NNZs: 28, Bias: 63.965759, T: 1006992, Avg. loss: 16095024.018041\n",
      "Total training time: 1.23 seconds.\n",
      "-- Epoch 25\n",
      "\n",
      "Norm: 3034.66, NNZs: 28, Bias: -695.689533, T: 1258740, Avg. loss: 76314895.853298\n",
      "Total training time: 1.26 seconds.\n",
      "-- Epoch 31\n",
      "Norm: 32889.03, NNZs: 28, Bias: 137.495301, T: 335664, Avg. loss: 285160396.640277\n",
      "Total training time: 0.34 seconds.\n",
      "-- Epoch 9\n",
      "Norm: 1247.41, NNZs: 28, Bias: -457.291353, T: 1132866, Avg. loss: 66913965.660569\n",
      "Total training time: 1.29 seconds.\n",
      "-- Epoch 28\n",
      "Norm: 2999.24, NNZs: 28, Bias: -695.603206, T: 1300698, Avg. loss: 58590715.249306\n",
      "Total training time: 1.29 seconds.\n",
      "-- Epoch 32\n",
      "Norm: 649.36, NNZs: 28, Bias: 63.793471, T: 1048950, Avg. loss: 18464383.182723\n",
      "Total training time: 1.28 seconds.\n",
      "-- Epoch 26\n",
      "Norm: 28159.66, NNZs: 28, Bias: 179.324102, T: 377622, Avg. loss: 257795796.691522\n",
      "Total training time: 0.37 seconds.\n",
      "-- Epoch 10\n",
      "Norm: 3541.93, NNZs: 28, Bias: -457.512263, T: 1174824, Avg. loss: 56796673.221299\n",
      "Total training time: 1.32 seconds.\n",
      "-- Epoch 29\n",
      "Norm: 4471.79, NNZs: 28, Bias: -695.668623, T: 1342656, Avg. loss: 65095650.188158\n",
      "Total training time: 1.33 seconds.\n",
      "-- Epoch 33\n",
      "Norm: 657.88, NNZs: 28, Bias: 63.802414, T: 1090908, Avg. loss: 17428926.034420\n",
      "Total training time: 1.32 seconds.\n",
      "-- Epoch 27\n",
      "Norm: 1261.14, NNZs: 28, Bias: -456.773663, T: 1216782, Avg. loss: 55672044.466805\n",
      "Total training time: 1.37 seconds.\n",
      "-- Epoch 30\n",
      "Norm: 28706.76, NNZs: 28, Bias: 195.569142, T: 419580, Avg. loss: 231835713.374783\n",
      "Total training time: 0.43 seconds.\n",
      "-- Epoch 11\n",
      "Norm: 2947.76, NNZs: 28, Bias: -695.860798, T: 1384614, Avg. loss: 62916555.123013\n",
      "Total training time: 1.39 seconds.\n",
      "-- Epoch 34\n",
      "Norm: 639.25, NNZs: 28, Bias: 63.631863, T: 1132866, Avg. loss: 15742288.247603\n",
      "Total training time: 1.39 seconds.\n",
      "-- Epoch 28\n",
      "Norm: 1155.24, NNZs: 28, Bias: -456.550368, T: 1258740, Avg. loss: 43252600.708003\n",
      "Total training time: 1.43 seconds.\n",
      "-- Epoch 31Norm: 27050.11, NNZs: 28, Bias: 200.249357, T: 461538, Avg. loss: 211642975.338148\n",
      "Total training time: 0.49 seconds.\n",
      "-- Epoch 12\n",
      "\n",
      "Norm: 2928.04, NNZs: 28, Bias: -696.066824, T: 1426572, Avg. loss: 67631643.445498\n",
      "Total training time: 1.44 seconds.\n",
      "-- Epoch 35\n",
      "Norm: 652.52, NNZs: 28, Bias: 63.606388, T: 1174824, Avg. loss: 15457824.084018\n",
      "Total training time: 1.43 seconds.\n",
      "-- Epoch 29\n",
      "Norm: 1239.29, NNZs: 28, Bias: -456.466310, T: 1300698, Avg. loss: 46966063.438597\n",
      "Total training time: 1.47 seconds.\n",
      "-- Epoch 32\n",
      "Norm: 2905.15, NNZs: 28, Bias: -695.932566, T: 1468530, Avg. loss: 59181643.921137\n",
      "Total training time: 1.47 seconds.\n",
      "-- Epoch 36\n",
      "Norm: 28576.88, NNZs: 28, Bias: 208.937676, T: 503496, Avg. loss: 190022718.220413\n",
      "Total training time: 0.54 seconds.\n",
      "-- Epoch 13\n",
      "Norm: 627.78, NNZs: 28, Bias: 63.508936, T: 1216782, Avg. loss: 13455127.134280\n",
      "Total training time: 1.47 seconds.Norm: 1384.12, NNZs: 28, Bias: -456.347018, T: 1342656, Avg. loss: 54012958.291087\n",
      "Total training time: 1.50 seconds.\n",
      "-- Epoch 33\n",
      "\n",
      "-- Epoch 30\n",
      "Norm: 23909.61, NNZs: 28, Bias: 201.558954, T: 545454, Avg. loss: 177687826.681737\n",
      "Total training time: 0.57 seconds.\n",
      "-- Epoch 14\n",
      "Norm: 1584.80, NNZs: 28, Bias: -455.513583, T: 1384614, Avg. loss: 50738012.098815\n",
      "Total training time: 1.53 seconds.\n",
      "-- Epoch 34\n",
      "Norm: 5598.07, NNZs: 28, Bias: 63.464352, T: 1258740, Avg. loss: 13250902.305035\n",
      "Total training time: 1.50 seconds.\n",
      "-- Epoch 31\n",
      "Norm: 5207.48, NNZs: 28, Bias: -695.919640, T: 1510488, Avg. loss: 53356129.169823\n",
      "Total training time: 1.52 seconds.\n",
      "-- Epoch 37\n",
      "Norm: 23741.38, NNZs: 28, Bias: 186.748718, T: 587412, Avg. loss: 162035966.913405\n",
      "Total training time: 0.62 seconds.\n",
      "-- Epoch 15\n",
      "Norm: 1191.29, NNZs: 28, Bias: -455.515155, T: 1426572, Avg. loss: 50333924.431661Norm: 622.75, NNZs: 28, Bias: 63.428843, T: 1300698, Avg. loss: 12175188.955874\n",
      "Total training time: 1.54 seconds.\n",
      "-- Epoch 32\n",
      "\n",
      "Total training time: 1.58 seconds.\n",
      "-- Epoch 35\n",
      "Norm: 3018.55, NNZs: 28, Bias: -696.072651, T: 1552446, Avg. loss: 48183307.184625\n",
      "Total training time: 1.57 seconds.\n",
      "-- Epoch 38\n",
      "Norm: 23288.17, NNZs: 28, Bias: 190.952118, T: 629370, Avg. loss: 157312699.406123\n",
      "Total training time: 0.66 seconds.\n",
      "-- Epoch 16\n",
      "Norm: 761.37, NNZs: 28, Bias: 63.340061, T: 1342656, Avg. loss: 15475654.939965\n",
      "Total training time: 1.60 seconds.\n",
      "-- Epoch 33\n",
      "Norm: 2837.81, NNZs: 28, Bias: -696.386265, T: 1594404, Avg. loss: 51744764.273350\n",
      "Total training time: 1.62 seconds.\n",
      "-- Epoch 39Norm: 22409.24, NNZs: 28, Bias: 197.297225, T: 671328, Avg. loss: 142416506.709402\n",
      "\n",
      "Total training time: 0.69 seconds.\n",
      "-- Epoch 17\n",
      "Norm: 6757.97, NNZs: 28, Bias: -455.193686, T: 1468530, Avg. loss: 53486019.671995\n",
      "Total training time: 1.66 seconds.\n",
      "Convergence after 35 epochs took 1.66 seconds\n",
      "Norm: 2833.43, NNZs: 28, Bias: -696.383450, T: 1636362, Avg. loss: 52413520.761618\n",
      "Total training time: 1.65 seconds.\n",
      "Norm: 21720.87, NNZs: 28, Bias: 203.591473, T: 713286, Avg. loss: 132107820.707334-- Epoch 40\n",
      "\n",
      "Total training time: 0.72 seconds.\n",
      "-- Epoch 18\n",
      "Norm: 613.65, NNZs: 28, Bias: 63.243370, T: 1384614, Avg. loss: 14679084.021470\n",
      "Total training time: 1.65 seconds.\n",
      "-- Epoch 34\n",
      "Norm: 2801.93, NNZs: 28, Bias: -695.915287, T: 1678320, Avg. loss: 54564292.233803\n",
      "Norm: 23278.39, NNZs: 28, Bias: 200.534199, T: 755244, Avg. loss: 129326236.000004Total training time: 1.67 seconds.\n",
      "Total training time: 0.74 seconds.\n",
      "-- Epoch 19\n",
      "\n",
      "-- Epoch 41\n",
      "Norm: 2205.56, NNZs: 28, Bias: 63.174292, T: 1426572, Avg. loss: 10890915.617983\n",
      "Total training time: 1.68 seconds.\n",
      "-- Epoch 35\n",
      "Norm: 20563.72, NNZs: 28, Bias: 201.633767, T: 797202, Avg. loss: 112998574.182565\n",
      "Total training time: 0.77 seconds.\n",
      "-- Epoch 20\n",
      "Norm: 4107.06, NNZs: 28, Bias: -696.252884, T: 1720278, Avg. loss: 51812598.701539\n",
      "Total training time: 1.71 seconds.\n",
      "-- Epoch 42\n",
      "Norm: 1014.13, NNZs: 28, Bias: 63.169642, T: 1468530, Avg. loss: 10543076.918825\n",
      "Total training time: 1.71 seconds.\n",
      "-- Epoch 36\n",
      "Norm: 21676.60, NNZs: 28, Bias: 198.234999, T: 839160, Avg. loss: 118067037.893580\n",
      "Total training time: 0.80 seconds.\n",
      "-- Epoch 21\n",
      "Norm: 4189.81, NNZs: 28, Bias: -696.353398, T: 1762236, Avg. loss: 42304754.680880\n",
      "Total training time: 1.75 seconds.\n",
      "-- Epoch 43\n",
      "Norm: 610.42, NNZs: 28, Bias: 63.083075, T: 1510488, Avg. loss: 11321811.680573\n",
      "Total training time: 1.74 seconds.\n",
      "-- Epoch 37\n",
      "Norm: 19476.18, NNZs: 28, Bias: 207.705053, T: 881118, Avg. loss: 106929862.073063\n",
      "Total training time: 0.84 seconds.\n",
      "-- Epoch 22\n",
      "Norm: 20431.38, NNZs: 28, Bias: 212.243535, T: 923076, Avg. loss: 105434498.366825Norm: 5878.67, NNZs: 28, Bias: -696.265612, T: 1804194, Avg. loss: 54487368.811524\n",
      "Total training time: 0.87 seconds.\n",
      "-- Epoch 23\n",
      "\n",
      "Total training time: 1.80 seconds.\n",
      "-- Epoch 44\n",
      "Norm: 594.96, NNZs: 28, Bias: 63.021901, T: 1552446, Avg. loss: 12517038.173717\n",
      "Total training time: 1.79 seconds.\n",
      "-- Epoch 38\n",
      "Norm: 3248.81, NNZs: 28, Bias: -696.502373, T: 1846152, Avg. loss: 32619864.484581\n",
      "Total training time: 1.83 seconds.\n",
      "-- Epoch 45\n",
      "Norm: 20515.71, NNZs: 28, Bias: 203.430825, T: 965034, Avg. loss: 94942091.402104\n",
      "Total training time: 0.90 seconds.\n",
      "-- Epoch 24\n",
      "Norm: 792.08, NNZs: 28, Bias: 62.870670, T: 1594404, Avg. loss: 10048723.190972\n",
      "Total training time: 1.83 seconds.\n",
      "-- Epoch 39\n",
      "Norm: 5082.68, NNZs: 28, Bias: -696.361390, T: 1888110, Avg. loss: 41965889.756602\n",
      "Total training time: 1.86 seconds.\n",
      "-- Epoch 46\n",
      "Norm: 18570.41, NNZs: 28, Bias: 219.618253, T: 1006992, Avg. loss: 90843393.769434\n",
      "Total training time: 0.94 seconds.\n",
      "-- Epoch 25\n",
      "Norm: 1325.75, NNZs: 28, Bias: 62.839372, T: 1636362, Avg. loss: 10083314.998903\n",
      "Total training time: 1.86 seconds.\n",
      "-- Epoch 40\n",
      "Norm: 2710.09, NNZs: 28, Bias: -696.534258, T: 1930068, Avg. loss: 43118932.803495\n",
      "Total training time: 1.89 seconds.\n",
      "-- Epoch 47\n",
      "Norm: 584.23, NNZs: 28, Bias: 62.838525, T: 1678320, Avg. loss: 8940961.123975\n",
      "Total training time: 1.89 seconds.Norm: 18433.38, NNZs: 28, Bias: 209.565732, T: 1048950, Avg. loss: 90560658.676095\n",
      "Total training time: 0.98 seconds.\n",
      "-- Epoch 26\n",
      "\n",
      "-- Epoch 41\n",
      "Norm: 2695.74, NNZs: 28, Bias: -696.350015, T: 1972026, Avg. loss: 39819440.761592\n",
      "Total training time: 1.92 seconds.\n",
      "-- Epoch 48\n",
      "Norm: 1028.53, NNZs: 28, Bias: 62.714500, T: 1720278, Avg. loss: 10042708.989985\n",
      "Total training time: 1.92 seconds.\n",
      "-- Epoch 42\n",
      "Norm: 17910.51, NNZs: 28, Bias: 215.501589, T: 1090908, Avg. loss: 87359428.280089\n",
      "Total training time: 1.03 seconds.\n",
      "-- Epoch 27\n",
      "Norm: 578.42, NNZs: 28, Bias: 62.706973, T: 1762236, Avg. loss: 9024229.733458\n",
      "Total training time: 1.95 seconds.\n",
      "-- Epoch 43\n",
      "Norm: 25114.55, NNZs: 28, Bias: -696.537728, T: 2013984, Avg. loss: 41370477.033819\n",
      "Total training time: 1.97 seconds.\n",
      "-- Epoch 49\n",
      "Norm: 17831.18, NNZs: 28, Bias: 205.850740, T: 1132866, Avg. loss: 84095535.049355\n",
      "Total training time: 1.06 seconds.\n",
      "-- Epoch 28\n",
      "Norm: 4871.08, NNZs: 28, Bias: -696.294117, T: 2055942, Avg. loss: 46801253.996997\n",
      "Total training time: 2.00 seconds.\n",
      "Convergence after 49 epochs took 2.00 seconds\n",
      "Norm: 575.58, NNZs: 28, Bias: 62.620616, T: 1804194, Avg. loss: 9812595.624407\n",
      "Total training time: 1.99 seconds.\n",
      "-- Epoch 44\n",
      "Norm: 17783.25, NNZs: 28, Bias: 215.353816, T: 1174824, Avg. loss: 81691736.836641\n",
      "Total training time: 1.09 seconds.\n",
      "-- Epoch 29\n",
      "Norm: 584.74, NNZs: 28, Bias: 62.577501, T: 1846152, Avg. loss: 9372129.112653\n",
      "Total training time: 2.02 seconds.\n",
      "-- Epoch 45\n",
      "Norm: 17291.65, NNZs: 28, Bias: 217.130954, T: 1216782, Avg. loss: 78979000.737663\n",
      "Total training time: 1.12 seconds.\n",
      "-- Epoch 30\n",
      "Norm: 1020.71, NNZs: 28, Bias: 62.533785, T: 1888110, Avg. loss: 8981955.774919\n",
      "Total training time: 2.05 seconds.\n",
      "Convergence after 45 epochs took 2.05 seconds\n",
      "Norm: 17234.25, NNZs: 28, Bias: 204.927560, T: 1258740, Avg. loss: 77654335.468214\n",
      "Total training time: 1.15 seconds.\n",
      "-- Epoch 31\n",
      "Norm: 16638.43, NNZs: 28, Bias: 221.313311, T: 1300698, Avg. loss: 72739502.769681\n",
      "Total training time: 1.17 seconds.\n",
      "-- Epoch 32\n",
      "Norm: 16238.69, NNZs: 28, Bias: 222.654455, T: 1342656, Avg. loss: 72731904.174494\n",
      "Total training time: 1.18 seconds.\n",
      "-- Epoch 33\n",
      "Norm: 15949.45, NNZs: 28, Bias: 221.998807, T: 1384614, Avg. loss: 68981159.185865\n",
      "Total training time: 1.21 seconds.\n",
      "-- Epoch 34\n",
      "Norm: 15807.78, NNZs: 28, Bias: 222.742139, T: 1426572, Avg. loss: 66756871.623610\n",
      "Total training time: 1.24 seconds.\n",
      "-- Epoch 35\n",
      "Norm: 15938.87, NNZs: 28, Bias: 225.910381, T: 1468530, Avg. loss: 66139119.589426\n",
      "Total training time: 1.26 seconds.\n",
      "-- Epoch 36\n",
      "Norm: 15545.24, NNZs: 28, Bias: 218.825586, T: 1510488, Avg. loss: 64057677.663447\n",
      "Total training time: 1.27 seconds.\n",
      "-- Epoch 37\n",
      "Norm: 16122.40, NNZs: 28, Bias: 215.484790, T: 1552446, Avg. loss: 61244261.929444\n",
      "Total training time: 1.29 seconds.\n",
      "-- Epoch 38\n",
      "Norm: 15088.56, NNZs: 28, Bias: 221.988804, T: 1594404, Avg. loss: 56310727.594576\n",
      "Total training time: 1.30 seconds.\n",
      "-- Epoch 39\n",
      "Norm: 14769.39, NNZs: 28, Bias: 225.494823, T: 1636362, Avg. loss: 57863242.281458\n",
      "Total training time: 1.33 seconds.\n",
      "-- Epoch 40\n",
      "Norm: 15068.52, NNZs: 28, Bias: 235.488624, T: 1678320, Avg. loss: 56603581.678566\n",
      "Total training time: 1.35 seconds.\n",
      "-- Epoch 41\n",
      "Norm: 14527.69, NNZs: 28, Bias: 224.844076, T: 1720278, Avg. loss: 55181564.716051\n",
      "Total training time: 1.37 seconds.\n",
      "-- Epoch 42\n",
      "Norm: 14738.71, NNZs: 28, Bias: 221.331449, T: 1762236, Avg. loss: 54736528.354225\n",
      "Total training time: 1.38 seconds.\n",
      "-- Epoch 43\n",
      "Norm: 14322.50, NNZs: 28, Bias: 231.996859, T: 1804194, Avg. loss: 50983594.683483\n",
      "Total training time: 1.41 seconds.\n",
      "-- Epoch 44\n",
      "Norm: 142367.95, NNZs: 28, Bias: 236.920120, T: 1846152, Avg. loss: 5465896.965226\n",
      "Total training time: 1.43 seconds.\n",
      "-- Epoch 45\n",
      "Norm: 14475.44, NNZs: 28, Bias: 229.999153, T: 1888110, Avg. loss: 93806008.294547\n",
      "Total training time: 1.46 seconds.\n",
      "-- Epoch 46\n",
      "Norm: 13986.35, NNZs: 28, Bias: 224.567108, T: 1930068, Avg. loss: 47229527.615484\n",
      "Total training time: 1.47 seconds.\n",
      "-- Epoch 47\n",
      "Norm: 13991.29, NNZs: 28, Bias: 217.173054, T: 1972026, Avg. loss: 47908615.653212\n",
      "Total training time: 1.49 seconds.\n",
      "-- Epoch 48\n",
      "Norm: 13710.44, NNZs: 28, Bias: 225.623355, T: 2013984, Avg. loss: 47374115.853087\n",
      "Total training time: 1.51 seconds.\n",
      "-- Epoch 49\n",
      "Norm: 13717.12, NNZs: 28, Bias: 228.674893, T: 2055942, Avg. loss: 46848036.783959\n",
      "Total training time: 1.52 seconds.\n",
      "Convergence after 49 epochs took 1.52 seconds\n"
     ]
    },
    {
     "name": "stderr",
     "output_type": "stream",
     "text": [
      "[Parallel(n_jobs=-1)]: Done   5 out of   5 | elapsed:    2.5s finished\n",
      "[Parallel(n_jobs=-1)]: Using backend ThreadingBackend with 4 concurrent workers.\n"
     ]
    },
    {
     "name": "stdout",
     "output_type": "stream",
     "text": [
      "building tree 1 of 10building tree 2 of 10building tree 3 of 10\n",
      "\n",
      "building tree 4 of 10\n",
      "\n",
      "building tree 5 of 10\n",
      "building tree 6 of 10\n",
      "building tree 7 of 10\n",
      "building tree 8 of 10\n",
      "building tree 9 of 10\n",
      "building tree 10 of 10\n"
     ]
    },
    {
     "name": "stderr",
     "output_type": "stream",
     "text": [
      "[Parallel(n_jobs=-1)]: Done  10 out of  10 | elapsed:    0.7s finished\n",
      "[Parallel(n_jobs=-1)]: Using backend ThreadingBackend with 4 concurrent workers.\n"
     ]
    },
    {
     "name": "stdout",
     "output_type": "stream",
     "text": [
      "building tree 1 of 10building tree 2 of 10\n",
      "building tree 3 of 10building tree 4 of 10\n",
      "\n",
      "\n",
      "building tree 5 of 10\n",
      "building tree 6 of 10\n",
      "building tree 7 of 10\n",
      "building tree 8 of 10\n",
      "building tree 9 of 10\n",
      "building tree 10 of 10\n"
     ]
    },
    {
     "name": "stderr",
     "output_type": "stream",
     "text": [
      "[Parallel(n_jobs=-1)]: Done  10 out of  10 | elapsed:    0.6s finished\n",
      "[Parallel(n_jobs=4)]: Using backend ThreadingBackend with 4 concurrent workers.\n",
      "[Parallel(n_jobs=4)]: Done  10 out of  10 | elapsed:    0.1s finished\n",
      "[Parallel(n_jobs=-1)]: Using backend ThreadingBackend with 4 concurrent workers.\n"
     ]
    },
    {
     "name": "stdout",
     "output_type": "stream",
     "text": [
      "building tree 1 of 10building tree 2 of 10building tree 3 of 10\n",
      "\n",
      "building tree 4 of 10\n",
      "\n",
      "building tree 5 of 10\n",
      "building tree 6 of 10\n",
      "building tree 7 of 10\n",
      "building tree 8 of 10\n",
      "building tree 9 of 10\n",
      "building tree 10 of 10\n"
     ]
    },
    {
     "name": "stderr",
     "output_type": "stream",
     "text": [
      "[Parallel(n_jobs=-1)]: Done  10 out of  10 | elapsed:    1.4s finished\n",
      "[Parallel(n_jobs=4)]: Using backend ThreadingBackend with 4 concurrent workers.\n",
      "[Parallel(n_jobs=4)]: Done  10 out of  10 | elapsed:    0.0s finished\n",
      "[Parallel(n_jobs=-1)]: Using backend ThreadingBackend with 4 concurrent workers.\n"
     ]
    },
    {
     "name": "stdout",
     "output_type": "stream",
     "text": [
      "building tree 1 of 10building tree 2 of 10building tree 3 of 10\n",
      "\n",
      "building tree 4 of 10\n",
      "\n",
      "building tree 5 of 10\n",
      "building tree 6 of 10\n",
      "building tree 7 of 10\n",
      "building tree 8 of 10\n",
      "building tree 9 of 10\n",
      "building tree 10 of 10\n"
     ]
    },
    {
     "name": "stderr",
     "output_type": "stream",
     "text": [
      "[Parallel(n_jobs=-1)]: Done  10 out of  10 | elapsed:    1.0s finished\n",
      "[Parallel(n_jobs=4)]: Using backend ThreadingBackend with 4 concurrent workers.\n",
      "[Parallel(n_jobs=4)]: Done  10 out of  10 | elapsed:    0.0s finished\n",
      "[Parallel(n_jobs=-1)]: Using backend ThreadingBackend with 4 concurrent workers.\n"
     ]
    },
    {
     "name": "stdout",
     "output_type": "stream",
     "text": [
      "building tree 1 of 10building tree 2 of 10\n",
      "building tree 3 of 10\n",
      "building tree 4 of 10\n",
      "\n",
      "building tree 5 of 10\n",
      "building tree 6 of 10\n",
      "building tree 7 of 10\n",
      "building tree 8 of 10\n",
      "building tree 9 of 10\n",
      "building tree 10 of 10\n"
     ]
    },
    {
     "name": "stderr",
     "output_type": "stream",
     "text": [
      "[Parallel(n_jobs=-1)]: Done  10 out of  10 | elapsed:    0.6s finished\n",
      "[Parallel(n_jobs=4)]: Using backend ThreadingBackend with 4 concurrent workers.\n",
      "[Parallel(n_jobs=4)]: Done  10 out of  10 | elapsed:    0.0s finished\n",
      "[Parallel(n_jobs=-1)]: Using backend ThreadingBackend with 4 concurrent workers.\n"
     ]
    },
    {
     "name": "stdout",
     "output_type": "stream",
     "text": [
      "building tree 1 of 10building tree 2 of 10building tree 3 of 10building tree 4 of 10\n",
      "\n",
      "\n",
      "\n",
      "building tree 5 of 10\n",
      "building tree 6 of 10\n",
      "building tree 7 of 10\n",
      "building tree 8 of 10\n",
      "building tree 9 of 10\n",
      "building tree 10 of 10\n"
     ]
    },
    {
     "name": "stderr",
     "output_type": "stream",
     "text": [
      "[Parallel(n_jobs=-1)]: Done  10 out of  10 | elapsed:    0.4s finished\n",
      "[Parallel(n_jobs=4)]: Using backend ThreadingBackend with 4 concurrent workers.\n",
      "[Parallel(n_jobs=4)]: Done  10 out of  10 | elapsed:    0.0s finished\n",
      "[Parallel(n_jobs=-1)]: Using backend ThreadingBackend with 4 concurrent workers.\n"
     ]
    },
    {
     "name": "stdout",
     "output_type": "stream",
     "text": [
      "building tree 1 of 10building tree 2 of 10building tree 3 of 10\n",
      "\n",
      "building tree 4 of 10\n",
      "\n",
      "building tree 5 of 10\n",
      "building tree 6 of 10\n",
      "building tree 7 of 10\n",
      "building tree 8 of 10\n",
      "building tree 9 of 10\n",
      "building tree 10 of 10\n"
     ]
    },
    {
     "name": "stderr",
     "output_type": "stream",
     "text": [
      "[Parallel(n_jobs=-1)]: Done  10 out of  10 | elapsed:    0.3s finished\n",
      "[Parallel(n_jobs=4)]: Using backend ThreadingBackend with 4 concurrent workers.\n",
      "[Parallel(n_jobs=4)]: Done  10 out of  10 | elapsed:    0.0s finished\n",
      "[Parallel(n_jobs=-1)]: Using backend ThreadingBackend with 4 concurrent workers.\n"
     ]
    },
    {
     "name": "stdout",
     "output_type": "stream",
     "text": [
      "building tree 1 of 10building tree 2 of 10building tree 3 of 10\n",
      "building tree 4 of 10\n",
      "\n",
      "\n",
      "building tree 5 of 10\n",
      "building tree 6 of 10\n",
      "building tree 7 of 10\n",
      "building tree 8 of 10\n",
      "building tree 9 of 10\n",
      "building tree 10 of 10\n"
     ]
    },
    {
     "name": "stderr",
     "output_type": "stream",
     "text": [
      "[Parallel(n_jobs=-1)]: Done  10 out of  10 | elapsed:    0.5s finished\n",
      "[Parallel(n_jobs=4)]: Using backend ThreadingBackend with 4 concurrent workers.\n",
      "[Parallel(n_jobs=4)]: Done  10 out of  10 | elapsed:    0.0s finished\n",
      "[Parallel(n_jobs=-1)]: Using backend ThreadingBackend with 4 concurrent workers.\n"
     ]
    },
    {
     "name": "stdout",
     "output_type": "stream",
     "text": [
      "building tree 1 of 10building tree 2 of 10\n",
      "\n",
      "building tree 3 of 10building tree 4 of 10\n",
      "\n",
      "building tree 5 of 10\n",
      "building tree 6 of 10\n",
      "building tree 7 of 10building tree 8 of 10\n",
      "\n",
      "building tree 9 of 10\n",
      "building tree 10 of 10\n"
     ]
    },
    {
     "name": "stderr",
     "output_type": "stream",
     "text": [
      "[Parallel(n_jobs=-1)]: Done  10 out of  10 | elapsed:    0.4s finished\n",
      "[Parallel(n_jobs=4)]: Using backend ThreadingBackend with 4 concurrent workers.\n",
      "[Parallel(n_jobs=4)]: Done  10 out of  10 | elapsed:    0.0s finished\n",
      "[Parallel(n_jobs=-1)]: Using backend ThreadingBackend with 4 concurrent workers.\n"
     ]
    },
    {
     "name": "stdout",
     "output_type": "stream",
     "text": [
      "building tree 1 of 10building tree 2 of 10building tree 3 of 10building tree 4 of 10\n",
      "\n",
      "\n",
      "\n",
      "building tree 5 of 10\n",
      "building tree 6 of 10\n",
      "building tree 7 of 10\n",
      "building tree 8 of 10\n",
      "building tree 9 of 10\n",
      "building tree 10 of 10\n"
     ]
    },
    {
     "name": "stderr",
     "output_type": "stream",
     "text": [
      "[Parallel(n_jobs=-1)]: Done  10 out of  10 | elapsed:    0.3s finished\n",
      "[Parallel(n_jobs=4)]: Using backend ThreadingBackend with 4 concurrent workers.\n",
      "[Parallel(n_jobs=4)]: Done  10 out of  10 | elapsed:    0.0s finished\n",
      "[Parallel(n_jobs=-1)]: Using backend ThreadingBackend with 4 concurrent workers.\n"
     ]
    },
    {
     "name": "stdout",
     "output_type": "stream",
     "text": [
      "building tree 1 of 10building tree 2 of 10building tree 3 of 10\n",
      "building tree 4 of 10\n",
      "\n",
      "\n",
      "building tree 5 of 10\n",
      "building tree 6 of 10\n",
      "building tree 7 of 10\n",
      "building tree 8 of 10\n",
      "building tree 9 of 10\n",
      "building tree 10 of 10\n"
     ]
    },
    {
     "name": "stderr",
     "output_type": "stream",
     "text": [
      "[Parallel(n_jobs=-1)]: Done  10 out of  10 | elapsed:    0.7s finished\n",
      "[Parallel(n_jobs=4)]: Using backend ThreadingBackend with 4 concurrent workers.\n",
      "[Parallel(n_jobs=4)]: Done  10 out of  10 | elapsed:    0.0s finished\n",
      "[Parallel(n_jobs=-1)]: Using backend ThreadingBackend with 4 concurrent workers.\n"
     ]
    },
    {
     "name": "stdout",
     "output_type": "stream",
     "text": [
      "building tree 1 of 10building tree 2 of 10\n",
      "building tree 3 of 10building tree 4 of 10\n",
      "\n",
      "\n",
      "building tree 5 of 10\n",
      "building tree 6 of 10\n",
      "building tree 7 of 10\n",
      "building tree 8 of 10\n",
      "building tree 9 of 10\n",
      "building tree 10 of 10\n"
     ]
    },
    {
     "name": "stderr",
     "output_type": "stream",
     "text": [
      "[Parallel(n_jobs=-1)]: Done  10 out of  10 | elapsed:    0.6s finished\n",
      "[Parallel(n_jobs=4)]: Using backend ThreadingBackend with 4 concurrent workers.\n",
      "[Parallel(n_jobs=4)]: Done  10 out of  10 | elapsed:    0.0s finished\n",
      "[Parallel(n_jobs=-1)]: Using backend ThreadingBackend with 4 concurrent workers.\n"
     ]
    },
    {
     "name": "stdout",
     "output_type": "stream",
     "text": [
      "building tree 1 of 10building tree 2 of 10\n",
      "\n",
      "building tree 3 of 10building tree 4 of 10\n",
      "\n",
      "building tree 5 of 10\n",
      "building tree 6 of 10\n",
      "building tree 7 of 10\n",
      "building tree 8 of 10\n",
      "building tree 9 of 10\n",
      "building tree 10 of 10\n"
     ]
    },
    {
     "name": "stderr",
     "output_type": "stream",
     "text": [
      "[Parallel(n_jobs=-1)]: Done  10 out of  10 | elapsed:    0.6s finished\n",
      "[Parallel(n_jobs=4)]: Using backend ThreadingBackend with 4 concurrent workers.\n",
      "[Parallel(n_jobs=4)]: Done  10 out of  10 | elapsed:    0.0s finished\n",
      "[Parallel(n_jobs=-1)]: Using backend ThreadingBackend with 4 concurrent workers.\n"
     ]
    },
    {
     "name": "stdout",
     "output_type": "stream",
     "text": [
      "building tree 1 of 10building tree 2 of 10\n",
      "building tree 3 of 10\n",
      "building tree 4 of 10\n",
      "\n",
      "building tree 5 of 10\n",
      "building tree 6 of 10\n",
      "building tree 7 of 10\n",
      "building tree 8 of 10\n",
      "building tree 9 of 10\n",
      "building tree 10 of 10\n"
     ]
    },
    {
     "name": "stderr",
     "output_type": "stream",
     "text": [
      "[Parallel(n_jobs=-1)]: Done  10 out of  10 | elapsed:    0.3s finished\n",
      "[Parallel(n_jobs=4)]: Using backend ThreadingBackend with 4 concurrent workers.\n",
      "[Parallel(n_jobs=4)]: Done  10 out of  10 | elapsed:    0.0s finished\n",
      "[Parallel(n_jobs=-1)]: Using backend ThreadingBackend with 4 concurrent workers.\n"
     ]
    },
    {
     "name": "stdout",
     "output_type": "stream",
     "text": [
      "building tree 1 of 10building tree 2 of 10\n",
      "\n",
      "building tree 3 of 10\n",
      "building tree 4 of 10\n",
      "building tree 5 of 10\n",
      "building tree 6 of 10\n",
      "building tree 7 of 10\n",
      "building tree 8 of 10\n",
      "building tree 9 of 10building tree 10 of 10\n",
      "\n"
     ]
    },
    {
     "name": "stderr",
     "output_type": "stream",
     "text": [
      "[Parallel(n_jobs=-1)]: Done  10 out of  10 | elapsed:    0.2s finished\n",
      "[Parallel(n_jobs=4)]: Using backend ThreadingBackend with 4 concurrent workers.\n",
      "[Parallel(n_jobs=4)]: Done  10 out of  10 | elapsed:    0.0s finished\n",
      "[Parallel(n_jobs=-1)]: Using backend ThreadingBackend with 4 concurrent workers.\n"
     ]
    },
    {
     "name": "stdout",
     "output_type": "stream",
     "text": [
      "building tree 1 of 10building tree 2 of 10building tree 3 of 10building tree 4 of 10\n",
      "\n",
      "\n",
      "\n",
      "building tree 5 of 10\n",
      "building tree 6 of 10\n",
      "building tree 7 of 10\n",
      "building tree 8 of 10\n",
      "building tree 9 of 10\n",
      "building tree 10 of 10\n"
     ]
    },
    {
     "name": "stderr",
     "output_type": "stream",
     "text": [
      "[Parallel(n_jobs=-1)]: Done  10 out of  10 | elapsed:    0.2s finished\n",
      "[Parallel(n_jobs=4)]: Using backend ThreadingBackend with 4 concurrent workers.\n",
      "[Parallel(n_jobs=4)]: Done  10 out of  10 | elapsed:    0.0s finished\n",
      "[Parallel(n_jobs=-1)]: Using backend ThreadingBackend with 4 concurrent workers.\n",
      "[Parallel(n_jobs=-1)]: Done  10 out of  10 | elapsed:    0.1s finished\n"
     ]
    },
    {
     "name": "stdout",
     "output_type": "stream",
     "text": [
      "building tree 1 of 10building tree 2 of 10building tree 3 of 10\n",
      "building tree 4 of 10\n",
      "\n",
      "\n",
      "building tree 5 of 10\n",
      "building tree 6 of 10\n",
      "building tree 7 of 10\n",
      "building tree 8 of 10\n",
      "building tree 9 of 10\n",
      "building tree 10 of 10\n"
     ]
    },
    {
     "name": "stderr",
     "output_type": "stream",
     "text": [
      "[Parallel(n_jobs=4)]: Using backend ThreadingBackend with 4 concurrent workers.\n",
      "[Parallel(n_jobs=4)]: Done  10 out of  10 | elapsed:    0.0s finished\n",
      "[Parallel(n_jobs=-1)]: Using backend ThreadingBackend with 4 concurrent workers.\n"
     ]
    },
    {
     "name": "stdout",
     "output_type": "stream",
     "text": [
      "building tree 1 of 10building tree 2 of 10\n",
      "\n",
      "building tree 3 of 10building tree 4 of 10\n",
      "\n",
      "building tree 5 of 10\n",
      "building tree 6 of 10\n",
      "building tree 7 of 10\n",
      "building tree 8 of 10\n",
      "building tree 9 of 10\n",
      "building tree 10 of 10\n"
     ]
    },
    {
     "name": "stderr",
     "output_type": "stream",
     "text": [
      "[Parallel(n_jobs=-1)]: Done  10 out of  10 | elapsed:    0.3s finished\n",
      "[Parallel(n_jobs=4)]: Using backend ThreadingBackend with 4 concurrent workers.\n",
      "[Parallel(n_jobs=4)]: Done  10 out of  10 | elapsed:    0.0s finished\n",
      "[Parallel(n_jobs=-1)]: Using backend ThreadingBackend with 4 concurrent workers.\n",
      "[Parallel(n_jobs=-1)]: Done  10 out of  10 | elapsed:    0.1s finished\n"
     ]
    },
    {
     "name": "stdout",
     "output_type": "stream",
     "text": [
      "building tree 1 of 10building tree 2 of 10building tree 3 of 10building tree 4 of 10\n",
      "\n",
      "\n",
      "\n",
      "building tree 5 of 10\n",
      "building tree 6 of 10building tree 7 of 10\n",
      "\n",
      "building tree 8 of 10\n",
      "building tree 9 of 10\n",
      "building tree 10 of 10\n"
     ]
    },
    {
     "name": "stderr",
     "output_type": "stream",
     "text": [
      "[Parallel(n_jobs=4)]: Using backend ThreadingBackend with 4 concurrent workers.\n",
      "[Parallel(n_jobs=4)]: Done  10 out of  10 | elapsed:    0.0s finished\n",
      "[Parallel(n_jobs=-1)]: Using backend ThreadingBackend with 4 concurrent workers.\n",
      "[Parallel(n_jobs=-1)]: Done  10 out of  10 | elapsed:    0.1s finished\n"
     ]
    },
    {
     "name": "stdout",
     "output_type": "stream",
     "text": [
      "building tree 1 of 10building tree 2 of 10building tree 3 of 10\n",
      "\n",
      "building tree 4 of 10\n",
      "\n",
      "building tree 5 of 10\n",
      "building tree 6 of 10\n",
      "building tree 7 of 10\n",
      "building tree 8 of 10building tree 9 of 10\n",
      "\n",
      "building tree 10 of 10\n"
     ]
    },
    {
     "name": "stderr",
     "output_type": "stream",
     "text": [
      "[Parallel(n_jobs=4)]: Using backend ThreadingBackend with 4 concurrent workers.\n",
      "[Parallel(n_jobs=4)]: Done  10 out of  10 | elapsed:    0.0s finished\n",
      "[Parallel(n_jobs=-1)]: Using backend ThreadingBackend with 4 concurrent workers.\n"
     ]
    },
    {
     "name": "stdout",
     "output_type": "stream",
     "text": [
      "building tree 1 of 10building tree 2 of 10\n",
      "building tree 3 of 10\n",
      "\n",
      "building tree 4 of 10\n",
      "building tree 5 of 10building tree 6 of 10\n",
      "\n",
      "building tree 7 of 10\n",
      "building tree 8 of 10\n",
      "building tree 9 of 10\n",
      "building tree 10 of 10\n"
     ]
    },
    {
     "name": "stderr",
     "output_type": "stream",
     "text": [
      "[Parallel(n_jobs=-1)]: Done  10 out of  10 | elapsed:    0.2s finished\n",
      "[Parallel(n_jobs=4)]: Using backend ThreadingBackend with 4 concurrent workers.\n",
      "[Parallel(n_jobs=4)]: Done  10 out of  10 | elapsed:    0.1s finished\n",
      "[Parallel(n_jobs=-1)]: Using backend ThreadingBackend with 4 concurrent workers.\n"
     ]
    },
    {
     "name": "stdout",
     "output_type": "stream",
     "text": [
      "building tree 1 of 10building tree 2 of 10building tree 3 of 10\n",
      "building tree 4 of 10\n",
      "\n",
      "\n",
      "building tree 5 of 10\n",
      "building tree 6 of 10\n",
      "building tree 7 of 10\n",
      "building tree 8 of 10\n",
      "building tree 9 of 10\n",
      "building tree 10 of 10\n"
     ]
    },
    {
     "name": "stderr",
     "output_type": "stream",
     "text": [
      "[Parallel(n_jobs=-1)]: Done  10 out of  10 | elapsed:    0.8s finished\n",
      "[Parallel(n_jobs=4)]: Using backend ThreadingBackend with 4 concurrent workers.\n",
      "[Parallel(n_jobs=4)]: Done  10 out of  10 | elapsed:    0.0s finished\n",
      "[Parallel(n_jobs=-1)]: Using backend ThreadingBackend with 4 concurrent workers.\n"
     ]
    },
    {
     "name": "stdout",
     "output_type": "stream",
     "text": [
      "building tree 1 of 10building tree 2 of 10building tree 3 of 10building tree 4 of 10\n",
      "\n",
      "\n",
      "\n",
      "building tree 5 of 10\n",
      "building tree 6 of 10building tree 7 of 10\n",
      "\n",
      "building tree 8 of 10\n",
      "building tree 9 of 10\n",
      "building tree 10 of 10\n"
     ]
    },
    {
     "name": "stderr",
     "output_type": "stream",
     "text": [
      "[Parallel(n_jobs=-1)]: Done  10 out of  10 | elapsed:    0.2s finished\n",
      "[Parallel(n_jobs=4)]: Using backend ThreadingBackend with 4 concurrent workers.\n",
      "[Parallel(n_jobs=4)]: Done  10 out of  10 | elapsed:    0.0s finished\n",
      "[Parallel(n_jobs=-1)]: Using backend ThreadingBackend with 4 concurrent workers.\n",
      "[Parallel(n_jobs=-1)]: Done  10 out of  10 | elapsed:    0.0s finished\n"
     ]
    },
    {
     "name": "stdout",
     "output_type": "stream",
     "text": [
      "building tree 1 of 10building tree 2 of 10building tree 3 of 10\n",
      "\n",
      "building tree 4 of 10\n",
      "\n",
      "building tree 5 of 10building tree 6 of 10\n",
      "\n",
      "building tree 7 of 10\n",
      "building tree 8 of 10\n",
      "building tree 9 of 10\n",
      "building tree 10 of 10\n"
     ]
    },
    {
     "name": "stderr",
     "output_type": "stream",
     "text": [
      "[Parallel(n_jobs=4)]: Using backend ThreadingBackend with 4 concurrent workers.\n",
      "[Parallel(n_jobs=4)]: Done  10 out of  10 | elapsed:    0.0s finished\n",
      "[Parallel(n_jobs=-1)]: Using backend ThreadingBackend with 4 concurrent workers.\n"
     ]
    },
    {
     "name": "stdout",
     "output_type": "stream",
     "text": [
      "building tree 1 of 10building tree 2 of 10building tree 3 of 10building tree 4 of 10\n",
      "\n",
      "\n",
      "\n",
      "building tree 5 of 10\n",
      "building tree 6 of 10\n",
      "building tree 7 of 10\n",
      "building tree 8 of 10\n",
      "building tree 9 of 10\n",
      "building tree 10 of 10\n"
     ]
    },
    {
     "name": "stderr",
     "output_type": "stream",
     "text": [
      "[Parallel(n_jobs=-1)]: Done  10 out of  10 | elapsed:    0.4s finished\n",
      "[Parallel(n_jobs=4)]: Using backend ThreadingBackend with 4 concurrent workers.\n",
      "[Parallel(n_jobs=4)]: Done  10 out of  10 | elapsed:    0.0s finished\n",
      "[Parallel(n_jobs=-1)]: Using backend ThreadingBackend with 4 concurrent workers.\n"
     ]
    },
    {
     "name": "stdout",
     "output_type": "stream",
     "text": [
      "building tree 1 of 10building tree 2 of 10\n",
      "building tree 3 of 10\n",
      "building tree 4 of 10\n",
      "\n",
      "building tree 5 of 10\n",
      "building tree 6 of 10\n",
      "building tree 7 of 10\n",
      "building tree 8 of 10\n",
      "building tree 9 of 10\n",
      "building tree 10 of 10\n"
     ]
    },
    {
     "name": "stderr",
     "output_type": "stream",
     "text": [
      "[Parallel(n_jobs=-1)]: Done  10 out of  10 | elapsed:    0.5s finished\n",
      "[Parallel(n_jobs=4)]: Using backend ThreadingBackend with 4 concurrent workers.\n",
      "[Parallel(n_jobs=4)]: Done  10 out of  10 | elapsed:    0.0s finished\n",
      "[Parallel(n_jobs=-1)]: Using backend ThreadingBackend with 4 concurrent workers.\n"
     ]
    },
    {
     "name": "stdout",
     "output_type": "stream",
     "text": [
      "building tree 1 of 10building tree 2 of 10building tree 3 of 10building tree 4 of 10\n",
      "\n",
      "\n",
      "\n",
      "building tree 5 of 10\n",
      "building tree 6 of 10\n",
      "building tree 7 of 10\n",
      "building tree 8 of 10\n",
      "building tree 9 of 10\n",
      "building tree 10 of 10\n"
     ]
    },
    {
     "name": "stderr",
     "output_type": "stream",
     "text": [
      "[Parallel(n_jobs=-1)]: Done  10 out of  10 | elapsed:    0.5s finished\n",
      "[Parallel(n_jobs=4)]: Using backend ThreadingBackend with 4 concurrent workers.\n",
      "[Parallel(n_jobs=4)]: Done  10 out of  10 | elapsed:    0.0s finished\n",
      "[Parallel(n_jobs=-1)]: Using backend ThreadingBackend with 4 concurrent workers.\n"
     ]
    },
    {
     "name": "stdout",
     "output_type": "stream",
     "text": [
      "building tree 1 of 10building tree 2 of 10\n",
      "building tree 3 of 10building tree 4 of 10\n",
      "\n",
      "\n",
      "building tree 5 of 10\n",
      "building tree 6 of 10\n",
      "building tree 7 of 10\n",
      "building tree 8 of 10\n",
      "building tree 9 of 10\n",
      "building tree 10 of 10\n"
     ]
    },
    {
     "name": "stderr",
     "output_type": "stream",
     "text": [
      "[Parallel(n_jobs=-1)]: Done  10 out of  10 | elapsed:    0.6s finished\n",
      "[Parallel(n_jobs=4)]: Using backend ThreadingBackend with 4 concurrent workers.\n",
      "[Parallel(n_jobs=4)]: Done  10 out of  10 | elapsed:    0.0s finished\n",
      "[Parallel(n_jobs=-1)]: Using backend ThreadingBackend with 4 concurrent workers.\n"
     ]
    },
    {
     "name": "stdout",
     "output_type": "stream",
     "text": [
      "building tree 1 of 10building tree 2 of 10\n",
      "building tree 3 of 10\n",
      "\n",
      "building tree 4 of 10\n",
      "building tree 5 of 10\n",
      "building tree 6 of 10\n",
      "building tree 7 of 10\n",
      "building tree 8 of 10\n",
      "building tree 9 of 10\n",
      "building tree 10 of 10\n"
     ]
    },
    {
     "name": "stderr",
     "output_type": "stream",
     "text": [
      "[Parallel(n_jobs=-1)]: Done  10 out of  10 | elapsed:    0.9s finished\n",
      "[Parallel(n_jobs=4)]: Using backend ThreadingBackend with 4 concurrent workers.\n",
      "[Parallel(n_jobs=4)]: Done  10 out of  10 | elapsed:    0.0s finished\n",
      "[Parallel(n_jobs=-1)]: Using backend ThreadingBackend with 4 concurrent workers.\n"
     ]
    },
    {
     "name": "stdout",
     "output_type": "stream",
     "text": [
      "building tree 1 of 10building tree 2 of 10building tree 3 of 10\n",
      "\n",
      "\n",
      "building tree 4 of 10\n",
      "building tree 5 of 10\n",
      "building tree 6 of 10\n",
      "building tree 7 of 10\n",
      "building tree 8 of 10\n",
      "building tree 9 of 10\n",
      "building tree 10 of 10\n"
     ]
    },
    {
     "name": "stderr",
     "output_type": "stream",
     "text": [
      "[Parallel(n_jobs=-1)]: Done  10 out of  10 | elapsed:    0.6s finished\n",
      "[Parallel(n_jobs=4)]: Using backend ThreadingBackend with 4 concurrent workers.\n",
      "[Parallel(n_jobs=4)]: Done  10 out of  10 | elapsed:    0.0s finished\n",
      "[Parallel(n_jobs=-1)]: Using backend ThreadingBackend with 4 concurrent workers.\n"
     ]
    },
    {
     "name": "stdout",
     "output_type": "stream",
     "text": [
      "building tree 1 of 10building tree 2 of 10building tree 3 of 10building tree 4 of 10\n",
      "\n",
      "\n",
      "\n",
      "building tree 5 of 10\n",
      "building tree 6 of 10\n",
      "building tree 7 of 10\n",
      "building tree 8 of 10\n",
      "building tree 9 of 10\n",
      "building tree 10 of 10\n"
     ]
    },
    {
     "name": "stderr",
     "output_type": "stream",
     "text": [
      "[Parallel(n_jobs=-1)]: Done  10 out of  10 | elapsed:    0.6s finished\n",
      "[Parallel(n_jobs=4)]: Using backend ThreadingBackend with 4 concurrent workers.\n",
      "[Parallel(n_jobs=4)]: Done  10 out of  10 | elapsed:    0.0s finished\n",
      "[Parallel(n_jobs=-1)]: Using backend ThreadingBackend with 4 concurrent workers.\n"
     ]
    },
    {
     "name": "stdout",
     "output_type": "stream",
     "text": [
      "building tree 1 of 10building tree 2 of 10\n",
      "building tree 3 of 10building tree 4 of 10\n",
      "\n",
      "\n",
      "building tree 5 of 10\n",
      "building tree 6 of 10\n",
      "building tree 7 of 10\n",
      "building tree 8 of 10\n",
      "building tree 9 of 10\n",
      "building tree 10 of 10\n"
     ]
    },
    {
     "name": "stderr",
     "output_type": "stream",
     "text": [
      "[Parallel(n_jobs=-1)]: Done  10 out of  10 | elapsed:    0.6s finished\n",
      "[Parallel(n_jobs=4)]: Using backend ThreadingBackend with 4 concurrent workers.\n",
      "[Parallel(n_jobs=4)]: Done  10 out of  10 | elapsed:    0.0s finished\n",
      "[Parallel(n_jobs=-1)]: Using backend ThreadingBackend with 4 concurrent workers.\n"
     ]
    },
    {
     "name": "stdout",
     "output_type": "stream",
     "text": [
      "building tree 1 of 10building tree 2 of 10building tree 3 of 10\n",
      "\n",
      "building tree 4 of 10\n",
      "\n",
      "building tree 5 of 10\n",
      "building tree 6 of 10\n",
      "building tree 7 of 10\n",
      "building tree 8 of 10\n",
      "building tree 9 of 10\n",
      "building tree 10 of 10\n"
     ]
    },
    {
     "name": "stderr",
     "output_type": "stream",
     "text": [
      "[Parallel(n_jobs=-1)]: Done  10 out of  10 | elapsed:    0.5s finished\n",
      "[Parallel(n_jobs=4)]: Using backend ThreadingBackend with 4 concurrent workers.\n",
      "[Parallel(n_jobs=4)]: Done  10 out of  10 | elapsed:    0.0s finished\n",
      "[Parallel(n_jobs=-1)]: Using backend ThreadingBackend with 4 concurrent workers.\n"
     ]
    },
    {
     "name": "stdout",
     "output_type": "stream",
     "text": [
      "building tree 1 of 10building tree 2 of 10\n",
      "\n",
      "building tree 3 of 10building tree 4 of 10\n",
      "\n",
      "building tree 5 of 10\n",
      "building tree 6 of 10\n",
      "building tree 7 of 10\n",
      "building tree 8 of 10\n",
      "building tree 9 of 10\n",
      "building tree 10 of 10\n"
     ]
    },
    {
     "name": "stderr",
     "output_type": "stream",
     "text": [
      "[Parallel(n_jobs=-1)]: Done  10 out of  10 | elapsed:    0.5s finished\n",
      "[Parallel(n_jobs=4)]: Using backend ThreadingBackend with 4 concurrent workers.\n",
      "[Parallel(n_jobs=4)]: Done  10 out of  10 | elapsed:    0.0s finished\n",
      "[Parallel(n_jobs=-1)]: Using backend ThreadingBackend with 4 concurrent workers.\n"
     ]
    },
    {
     "name": "stdout",
     "output_type": "stream",
     "text": [
      "building tree 1 of 10building tree 2 of 10building tree 3 of 10building tree 4 of 10\n",
      "\n",
      "\n",
      "\n",
      "building tree 5 of 10\n",
      "building tree 6 of 10\n",
      "building tree 7 of 10\n",
      "building tree 8 of 10\n",
      "building tree 9 of 10\n",
      "building tree 10 of 10\n"
     ]
    },
    {
     "name": "stderr",
     "output_type": "stream",
     "text": [
      "[Parallel(n_jobs=-1)]: Done  10 out of  10 | elapsed:    0.4s finished\n",
      "[Parallel(n_jobs=4)]: Using backend ThreadingBackend with 4 concurrent workers.\n",
      "[Parallel(n_jobs=4)]: Done  10 out of  10 | elapsed:    0.0s finished\n",
      "[Parallel(n_jobs=-1)]: Using backend ThreadingBackend with 4 concurrent workers.\n"
     ]
    },
    {
     "name": "stdout",
     "output_type": "stream",
     "text": [
      "building tree 1 of 10building tree 2 of 10building tree 3 of 10\n",
      "\n",
      "\n",
      "building tree 4 of 10\n",
      "building tree 5 of 10\n",
      "building tree 6 of 10\n",
      "building tree 7 of 10\n",
      "building tree 8 of 10\n",
      "building tree 9 of 10\n",
      "building tree 10 of 10\n"
     ]
    },
    {
     "name": "stderr",
     "output_type": "stream",
     "text": [
      "[Parallel(n_jobs=-1)]: Done  10 out of  10 | elapsed:    0.2s finished\n",
      "[Parallel(n_jobs=4)]: Using backend ThreadingBackend with 4 concurrent workers.\n",
      "[Parallel(n_jobs=4)]: Done  10 out of  10 | elapsed:    0.0s finished\n",
      "[Parallel(n_jobs=-1)]: Using backend ThreadingBackend with 4 concurrent workers.\n"
     ]
    },
    {
     "name": "stdout",
     "output_type": "stream",
     "text": [
      "building tree 1 of 10building tree 2 of 10building tree 3 of 10\n",
      "\n",
      "\n",
      "building tree 4 of 10\n",
      "building tree 5 of 10\n",
      "building tree 6 of 10\n",
      "building tree 7 of 10\n",
      "building tree 8 of 10\n",
      "building tree 9 of 10\n",
      "building tree 10 of 10\n"
     ]
    },
    {
     "name": "stderr",
     "output_type": "stream",
     "text": [
      "[Parallel(n_jobs=-1)]: Done  10 out of  10 | elapsed:    0.2s finished\n",
      "[Parallel(n_jobs=4)]: Using backend ThreadingBackend with 4 concurrent workers.\n",
      "[Parallel(n_jobs=4)]: Done  10 out of  10 | elapsed:    0.0s finished\n",
      "[Parallel(n_jobs=-1)]: Using backend ThreadingBackend with 4 concurrent workers.\n"
     ]
    },
    {
     "name": "stdout",
     "output_type": "stream",
     "text": [
      "building tree 1 of 10building tree 2 of 10\n",
      "\n",
      "building tree 3 of 10building tree 4 of 10\n",
      "\n",
      "building tree 5 of 10\n",
      "building tree 6 of 10\n",
      "building tree 7 of 10\n",
      "building tree 8 of 10\n",
      "building tree 9 of 10\n",
      "building tree 10 of 10\n"
     ]
    },
    {
     "name": "stderr",
     "output_type": "stream",
     "text": [
      "[Parallel(n_jobs=-1)]: Done  10 out of  10 | elapsed:    0.3s finished\n",
      "[Parallel(n_jobs=4)]: Using backend ThreadingBackend with 4 concurrent workers.\n",
      "[Parallel(n_jobs=4)]: Done  10 out of  10 | elapsed:    0.0s finished\n",
      "[Parallel(n_jobs=-1)]: Using backend ThreadingBackend with 4 concurrent workers.\n"
     ]
    },
    {
     "name": "stdout",
     "output_type": "stream",
     "text": [
      "building tree 1 of 10building tree 2 of 10\n",
      "building tree 3 of 10\n",
      "building tree 4 of 10\n",
      "\n",
      "building tree 5 of 10building tree 6 of 10\n",
      "\n",
      "building tree 7 of 10\n",
      "building tree 8 of 10\n",
      "building tree 9 of 10\n",
      "building tree 10 of 10\n"
     ]
    },
    {
     "name": "stderr",
     "output_type": "stream",
     "text": [
      "[Parallel(n_jobs=-1)]: Done  10 out of  10 | elapsed:    0.3s finished\n",
      "[Parallel(n_jobs=4)]: Using backend ThreadingBackend with 4 concurrent workers.\n",
      "[Parallel(n_jobs=4)]: Done  10 out of  10 | elapsed:    0.0s finished\n",
      "[Parallel(n_jobs=-1)]: Using backend ThreadingBackend with 4 concurrent workers.\n"
     ]
    },
    {
     "name": "stdout",
     "output_type": "stream",
     "text": [
      "building tree 1 of 10building tree 2 of 10building tree 3 of 10building tree 4 of 10\n",
      "\n",
      "\n",
      "\n",
      "building tree 5 of 10\n",
      "building tree 6 of 10\n",
      "building tree 7 of 10\n",
      "building tree 8 of 10\n",
      "building tree 9 of 10\n",
      "building tree 10 of 10\n"
     ]
    },
    {
     "name": "stderr",
     "output_type": "stream",
     "text": [
      "[Parallel(n_jobs=-1)]: Done  10 out of  10 | elapsed:    0.3s finished\n",
      "[Parallel(n_jobs=4)]: Using backend ThreadingBackend with 4 concurrent workers.\n",
      "[Parallel(n_jobs=4)]: Done  10 out of  10 | elapsed:    0.0s finished\n",
      "[Parallel(n_jobs=-1)]: Using backend ThreadingBackend with 4 concurrent workers.\n"
     ]
    },
    {
     "name": "stdout",
     "output_type": "stream",
     "text": [
      "building tree 1 of 10building tree 2 of 10\n",
      "building tree 3 of 10building tree 4 of 10\n",
      "\n",
      "\n",
      "building tree 5 of 10\n",
      "building tree 6 of 10\n",
      "building tree 7 of 10\n",
      "building tree 8 of 10\n",
      "building tree 9 of 10\n",
      "building tree 10 of 10\n"
     ]
    },
    {
     "name": "stderr",
     "output_type": "stream",
     "text": [
      "[Parallel(n_jobs=-1)]: Done  10 out of  10 | elapsed:    0.7s finished\n",
      "[Parallel(n_jobs=4)]: Using backend ThreadingBackend with 4 concurrent workers.\n",
      "[Parallel(n_jobs=4)]: Done  10 out of  10 | elapsed:    0.0s finished\n",
      "[Parallel(n_jobs=-1)]: Using backend ThreadingBackend with 4 concurrent workers.\n"
     ]
    },
    {
     "name": "stdout",
     "output_type": "stream",
     "text": [
      "building tree 1 of 10building tree 2 of 10\n",
      "\n",
      "building tree 3 of 10building tree 4 of 10\n",
      "\n",
      "building tree 5 of 10\n",
      "building tree 6 of 10\n",
      "building tree 7 of 10\n",
      "building tree 8 of 10\n",
      "building tree 9 of 10\n",
      "building tree 10 of 10\n"
     ]
    },
    {
     "name": "stderr",
     "output_type": "stream",
     "text": [
      "[Parallel(n_jobs=-1)]: Done  10 out of  10 | elapsed:    0.8s finished\n",
      "[Parallel(n_jobs=4)]: Using backend ThreadingBackend with 4 concurrent workers.\n",
      "[Parallel(n_jobs=4)]: Done  10 out of  10 | elapsed:    0.0s finished\n",
      "[Parallel(n_jobs=-1)]: Using backend ThreadingBackend with 4 concurrent workers.\n"
     ]
    },
    {
     "name": "stdout",
     "output_type": "stream",
     "text": [
      "building tree 1 of 10building tree 2 of 10\n",
      "\n",
      "building tree 3 of 10building tree 4 of 10\n",
      "\n",
      "building tree 5 of 10\n",
      "building tree 6 of 10\n",
      "building tree 7 of 10\n",
      "building tree 8 of 10\n",
      "building tree 9 of 10\n",
      "building tree 10 of 10\n"
     ]
    },
    {
     "name": "stderr",
     "output_type": "stream",
     "text": [
      "[Parallel(n_jobs=-1)]: Done  10 out of  10 | elapsed:    0.3s finished\n",
      "[Parallel(n_jobs=4)]: Using backend ThreadingBackend with 4 concurrent workers.\n",
      "[Parallel(n_jobs=4)]: Done  10 out of  10 | elapsed:    0.0s finished\n",
      "[Parallel(n_jobs=-1)]: Using backend ThreadingBackend with 4 concurrent workers.\n"
     ]
    },
    {
     "name": "stdout",
     "output_type": "stream",
     "text": [
      "building tree 1 of 10building tree 2 of 10\n",
      "building tree 3 of 10\n",
      "building tree 4 of 10\n",
      "\n",
      "building tree 5 of 10\n",
      "building tree 6 of 10\n",
      "building tree 7 of 10\n",
      "building tree 8 of 10\n",
      "building tree 9 of 10\n",
      "building tree 10 of 10\n"
     ]
    },
    {
     "name": "stderr",
     "output_type": "stream",
     "text": [
      "[Parallel(n_jobs=-1)]: Done  10 out of  10 | elapsed:    0.7s finished\n",
      "[Parallel(n_jobs=4)]: Using backend ThreadingBackend with 4 concurrent workers.\n",
      "[Parallel(n_jobs=4)]: Done  10 out of  10 | elapsed:    0.0s finished\n",
      "[Parallel(n_jobs=-1)]: Using backend ThreadingBackend with 4 concurrent workers.\n"
     ]
    },
    {
     "name": "stdout",
     "output_type": "stream",
     "text": [
      "building tree 1 of 10building tree 2 of 10building tree 3 of 10\n",
      "building tree 4 of 10\n",
      "\n",
      "\n",
      "building tree 5 of 10\n",
      "building tree 6 of 10\n",
      "building tree 7 of 10\n",
      "building tree 8 of 10\n",
      "building tree 9 of 10\n",
      "building tree 10 of 10\n"
     ]
    },
    {
     "name": "stderr",
     "output_type": "stream",
     "text": [
      "[Parallel(n_jobs=-1)]: Done  10 out of  10 | elapsed:    0.5s finished\n",
      "[Parallel(n_jobs=4)]: Using backend ThreadingBackend with 4 concurrent workers.\n",
      "[Parallel(n_jobs=4)]: Done  10 out of  10 | elapsed:    0.0s finished\n",
      "[Parallel(n_jobs=-1)]: Using backend ThreadingBackend with 4 concurrent workers.\n"
     ]
    },
    {
     "name": "stdout",
     "output_type": "stream",
     "text": [
      "building tree 1 of 10building tree 2 of 10building tree 3 of 10\n",
      "\n",
      "\n",
      "building tree 4 of 10\n",
      "building tree 5 of 10\n",
      "building tree 6 of 10\n",
      "building tree 7 of 10\n",
      "building tree 8 of 10\n",
      "building tree 9 of 10\n",
      "building tree 10 of 10\n"
     ]
    },
    {
     "name": "stderr",
     "output_type": "stream",
     "text": [
      "[Parallel(n_jobs=-1)]: Done  10 out of  10 | elapsed:    0.4s finished\n",
      "[Parallel(n_jobs=4)]: Using backend ThreadingBackend with 4 concurrent workers.\n",
      "[Parallel(n_jobs=4)]: Done  10 out of  10 | elapsed:    0.0s finished\n",
      "[Parallel(n_jobs=-1)]: Using backend ThreadingBackend with 4 concurrent workers.\n"
     ]
    },
    {
     "name": "stdout",
     "output_type": "stream",
     "text": [
      "building tree 1 of 10building tree 2 of 10\n",
      "building tree 3 of 10building tree 4 of 10\n",
      "\n",
      "\n",
      "building tree 5 of 10\n",
      "building tree 6 of 10\n",
      "building tree 7 of 10building tree 8 of 10\n",
      "\n",
      "building tree 9 of 10\n",
      "building tree 10 of 10\n"
     ]
    },
    {
     "name": "stderr",
     "output_type": "stream",
     "text": [
      "[Parallel(n_jobs=-1)]: Done  10 out of  10 | elapsed:    0.8s finished\n",
      "[Parallel(n_jobs=4)]: Using backend ThreadingBackend with 4 concurrent workers.\n",
      "[Parallel(n_jobs=4)]: Done  10 out of  10 | elapsed:    0.0s finished\n",
      "[Parallel(n_jobs=-1)]: Using backend ThreadingBackend with 4 concurrent workers.\n"
     ]
    },
    {
     "name": "stdout",
     "output_type": "stream",
     "text": [
      "building tree 1 of 10building tree 2 of 10\n",
      "building tree 3 of 10\n",
      "\n",
      "building tree 4 of 10\n",
      "building tree 5 of 10\n",
      "building tree 6 of 10\n",
      "building tree 7 of 10\n",
      "building tree 8 of 10\n",
      "building tree 9 of 10\n",
      "building tree 10 of 10\n"
     ]
    },
    {
     "name": "stderr",
     "output_type": "stream",
     "text": [
      "[Parallel(n_jobs=-1)]: Done  10 out of  10 | elapsed:    1.0s finished\n",
      "[Parallel(n_jobs=4)]: Using backend ThreadingBackend with 4 concurrent workers.\n",
      "[Parallel(n_jobs=4)]: Done  10 out of  10 | elapsed:    0.0s finished\n",
      "[Parallel(n_jobs=-1)]: Using backend ThreadingBackend with 4 concurrent workers.\n"
     ]
    },
    {
     "name": "stdout",
     "output_type": "stream",
     "text": [
      "building tree 1 of 10building tree 2 of 10\n",
      "building tree 3 of 10\n",
      "\n",
      "building tree 4 of 10\n",
      "building tree 5 of 10\n",
      "building tree 6 of 10\n",
      "building tree 7 of 10\n",
      "building tree 8 of 10\n",
      "building tree 9 of 10\n",
      "building tree 10 of 10\n"
     ]
    },
    {
     "name": "stderr",
     "output_type": "stream",
     "text": [
      "[Parallel(n_jobs=-1)]: Done  10 out of  10 | elapsed:    0.5s finished\n",
      "[Parallel(n_jobs=4)]: Using backend ThreadingBackend with 4 concurrent workers.\n",
      "[Parallel(n_jobs=4)]: Done  10 out of  10 | elapsed:    0.0s finished\n",
      "[Parallel(n_jobs=-1)]: Using backend ThreadingBackend with 4 concurrent workers.\n"
     ]
    },
    {
     "name": "stdout",
     "output_type": "stream",
     "text": [
      "building tree 1 of 10building tree 2 of 10building tree 3 of 10\n",
      "\n",
      "building tree 4 of 10\n",
      "\n",
      "building tree 5 of 10\n",
      "building tree 6 of 10\n",
      "building tree 7 of 10\n",
      "building tree 8 of 10\n",
      "building tree 9 of 10\n",
      "building tree 10 of 10\n"
     ]
    },
    {
     "name": "stderr",
     "output_type": "stream",
     "text": [
      "[Parallel(n_jobs=-1)]: Done  10 out of  10 | elapsed:    0.5s finished\n",
      "[Parallel(n_jobs=4)]: Using backend ThreadingBackend with 4 concurrent workers.\n",
      "[Parallel(n_jobs=4)]: Done  10 out of  10 | elapsed:    0.0s finished\n",
      "[Parallel(n_jobs=-1)]: Using backend ThreadingBackend with 4 concurrent workers.\n"
     ]
    },
    {
     "name": "stdout",
     "output_type": "stream",
     "text": [
      "building tree 1 of 10building tree 2 of 10\n",
      "\n",
      "building tree 3 of 10building tree 4 of 10\n",
      "\n",
      "building tree 5 of 10\n",
      "building tree 6 of 10\n",
      "building tree 7 of 10\n",
      "building tree 8 of 10\n",
      "building tree 9 of 10\n",
      "building tree 10 of 10\n"
     ]
    },
    {
     "name": "stderr",
     "output_type": "stream",
     "text": [
      "[Parallel(n_jobs=-1)]: Done  10 out of  10 | elapsed:    0.4s finished\n",
      "[Parallel(n_jobs=4)]: Using backend ThreadingBackend with 4 concurrent workers.\n",
      "[Parallel(n_jobs=4)]: Done  10 out of  10 | elapsed:    0.0s finished\n",
      "[Parallel(n_jobs=-1)]: Using backend ThreadingBackend with 4 concurrent workers.\n"
     ]
    },
    {
     "name": "stdout",
     "output_type": "stream",
     "text": [
      "building tree 1 of 10building tree 2 of 10building tree 3 of 10building tree 4 of 10\n",
      "\n",
      "\n",
      "\n",
      "building tree 5 of 10\n",
      "building tree 6 of 10\n",
      "building tree 7 of 10\n",
      "building tree 8 of 10\n",
      "building tree 9 of 10\n",
      "building tree 10 of 10\n"
     ]
    },
    {
     "name": "stderr",
     "output_type": "stream",
     "text": [
      "[Parallel(n_jobs=-1)]: Done  10 out of  10 | elapsed:    0.2s finished\n"
     ]
    },
    {
     "data": {
      "text/plain": [
       "LGBMClassifier(boosting_type='gbdt', class_weight='balanced',\n",
       "               colsample_bytree=1.0, importance_type='split', learning_rate=0.1,\n",
       "               max_depth=-1, min_child_samples=20, min_child_weight=0.001,\n",
       "               min_split_gain=0.0, n_estimators=100, n_jobs=-1, num_leaves=31,\n",
       "               objective=None, random_state=None, reg_alpha=0.0, reg_lambda=0.0,\n",
       "               silent=True, subsample=1.0, subsample_for_bin=200000,\n",
       "               subsample_freq=0, verbose=2)"
      ]
     },
     "execution_count": 91,
     "metadata": {},
     "output_type": "execute_result"
    }
   ],
   "source": [
    "lrc.fit(train_cleaned_x,train_cleaned_y)\n",
    "sgc.fit(train_cleaned_x,train_cleaned_y)\n",
    "rfc.fit(train_cleaned_x,train_cleaned_y)\n",
    "abc.fit(train_cleaned_x,train_cleaned_y)\n",
    "etc.fit(train_cleaned_x,train_cleaned_y)\n",
    "xgc.fit(train_cleaned_x,train_cleaned_y)\n",
    "lgbc.fit(train_cleaned_x,train_cleaned_y)\n"
   ]
  },
  {
   "cell_type": "code",
   "execution_count": 92,
   "metadata": {},
   "outputs": [
    {
     "name": "stderr",
     "output_type": "stream",
     "text": [
      "[Parallel(n_jobs=4)]: Using backend ThreadingBackend with 4 concurrent workers.\n",
      "[Parallel(n_jobs=4)]: Done  10 out of  10 | elapsed:    0.0s finished\n",
      "[Parallel(n_jobs=4)]: Using backend ThreadingBackend with 4 concurrent workers.\n",
      "[Parallel(n_jobs=4)]: Done  10 out of  10 | elapsed:    0.0s finished\n",
      "[Parallel(n_jobs=4)]: Using backend ThreadingBackend with 4 concurrent workers.\n",
      "[Parallel(n_jobs=4)]: Done  10 out of  10 | elapsed:    0.0s finished\n",
      "[Parallel(n_jobs=4)]: Using backend ThreadingBackend with 4 concurrent workers.\n",
      "[Parallel(n_jobs=4)]: Done  10 out of  10 | elapsed:    0.0s finished\n",
      "[Parallel(n_jobs=4)]: Using backend ThreadingBackend with 4 concurrent workers.\n",
      "[Parallel(n_jobs=4)]: Done  10 out of  10 | elapsed:    0.0s finished\n",
      "[Parallel(n_jobs=4)]: Using backend ThreadingBackend with 4 concurrent workers.\n",
      "[Parallel(n_jobs=4)]: Done  10 out of  10 | elapsed:    0.0s finished\n",
      "[Parallel(n_jobs=4)]: Using backend ThreadingBackend with 4 concurrent workers.\n",
      "[Parallel(n_jobs=4)]: Done  10 out of  10 | elapsed:    0.0s finished\n",
      "[Parallel(n_jobs=4)]: Using backend ThreadingBackend with 4 concurrent workers.\n",
      "[Parallel(n_jobs=4)]: Done  10 out of  10 | elapsed:    0.0s finished\n",
      "[Parallel(n_jobs=4)]: Using backend ThreadingBackend with 4 concurrent workers.\n",
      "[Parallel(n_jobs=4)]: Done  10 out of  10 | elapsed:    0.0s finished\n",
      "[Parallel(n_jobs=4)]: Using backend ThreadingBackend with 4 concurrent workers.\n",
      "[Parallel(n_jobs=4)]: Done  10 out of  10 | elapsed:    0.0s finished\n",
      "[Parallel(n_jobs=4)]: Using backend ThreadingBackend with 4 concurrent workers.\n",
      "[Parallel(n_jobs=4)]: Done  10 out of  10 | elapsed:    0.0s finished\n",
      "[Parallel(n_jobs=4)]: Using backend ThreadingBackend with 4 concurrent workers.\n",
      "[Parallel(n_jobs=4)]: Done  10 out of  10 | elapsed:    0.0s finished\n",
      "[Parallel(n_jobs=4)]: Using backend ThreadingBackend with 4 concurrent workers.\n",
      "[Parallel(n_jobs=4)]: Done  10 out of  10 | elapsed:    0.0s finished\n",
      "[Parallel(n_jobs=4)]: Using backend ThreadingBackend with 4 concurrent workers.\n",
      "[Parallel(n_jobs=4)]: Done  10 out of  10 | elapsed:    0.0s finished\n",
      "[Parallel(n_jobs=4)]: Using backend ThreadingBackend with 4 concurrent workers.\n",
      "[Parallel(n_jobs=4)]: Done  10 out of  10 | elapsed:    0.0s finished\n",
      "[Parallel(n_jobs=4)]: Using backend ThreadingBackend with 4 concurrent workers.\n",
      "[Parallel(n_jobs=4)]: Done  10 out of  10 | elapsed:    0.0s finished\n",
      "[Parallel(n_jobs=4)]: Using backend ThreadingBackend with 4 concurrent workers.\n",
      "[Parallel(n_jobs=4)]: Done  10 out of  10 | elapsed:    0.0s finished\n",
      "[Parallel(n_jobs=4)]: Using backend ThreadingBackend with 4 concurrent workers.\n",
      "[Parallel(n_jobs=4)]: Done  10 out of  10 | elapsed:    0.0s finished\n",
      "[Parallel(n_jobs=4)]: Using backend ThreadingBackend with 4 concurrent workers.\n",
      "[Parallel(n_jobs=4)]: Done  10 out of  10 | elapsed:    0.0s finished\n",
      "[Parallel(n_jobs=4)]: Using backend ThreadingBackend with 4 concurrent workers.\n",
      "[Parallel(n_jobs=4)]: Done  10 out of  10 | elapsed:    0.0s finished\n",
      "[Parallel(n_jobs=4)]: Using backend ThreadingBackend with 4 concurrent workers.\n",
      "[Parallel(n_jobs=4)]: Done  10 out of  10 | elapsed:    0.0s finished\n",
      "[Parallel(n_jobs=4)]: Using backend ThreadingBackend with 4 concurrent workers.\n",
      "[Parallel(n_jobs=4)]: Done  10 out of  10 | elapsed:    0.0s finished\n",
      "[Parallel(n_jobs=4)]: Using backend ThreadingBackend with 4 concurrent workers.\n",
      "[Parallel(n_jobs=4)]: Done  10 out of  10 | elapsed:    0.0s finished\n",
      "[Parallel(n_jobs=4)]: Using backend ThreadingBackend with 4 concurrent workers.\n",
      "[Parallel(n_jobs=4)]: Done  10 out of  10 | elapsed:    0.0s finished\n",
      "[Parallel(n_jobs=4)]: Using backend ThreadingBackend with 4 concurrent workers.\n",
      "[Parallel(n_jobs=4)]: Done  10 out of  10 | elapsed:    0.0s finished\n",
      "[Parallel(n_jobs=4)]: Using backend ThreadingBackend with 4 concurrent workers.\n",
      "[Parallel(n_jobs=4)]: Done  10 out of  10 | elapsed:    0.0s finished\n",
      "[Parallel(n_jobs=4)]: Using backend ThreadingBackend with 4 concurrent workers.\n",
      "[Parallel(n_jobs=4)]: Done  10 out of  10 | elapsed:    0.0s finished\n",
      "[Parallel(n_jobs=4)]: Using backend ThreadingBackend with 4 concurrent workers.\n",
      "[Parallel(n_jobs=4)]: Done  10 out of  10 | elapsed:    0.0s finished\n",
      "[Parallel(n_jobs=4)]: Using backend ThreadingBackend with 4 concurrent workers.\n",
      "[Parallel(n_jobs=4)]: Done  10 out of  10 | elapsed:    0.0s finished\n",
      "[Parallel(n_jobs=4)]: Using backend ThreadingBackend with 4 concurrent workers.\n",
      "[Parallel(n_jobs=4)]: Done  10 out of  10 | elapsed:    0.0s finished\n",
      "[Parallel(n_jobs=4)]: Using backend ThreadingBackend with 4 concurrent workers.\n",
      "[Parallel(n_jobs=4)]: Done  10 out of  10 | elapsed:    0.0s finished\n",
      "[Parallel(n_jobs=4)]: Using backend ThreadingBackend with 4 concurrent workers.\n",
      "[Parallel(n_jobs=4)]: Done  10 out of  10 | elapsed:    0.0s finished\n",
      "[Parallel(n_jobs=4)]: Using backend ThreadingBackend with 4 concurrent workers.\n",
      "[Parallel(n_jobs=4)]: Done  10 out of  10 | elapsed:    0.0s finished\n",
      "[Parallel(n_jobs=4)]: Using backend ThreadingBackend with 4 concurrent workers.\n",
      "[Parallel(n_jobs=4)]: Done  10 out of  10 | elapsed:    0.0s finished\n",
      "[Parallel(n_jobs=4)]: Using backend ThreadingBackend with 4 concurrent workers.\n",
      "[Parallel(n_jobs=4)]: Done  10 out of  10 | elapsed:    0.0s finished\n",
      "[Parallel(n_jobs=4)]: Using backend ThreadingBackend with 4 concurrent workers.\n",
      "[Parallel(n_jobs=4)]: Done  10 out of  10 | elapsed:    0.0s finished\n",
      "[Parallel(n_jobs=4)]: Using backend ThreadingBackend with 4 concurrent workers.\n",
      "[Parallel(n_jobs=4)]: Done  10 out of  10 | elapsed:    0.0s finished\n",
      "[Parallel(n_jobs=4)]: Using backend ThreadingBackend with 4 concurrent workers.\n",
      "[Parallel(n_jobs=4)]: Done  10 out of  10 | elapsed:    0.0s finished\n",
      "[Parallel(n_jobs=4)]: Using backend ThreadingBackend with 4 concurrent workers.\n",
      "[Parallel(n_jobs=4)]: Done  10 out of  10 | elapsed:    0.0s finished\n",
      "[Parallel(n_jobs=4)]: Using backend ThreadingBackend with 4 concurrent workers.\n",
      "[Parallel(n_jobs=4)]: Done  10 out of  10 | elapsed:    0.0s finished\n",
      "[Parallel(n_jobs=4)]: Using backend ThreadingBackend with 4 concurrent workers.\n",
      "[Parallel(n_jobs=4)]: Done  10 out of  10 | elapsed:    0.0s finished\n",
      "[Parallel(n_jobs=4)]: Using backend ThreadingBackend with 4 concurrent workers.\n",
      "[Parallel(n_jobs=4)]: Done  10 out of  10 | elapsed:    0.0s finished\n",
      "[Parallel(n_jobs=4)]: Using backend ThreadingBackend with 4 concurrent workers.\n",
      "[Parallel(n_jobs=4)]: Done  10 out of  10 | elapsed:    0.0s finished\n",
      "[Parallel(n_jobs=4)]: Using backend ThreadingBackend with 4 concurrent workers.\n",
      "[Parallel(n_jobs=4)]: Done  10 out of  10 | elapsed:    0.0s finished\n",
      "[Parallel(n_jobs=4)]: Using backend ThreadingBackend with 4 concurrent workers.\n",
      "[Parallel(n_jobs=4)]: Done  10 out of  10 | elapsed:    0.0s finished\n",
      "[Parallel(n_jobs=4)]: Using backend ThreadingBackend with 4 concurrent workers.\n",
      "[Parallel(n_jobs=4)]: Done  10 out of  10 | elapsed:    0.0s finished\n",
      "[Parallel(n_jobs=4)]: Using backend ThreadingBackend with 4 concurrent workers.\n",
      "[Parallel(n_jobs=4)]: Done  10 out of  10 | elapsed:    0.0s finished\n",
      "[Parallel(n_jobs=4)]: Using backend ThreadingBackend with 4 concurrent workers.\n",
      "[Parallel(n_jobs=4)]: Done  10 out of  10 | elapsed:    0.0s finished\n",
      "[Parallel(n_jobs=4)]: Using backend ThreadingBackend with 4 concurrent workers.\n",
      "[Parallel(n_jobs=4)]: Done  10 out of  10 | elapsed:    0.0s finished\n",
      "[Parallel(n_jobs=4)]: Using backend ThreadingBackend with 4 concurrent workers.\n",
      "[Parallel(n_jobs=4)]: Done  10 out of  10 | elapsed:    0.0s finished\n",
      "[Parallel(n_jobs=4)]: Using backend ThreadingBackend with 4 concurrent workers.\n",
      "[Parallel(n_jobs=4)]: Done  10 out of  10 | elapsed:    0.0s finished\n",
      "[Parallel(n_jobs=4)]: Using backend ThreadingBackend with 4 concurrent workers.\n",
      "[Parallel(n_jobs=4)]: Done  10 out of  10 | elapsed:    0.0s finished\n"
     ]
    }
   ],
   "source": [
    "predicted_lrc=lrc.predict(test_cleaned_x)\n",
    "predicted_sgc=sgc.predict(test_cleaned_x)\n",
    "predicted_rfc=rfc.predict(test_cleaned_x)\n",
    "predicted_abc=abc.predict(test_cleaned_x)\n",
    "predicted_etc=etc.predict(test_cleaned_x)\n",
    "predicted_xgc=xgc.predict(test_cleaned_x)\n",
    "predicted_lgbc=lgbc.predict(test_cleaned_x)\n",
    "\n"
   ]
  },
  {
   "cell_type": "code",
   "execution_count": 93,
   "metadata": {},
   "outputs": [
    {
     "name": "stderr",
     "output_type": "stream",
     "text": [
      "[Parallel(n_jobs=4)]: Using backend ThreadingBackend with 4 concurrent workers.\n",
      "[Parallel(n_jobs=4)]: Done  10 out of  10 | elapsed:    0.0s finished\n",
      "[Parallel(n_jobs=4)]: Using backend ThreadingBackend with 4 concurrent workers.\n",
      "[Parallel(n_jobs=4)]: Done  10 out of  10 | elapsed:    0.0s finished\n",
      "[Parallel(n_jobs=4)]: Using backend ThreadingBackend with 4 concurrent workers.\n",
      "[Parallel(n_jobs=4)]: Done  10 out of  10 | elapsed:    0.0s finished\n",
      "[Parallel(n_jobs=4)]: Using backend ThreadingBackend with 4 concurrent workers.\n",
      "[Parallel(n_jobs=4)]: Done  10 out of  10 | elapsed:    0.0s finished\n",
      "[Parallel(n_jobs=4)]: Using backend ThreadingBackend with 4 concurrent workers.\n",
      "[Parallel(n_jobs=4)]: Done  10 out of  10 | elapsed:    0.0s finished\n",
      "[Parallel(n_jobs=4)]: Using backend ThreadingBackend with 4 concurrent workers.\n",
      "[Parallel(n_jobs=4)]: Done  10 out of  10 | elapsed:    0.0s finished\n",
      "[Parallel(n_jobs=4)]: Using backend ThreadingBackend with 4 concurrent workers.\n",
      "[Parallel(n_jobs=4)]: Done  10 out of  10 | elapsed:    0.0s finished\n",
      "[Parallel(n_jobs=4)]: Using backend ThreadingBackend with 4 concurrent workers.\n",
      "[Parallel(n_jobs=4)]: Done  10 out of  10 | elapsed:    0.0s finished\n",
      "[Parallel(n_jobs=4)]: Using backend ThreadingBackend with 4 concurrent workers.\n",
      "[Parallel(n_jobs=4)]: Done  10 out of  10 | elapsed:    0.0s finished\n",
      "[Parallel(n_jobs=4)]: Using backend ThreadingBackend with 4 concurrent workers.\n",
      "[Parallel(n_jobs=4)]: Done  10 out of  10 | elapsed:    0.0s finished\n",
      "[Parallel(n_jobs=4)]: Using backend ThreadingBackend with 4 concurrent workers.\n",
      "[Parallel(n_jobs=4)]: Done  10 out of  10 | elapsed:    0.0s finished\n",
      "[Parallel(n_jobs=4)]: Using backend ThreadingBackend with 4 concurrent workers.\n",
      "[Parallel(n_jobs=4)]: Done  10 out of  10 | elapsed:    0.0s finished\n",
      "[Parallel(n_jobs=4)]: Using backend ThreadingBackend with 4 concurrent workers.\n",
      "[Parallel(n_jobs=4)]: Done  10 out of  10 | elapsed:    0.0s finished\n",
      "[Parallel(n_jobs=4)]: Using backend ThreadingBackend with 4 concurrent workers.\n",
      "[Parallel(n_jobs=4)]: Done  10 out of  10 | elapsed:    0.0s finished\n",
      "[Parallel(n_jobs=4)]: Using backend ThreadingBackend with 4 concurrent workers.\n",
      "[Parallel(n_jobs=4)]: Done  10 out of  10 | elapsed:    0.0s finished\n",
      "[Parallel(n_jobs=4)]: Using backend ThreadingBackend with 4 concurrent workers.\n",
      "[Parallel(n_jobs=4)]: Done  10 out of  10 | elapsed:    0.0s finished\n",
      "[Parallel(n_jobs=4)]: Using backend ThreadingBackend with 4 concurrent workers.\n",
      "[Parallel(n_jobs=4)]: Done  10 out of  10 | elapsed:    0.0s finished\n",
      "[Parallel(n_jobs=4)]: Using backend ThreadingBackend with 4 concurrent workers.\n",
      "[Parallel(n_jobs=4)]: Done  10 out of  10 | elapsed:    0.0s finished\n",
      "[Parallel(n_jobs=4)]: Using backend ThreadingBackend with 4 concurrent workers.\n",
      "[Parallel(n_jobs=4)]: Done  10 out of  10 | elapsed:    0.0s finished\n",
      "[Parallel(n_jobs=4)]: Using backend ThreadingBackend with 4 concurrent workers.\n",
      "[Parallel(n_jobs=4)]: Done  10 out of  10 | elapsed:    0.0s finished\n",
      "[Parallel(n_jobs=4)]: Using backend ThreadingBackend with 4 concurrent workers.\n",
      "[Parallel(n_jobs=4)]: Done  10 out of  10 | elapsed:    0.0s finished\n",
      "[Parallel(n_jobs=4)]: Using backend ThreadingBackend with 4 concurrent workers.\n",
      "[Parallel(n_jobs=4)]: Done  10 out of  10 | elapsed:    0.0s finished\n",
      "[Parallel(n_jobs=4)]: Using backend ThreadingBackend with 4 concurrent workers.\n",
      "[Parallel(n_jobs=4)]: Done  10 out of  10 | elapsed:    0.0s finished\n",
      "[Parallel(n_jobs=4)]: Using backend ThreadingBackend with 4 concurrent workers.\n",
      "[Parallel(n_jobs=4)]: Done  10 out of  10 | elapsed:    0.0s finished\n",
      "[Parallel(n_jobs=4)]: Using backend ThreadingBackend with 4 concurrent workers.\n",
      "[Parallel(n_jobs=4)]: Done  10 out of  10 | elapsed:    0.0s finished\n",
      "[Parallel(n_jobs=4)]: Using backend ThreadingBackend with 4 concurrent workers.\n",
      "[Parallel(n_jobs=4)]: Done  10 out of  10 | elapsed:    0.0s finished\n",
      "[Parallel(n_jobs=4)]: Using backend ThreadingBackend with 4 concurrent workers.\n",
      "[Parallel(n_jobs=4)]: Done  10 out of  10 | elapsed:    0.0s finished\n",
      "[Parallel(n_jobs=4)]: Using backend ThreadingBackend with 4 concurrent workers.\n",
      "[Parallel(n_jobs=4)]: Done  10 out of  10 | elapsed:    0.0s finished\n",
      "[Parallel(n_jobs=4)]: Using backend ThreadingBackend with 4 concurrent workers.\n",
      "[Parallel(n_jobs=4)]: Done  10 out of  10 | elapsed:    0.0s finished\n",
      "[Parallel(n_jobs=4)]: Using backend ThreadingBackend with 4 concurrent workers.\n",
      "[Parallel(n_jobs=4)]: Done  10 out of  10 | elapsed:    0.0s finished\n",
      "[Parallel(n_jobs=4)]: Using backend ThreadingBackend with 4 concurrent workers.\n",
      "[Parallel(n_jobs=4)]: Done  10 out of  10 | elapsed:    0.0s finished\n",
      "[Parallel(n_jobs=4)]: Using backend ThreadingBackend with 4 concurrent workers.\n",
      "[Parallel(n_jobs=4)]: Done  10 out of  10 | elapsed:    0.0s finished\n",
      "[Parallel(n_jobs=4)]: Using backend ThreadingBackend with 4 concurrent workers.\n",
      "[Parallel(n_jobs=4)]: Done  10 out of  10 | elapsed:    0.0s finished\n",
      "[Parallel(n_jobs=4)]: Using backend ThreadingBackend with 4 concurrent workers.\n",
      "[Parallel(n_jobs=4)]: Done  10 out of  10 | elapsed:    0.0s finished\n",
      "[Parallel(n_jobs=4)]: Using backend ThreadingBackend with 4 concurrent workers.\n",
      "[Parallel(n_jobs=4)]: Done  10 out of  10 | elapsed:    0.0s finished\n",
      "[Parallel(n_jobs=4)]: Using backend ThreadingBackend with 4 concurrent workers.\n",
      "[Parallel(n_jobs=4)]: Done  10 out of  10 | elapsed:    0.0s finished\n",
      "[Parallel(n_jobs=4)]: Using backend ThreadingBackend with 4 concurrent workers.\n",
      "[Parallel(n_jobs=4)]: Done  10 out of  10 | elapsed:    0.0s finished\n",
      "[Parallel(n_jobs=4)]: Using backend ThreadingBackend with 4 concurrent workers.\n",
      "[Parallel(n_jobs=4)]: Done  10 out of  10 | elapsed:    0.0s finished\n",
      "[Parallel(n_jobs=4)]: Using backend ThreadingBackend with 4 concurrent workers.\n",
      "[Parallel(n_jobs=4)]: Done  10 out of  10 | elapsed:    0.0s finished\n",
      "[Parallel(n_jobs=4)]: Using backend ThreadingBackend with 4 concurrent workers.\n",
      "[Parallel(n_jobs=4)]: Done  10 out of  10 | elapsed:    0.0s finished\n",
      "[Parallel(n_jobs=4)]: Using backend ThreadingBackend with 4 concurrent workers.\n",
      "[Parallel(n_jobs=4)]: Done  10 out of  10 | elapsed:    0.0s finished\n",
      "[Parallel(n_jobs=4)]: Using backend ThreadingBackend with 4 concurrent workers.\n",
      "[Parallel(n_jobs=4)]: Done  10 out of  10 | elapsed:    0.0s finished\n",
      "[Parallel(n_jobs=4)]: Using backend ThreadingBackend with 4 concurrent workers.\n",
      "[Parallel(n_jobs=4)]: Done  10 out of  10 | elapsed:    0.0s finished\n",
      "[Parallel(n_jobs=4)]: Using backend ThreadingBackend with 4 concurrent workers.\n",
      "[Parallel(n_jobs=4)]: Done  10 out of  10 | elapsed:    0.0s finished\n",
      "[Parallel(n_jobs=4)]: Using backend ThreadingBackend with 4 concurrent workers.\n",
      "[Parallel(n_jobs=4)]: Done  10 out of  10 | elapsed:    0.0s finished\n",
      "[Parallel(n_jobs=4)]: Using backend ThreadingBackend with 4 concurrent workers.\n",
      "[Parallel(n_jobs=4)]: Done  10 out of  10 | elapsed:    0.0s finished\n",
      "[Parallel(n_jobs=4)]: Using backend ThreadingBackend with 4 concurrent workers.\n",
      "[Parallel(n_jobs=4)]: Done  10 out of  10 | elapsed:    0.0s finished\n",
      "[Parallel(n_jobs=4)]: Using backend ThreadingBackend with 4 concurrent workers.\n",
      "[Parallel(n_jobs=4)]: Done  10 out of  10 | elapsed:    0.0s finished\n",
      "[Parallel(n_jobs=4)]: Using backend ThreadingBackend with 4 concurrent workers.\n",
      "[Parallel(n_jobs=4)]: Done  10 out of  10 | elapsed:    0.0s finished\n",
      "[Parallel(n_jobs=4)]: Using backend ThreadingBackend with 4 concurrent workers.\n",
      "[Parallel(n_jobs=4)]: Done  10 out of  10 | elapsed:    0.0s finished\n",
      "[Parallel(n_jobs=4)]: Using backend ThreadingBackend with 4 concurrent workers.\n",
      "[Parallel(n_jobs=4)]: Done  10 out of  10 | elapsed:    0.0s finished\n",
      "[Parallel(n_jobs=4)]: Using backend ThreadingBackend with 4 concurrent workers.\n",
      "[Parallel(n_jobs=4)]: Done  10 out of  10 | elapsed:    0.0s finished\n"
     ]
    }
   ],
   "source": [
    "\n",
    "#probability\n",
    "proba_predicted_lrc=lrc.predict_proba(test_cleaned_x)\n",
    "#proba_predicted_sgc=sgc.predict_proba(test_cleaned_x)\n",
    "proba_predicted_rfc=rfc.predict_proba(test_cleaned_x)\n",
    "proba_predicted_abc=abc.predict_proba(test_cleaned_x)\n",
    "proba_predicted_etc=etc.predict_proba(test_cleaned_x)\n",
    "proba_predicted_xgc=xgc.predict_proba(test_cleaned_x)\n",
    "proba_predicted_lgbc=lgbc.predict_proba(test_cleaned_x)\n"
   ]
  },
  {
   "cell_type": "code",
   "execution_count": 94,
   "metadata": {},
   "outputs": [],
   "source": [
    "from sklearn.metrics import accuracy_score,confusion_matrix,f1_score,log_loss"
   ]
  },
  {
   "cell_type": "code",
   "execution_count": 95,
   "metadata": {},
   "outputs": [
    {
     "name": "stdout",
     "output_type": "stream",
     "text": [
      "The accuracy score of lrc is0.9785932721712538\n",
      "The accuracy score of rfc is0.9966638865721434\n",
      "The accuracy score of sgc is0.20533778148457046\n",
      "The accuracy score of abc is0.9996107867667501\n",
      "The accuracy score of etc is0.9989991659716431\n",
      "The accuracy score of xgc is1.0\n",
      "The accuracy score of lgbc is0.9997775924381429\n"
     ]
    }
   ],
   "source": [
    "#accuracy of the models\n",
    "print(\"The accuracy score of lrc is\"+str(accuracy_score(y_pred=predicted_lrc,y_true=test_cleaned_y)))\n",
    "print(\"The accuracy score of rfc is\"+str(accuracy_score(y_pred=predicted_rfc,y_true=test_cleaned_y)))\n",
    "print(\"The accuracy score of sgc is\"+str(accuracy_score(y_pred=predicted_sgc,y_true=test_cleaned_y)))\n",
    "print(\"The accuracy score of abc is\"+str(accuracy_score(y_pred=predicted_abc,y_true=test_cleaned_y)))\n",
    "print(\"The accuracy score of etc is\"+str(accuracy_score(y_pred=predicted_etc,y_true=test_cleaned_y)))\n",
    "print(\"The accuracy score of xgc is\"+str(accuracy_score(y_pred=predicted_xgc,y_true=test_cleaned_y)))\n",
    "print(\"The accuracy score of lgbc is\"+str(accuracy_score(y_pred=predicted_lgbc,y_true=test_cleaned_y)))"
   ]
  },
  {
   "cell_type": "code",
   "execution_count": 96,
   "metadata": {},
   "outputs": [
    {
     "name": "stdout",
     "output_type": "stream",
     "text": [
      "The confusion matrix of lrc is[[  287   126   154     0     0]\n",
      " [    1    36    58     0     0]\n",
      " [    0    27   578     6     0]\n",
      " [    0     0     9 16699     0]\n",
      " [    0     0     0     4     0]]\n",
      "The confusion matrix of rfc is[[  567     0     0     0     0]\n",
      " [   27    62     3     3     0]\n",
      " [    0     0   588    23     0]\n",
      " [    0     0     0 16708     0]\n",
      " [    0     0     0     4     0]]\n",
      "The confusion matrix of sgc is[[  23  373  131    1   39]\n",
      " [   8   56   20    0   11]\n",
      " [  16  358  155   23   59]\n",
      " [  10 7971 3125 3458 2144]\n",
      " [   0    0    1    2    1]]\n",
      "The confusion matrix of abc is[[  564     3     0     0     0]\n",
      " [    0    95     0     0     0]\n",
      " [    0     0   611     0     0]\n",
      " [    0     0     0 16708     0]\n",
      " [    0     0     0     4     0]]\n",
      "The confusion matrix of etc is[[  567     0     0     0     0]\n",
      " [   11    82     2     0     0]\n",
      " [    0     0   609     2     0]\n",
      " [    0     0     0 16708     0]\n",
      " [    0     0     0     3     1]]\n",
      "The confusion matrix of xgc is[[  567     0     0     0     0]\n",
      " [    0    95     0     0     0]\n",
      " [    0     0   611     0     0]\n",
      " [    0     0     0 16708     0]\n",
      " [    0     0     0     0     4]]\n",
      "The confusion matrix of lgbc is[[  567     0     0     0     0]\n",
      " [    0    95     0     0     0]\n",
      " [    0     0   611     0     0]\n",
      " [    0     0     0 16708     0]\n",
      " [    0     0     0     4     0]]\n"
     ]
    }
   ],
   "source": [
    "#confusion matrix\n",
    "print(\"The confusion matrix of lrc is\"+str(confusion_matrix(y_pred=predicted_lrc,y_true=test_cleaned_y)))\n",
    "print(\"The confusion matrix of rfc is\"+str(confusion_matrix(y_pred=predicted_rfc,y_true=test_cleaned_y)))\n",
    "print(\"The confusion matrix of sgc is\"+str(confusion_matrix(y_pred=predicted_sgc,y_true=test_cleaned_y)))\n",
    "print(\"The confusion matrix of abc is\"+str(confusion_matrix(y_pred=predicted_abc,y_true=test_cleaned_y)))\n",
    "print(\"The confusion matrix of etc is\"+str(confusion_matrix(y_pred=predicted_etc,y_true=test_cleaned_y)))\n",
    "print(\"The confusion matrix of xgc is\"+str(confusion_matrix(y_pred=predicted_xgc,y_true=test_cleaned_y)))\n",
    "print(\"The confusion matrix of lgbc is\"+str(confusion_matrix(y_pred=predicted_lgbc,y_true=test_cleaned_y)))"
   ]
  },
  {
   "cell_type": "code",
   "execution_count": 97,
   "metadata": {},
   "outputs": [
    {
     "name": "stdout",
     "output_type": "stream",
     "text": [
      "The f1_score of lrc is0.9785932721712538\n",
      "The f1_score of rfc is0.9966638865721434\n",
      "The f1_score of sgc is0.20533778148457046\n",
      "The f1_score of abc is0.9996107867667501\n",
      "The f1_score of etc is0.9989991659716431\n",
      "The f1_score of xgc is1.0\n",
      "The f1_score of lgbc is0.9997775924381429\n"
     ]
    }
   ],
   "source": [
    "#f1score \n",
    "print(\"The f1_score of lrc is\"+str(f1_score(y_pred=predicted_lrc,y_true=test_cleaned_y,average=\"micro\")))\n",
    "print(\"The f1_score of rfc is\"+str(f1_score(y_pred=predicted_rfc,y_true=test_cleaned_y,average=\"micro\")))\n",
    "print(\"The f1_score of sgc is\"+str(f1_score(y_pred=predicted_sgc,y_true=test_cleaned_y,average=\"micro\")))\n",
    "print(\"The f1_score of abc is\"+str(f1_score(y_pred=predicted_abc,y_true=test_cleaned_y,average=\"micro\")))\n",
    "print(\"The f1_score of etc is\"+str(f1_score(y_pred=predicted_etc,y_true=test_cleaned_y,average=\"micro\")))\n",
    "print(\"The f1_score of xgc is\"+str(f1_score(y_pred=predicted_xgc,y_true=test_cleaned_y,average=\"micro\")))\n",
    "print(\"The f1_score of lgbc is\"+str(f1_score(y_pred=predicted_lgbc,y_true=test_cleaned_y,average=\"micro\")))"
   ]
  }
 ],
 "metadata": {
  "kernelspec": {
   "display_name": "Python 3",
   "language": "python",
   "name": "python3"
  },
  "language_info": {
   "codemirror_mode": {
    "name": "ipython",
    "version": 3
   },
   "file_extension": ".py",
   "mimetype": "text/x-python",
   "name": "python",
   "nbconvert_exporter": "python",
   "pygments_lexer": "ipython3",
   "version": "3.7.4"
  }
 },
 "nbformat": 4,
 "nbformat_minor": 2
}
