{
 "cells": [
  {
   "cell_type": "code",
   "execution_count": 1,
   "metadata": {},
   "outputs": [],
   "source": [
    "file=r'C:\\Users\\umairansari\\Desktop'"
   ]
  },
  {
   "cell_type": "code",
   "execution_count": 2,
   "metadata": {},
   "outputs": [],
   "source": [
    "import pandas as pd\n",
    "import numpy as np\n",
    "import seaborn as sns\n",
    "import matplotlib.pyplot as plt\n",
    "import missingno as msno\n",
    "import math\n",
    "from math import floor\n",
    "from sklearn.model_selection import train_test_split,KFold,StratifiedKFold,GridSearchCV,RandomizedSearchCV\n",
    "from sklearn.preprocessing import LabelEncoder\n",
    "import warnings\n",
    "warnings.filterwarnings(\"ignore\")"
   ]
  },
  {
   "cell_type": "code",
   "execution_count": 3,
   "metadata": {},
   "outputs": [],
   "source": [
    "data=pd.read_csv(file+r\"\\profiles_ok_cupid.csv\")"
   ]
  },
  {
   "cell_type": "code",
   "execution_count": 4,
   "metadata": {},
   "outputs": [
    {
     "name": "stdout",
     "output_type": "stream",
     "text": [
      "the dimension of test data is(18166, 31)\n",
      "the dimension of train data is(42386, 31)\n"
     ]
    }
   ],
   "source": [
    "#splitting the data into test and train\n",
    "train,test=train_test_split(data,random_state=19,shuffle=True,test_size=.30)\n",
    "print(\"the dimension of test data is\"+str(test.shape))\n",
    "print(\"the dimension of train data is\"+str(train.shape))"
   ]
  },
  {
   "cell_type": "code",
   "execution_count": 5,
   "metadata": {},
   "outputs": [
    {
     "data": {
      "text/html": [
       "<div>\n",
       "<style scoped>\n",
       "    .dataframe tbody tr th:only-of-type {\n",
       "        vertical-align: middle;\n",
       "    }\n",
       "\n",
       "    .dataframe tbody tr th {\n",
       "        vertical-align: top;\n",
       "    }\n",
       "\n",
       "    .dataframe thead th {\n",
       "        text-align: right;\n",
       "    }\n",
       "</style>\n",
       "<table border=\"1\" class=\"dataframe\">\n",
       "  <thead>\n",
       "    <tr style=\"text-align: right;\">\n",
       "      <th></th>\n",
       "      <th>age</th>\n",
       "      <th>body_type</th>\n",
       "      <th>diet</th>\n",
       "      <th>drinks</th>\n",
       "      <th>drugs</th>\n",
       "      <th>education</th>\n",
       "      <th>essay0</th>\n",
       "      <th>essay1</th>\n",
       "      <th>essay2</th>\n",
       "      <th>essay3</th>\n",
       "      <th>...</th>\n",
       "      <th>location</th>\n",
       "      <th>offspring</th>\n",
       "      <th>orientation</th>\n",
       "      <th>pets</th>\n",
       "      <th>religion</th>\n",
       "      <th>sex</th>\n",
       "      <th>sign</th>\n",
       "      <th>smokes</th>\n",
       "      <th>speaks</th>\n",
       "      <th>status</th>\n",
       "    </tr>\n",
       "  </thead>\n",
       "  <tbody>\n",
       "    <tr>\n",
       "      <td>1519</td>\n",
       "      <td>24</td>\n",
       "      <td>athletic</td>\n",
       "      <td>strictly anything</td>\n",
       "      <td>socially</td>\n",
       "      <td>sometimes</td>\n",
       "      <td>space camp</td>\n",
       "      <td>i'm not going to be able to sum myself up in t...</td>\n",
       "      <td>loving san francisco. not that i have much to ...</td>\n",
       "      <td>cooking&lt;br /&gt;\\ncreating awkward situations&lt;br ...</td>\n",
       "      <td>whether or not i am present.(in company)(there...</td>\n",
       "      <td>...</td>\n",
       "      <td>san francisco, california</td>\n",
       "      <td>doesn&amp;rsquo;t have kids</td>\n",
       "      <td>straight</td>\n",
       "      <td>likes dogs and likes cats</td>\n",
       "      <td>NaN</td>\n",
       "      <td>m</td>\n",
       "      <td>virgo but it doesn&amp;rsquo;t matter</td>\n",
       "      <td>no</td>\n",
       "      <td>english (fluently), sanskrit (fluently)</td>\n",
       "      <td>single</td>\n",
       "    </tr>\n",
       "    <tr>\n",
       "      <td>529</td>\n",
       "      <td>46</td>\n",
       "      <td>fit</td>\n",
       "      <td>anything</td>\n",
       "      <td>socially</td>\n",
       "      <td>NaN</td>\n",
       "      <td>graduated from college/university</td>\n",
       "      <td>i'm not macho and i don't need to prove anythi...</td>\n",
       "      <td>NaN</td>\n",
       "      <td>selecting friends. and feeding those relations...</td>\n",
       "      <td>my smile is big and sincere, eye contact and a...</td>\n",
       "      <td>...</td>\n",
       "      <td>san francisco, california</td>\n",
       "      <td>doesn&amp;rsquo;t have kids</td>\n",
       "      <td>straight</td>\n",
       "      <td>likes dogs</td>\n",
       "      <td>NaN</td>\n",
       "      <td>m</td>\n",
       "      <td>pisces and it&amp;rsquo;s fun to think about</td>\n",
       "      <td>no</td>\n",
       "      <td>english</td>\n",
       "      <td>single</td>\n",
       "    </tr>\n",
       "    <tr>\n",
       "      <td>41425</td>\n",
       "      <td>29</td>\n",
       "      <td>athletic</td>\n",
       "      <td>mostly anything</td>\n",
       "      <td>socially</td>\n",
       "      <td>sometimes</td>\n",
       "      <td>working on space camp</td>\n",
       "      <td>happy, easy, compassionate, excitable, want to...</td>\n",
       "      <td>trying to go to vet school, and have fun mostly.</td>\n",
       "      <td>NaN</td>\n",
       "      <td>my weirdo asymmetric haircut.</td>\n",
       "      <td>...</td>\n",
       "      <td>san francisco, california</td>\n",
       "      <td>doesn&amp;rsquo;t have kids, but might want them</td>\n",
       "      <td>straight</td>\n",
       "      <td>has dogs and has cats</td>\n",
       "      <td>atheism</td>\n",
       "      <td>f</td>\n",
       "      <td>pisces but it doesn&amp;rsquo;t matter</td>\n",
       "      <td>no</td>\n",
       "      <td>english</td>\n",
       "      <td>single</td>\n",
       "    </tr>\n",
       "    <tr>\n",
       "      <td>38814</td>\n",
       "      <td>25</td>\n",
       "      <td>NaN</td>\n",
       "      <td>mostly vegetarian</td>\n",
       "      <td>socially</td>\n",
       "      <td>never</td>\n",
       "      <td>graduated from college/university</td>\n",
       "      <td>living in the east bay currently, went to coll...</td>\n",
       "      <td>NaN</td>\n",
       "      <td>being present for my work, family &amp;amp; friend...</td>\n",
       "      <td>i'm warm &amp;amp; calm, excited to meet new peopl...</td>\n",
       "      <td>...</td>\n",
       "      <td>berkeley, california</td>\n",
       "      <td>NaN</td>\n",
       "      <td>straight</td>\n",
       "      <td>likes dogs</td>\n",
       "      <td>NaN</td>\n",
       "      <td>f</td>\n",
       "      <td>NaN</td>\n",
       "      <td>no</td>\n",
       "      <td>english, spanish</td>\n",
       "      <td>single</td>\n",
       "    </tr>\n",
       "    <tr>\n",
       "      <td>16190</td>\n",
       "      <td>25</td>\n",
       "      <td>athletic</td>\n",
       "      <td>anything</td>\n",
       "      <td>socially</td>\n",
       "      <td>never</td>\n",
       "      <td>working on space camp</td>\n",
       "      <td>i'm a grounded, fun, outgoing, artistic, emoti...</td>\n",
       "      <td>i'm pursuing my dream of acting and singing.&lt;b...</td>\n",
       "      <td>typing, making coffee, making pancakes.</td>\n",
       "      <td>my name, my height</td>\n",
       "      <td>...</td>\n",
       "      <td>san francisco, california</td>\n",
       "      <td>NaN</td>\n",
       "      <td>gay</td>\n",
       "      <td>likes dogs and likes cats</td>\n",
       "      <td>other</td>\n",
       "      <td>m</td>\n",
       "      <td>aquarius and it&amp;rsquo;s fun to think about</td>\n",
       "      <td>no</td>\n",
       "      <td>english, italian (poorly)</td>\n",
       "      <td>single</td>\n",
       "    </tr>\n",
       "  </tbody>\n",
       "</table>\n",
       "<p>5 rows × 31 columns</p>\n",
       "</div>"
      ],
      "text/plain": [
       "      age body_type               diet    drinks      drugs  \\\n",
       "1519   24  athletic  strictly anything  socially  sometimes   \n",
       "529    46       fit           anything  socially        NaN   \n",
       "41425  29  athletic    mostly anything  socially  sometimes   \n",
       "38814  25       NaN  mostly vegetarian  socially      never   \n",
       "16190  25  athletic           anything  socially      never   \n",
       "\n",
       "                               education  \\\n",
       "1519                          space camp   \n",
       "529    graduated from college/university   \n",
       "41425              working on space camp   \n",
       "38814  graduated from college/university   \n",
       "16190              working on space camp   \n",
       "\n",
       "                                                  essay0  \\\n",
       "1519   i'm not going to be able to sum myself up in t...   \n",
       "529    i'm not macho and i don't need to prove anythi...   \n",
       "41425  happy, easy, compassionate, excitable, want to...   \n",
       "38814  living in the east bay currently, went to coll...   \n",
       "16190  i'm a grounded, fun, outgoing, artistic, emoti...   \n",
       "\n",
       "                                                  essay1  \\\n",
       "1519   loving san francisco. not that i have much to ...   \n",
       "529                                                  NaN   \n",
       "41425   trying to go to vet school, and have fun mostly.   \n",
       "38814                                                NaN   \n",
       "16190  i'm pursuing my dream of acting and singing.<b...   \n",
       "\n",
       "                                                  essay2  \\\n",
       "1519   cooking<br />\\ncreating awkward situations<br ...   \n",
       "529    selecting friends. and feeding those relations...   \n",
       "41425                                                NaN   \n",
       "38814  being present for my work, family &amp; friend...   \n",
       "16190            typing, making coffee, making pancakes.   \n",
       "\n",
       "                                                  essay3  ...  \\\n",
       "1519   whether or not i am present.(in company)(there...  ...   \n",
       "529    my smile is big and sincere, eye contact and a...  ...   \n",
       "41425                      my weirdo asymmetric haircut.  ...   \n",
       "38814  i'm warm &amp; calm, excited to meet new peopl...  ...   \n",
       "16190                                 my name, my height  ...   \n",
       "\n",
       "                        location  \\\n",
       "1519   san francisco, california   \n",
       "529    san francisco, california   \n",
       "41425  san francisco, california   \n",
       "38814       berkeley, california   \n",
       "16190  san francisco, california   \n",
       "\n",
       "                                          offspring orientation  \\\n",
       "1519                        doesn&rsquo;t have kids    straight   \n",
       "529                         doesn&rsquo;t have kids    straight   \n",
       "41425  doesn&rsquo;t have kids, but might want them    straight   \n",
       "38814                                           NaN    straight   \n",
       "16190                                           NaN         gay   \n",
       "\n",
       "                            pets religion sex  \\\n",
       "1519   likes dogs and likes cats      NaN   m   \n",
       "529                   likes dogs      NaN   m   \n",
       "41425      has dogs and has cats  atheism   f   \n",
       "38814                 likes dogs      NaN   f   \n",
       "16190  likes dogs and likes cats    other   m   \n",
       "\n",
       "                                             sign smokes  \\\n",
       "1519            virgo but it doesn&rsquo;t matter     no   \n",
       "529      pisces and it&rsquo;s fun to think about     no   \n",
       "41425          pisces but it doesn&rsquo;t matter     no   \n",
       "38814                                         NaN     no   \n",
       "16190  aquarius and it&rsquo;s fun to think about     no   \n",
       "\n",
       "                                        speaks  status  \n",
       "1519   english (fluently), sanskrit (fluently)  single  \n",
       "529                                    english  single  \n",
       "41425                                  english  single  \n",
       "38814                         english, spanish  single  \n",
       "16190                english, italian (poorly)  single  \n",
       "\n",
       "[5 rows x 31 columns]"
      ]
     },
     "execution_count": 5,
     "metadata": {},
     "output_type": "execute_result"
    }
   ],
   "source": [
    "train.head(5)"
   ]
  },
  {
   "cell_type": "code",
   "execution_count": 6,
   "metadata": {},
   "outputs": [
    {
     "data": {
      "text/plain": [
       "(42386, 31)"
      ]
     },
     "execution_count": 6,
     "metadata": {},
     "output_type": "execute_result"
    }
   ],
   "source": [
    "train.shape"
   ]
  },
  {
   "cell_type": "code",
   "execution_count": 7,
   "metadata": {},
   "outputs": [
    {
     "data": {
      "text/plain": [
       "Index(['age', 'body_type', 'diet', 'drinks', 'drugs', 'education', 'essay0',\n",
       "       'essay1', 'essay2', 'essay3', 'essay4', 'essay5', 'essay6', 'essay7',\n",
       "       'essay8', 'essay9', 'ethnicity', 'height', 'income', 'job',\n",
       "       'last_online', 'location', 'offspring', 'orientation', 'pets',\n",
       "       'religion', 'sex', 'sign', 'smokes', 'speaks', 'status'],\n",
       "      dtype='object')"
      ]
     },
     "execution_count": 7,
     "metadata": {},
     "output_type": "execute_result"
    }
   ],
   "source": [
    "train.columns"
   ]
  },
  {
   "cell_type": "code",
   "execution_count": 8,
   "metadata": {},
   "outputs": [
    {
     "data": {
      "text/plain": [
       "single            38987\n",
       "seeing someone     1453\n",
       "available          1297\n",
       "married             215\n",
       "unknown               6\n",
       "Name: status, dtype: int64"
      ]
     },
     "execution_count": 8,
     "metadata": {},
     "output_type": "execute_result"
    }
   ],
   "source": [
    "train[\"status\"].value_counts()"
   ]
  },
  {
   "cell_type": "code",
   "execution_count": 9,
   "metadata": {},
   "outputs": [
    {
     "data": {
      "image/png": "[encoded data removed]",
      "text/plain": [
       "<Figure size 1296x432 with 1 Axes>"
      ]
     },
     "metadata": {
      "needs_background": "light"
     },
     "output_type": "display_data"
    },
    {
     "name": "stdout",
     "output_type": "stream",
     "text": [
      "Wall time: 2.25 s\n"
     ]
    }
   ],
   "source": [
    "%%time\n",
    "plt.figure(figsize=(18,6))\n",
    "sns.set_style(\"whitegrid\")\n",
    "plt.title(\"Relationship frequencies graph\")\n",
    "sns.countplot(train[\"status\"])\n",
    "plt.xlabel(\"The type of status of the relationship of the persons\")\n",
    "plt.show()"
   ]
  },
  {
   "cell_type": "code",
   "execution_count": 10,
   "metadata": {},
   "outputs": [
    {
     "name": "stdout",
     "output_type": "stream",
     "text": [
      "The new shape of the train data is(41958, 31)\n",
      "The new shape of the test data is(17985, 31)\n",
      "Wall time: 188 ms\n"
     ]
    }
   ],
   "source": [
    "%%time\n",
    "train[\"status\"].value_counts()\n",
    "#counting the values of the status of the data \n",
    "#data[\"status\"].fillna(\"test\",inplace=True)\n",
    "#filling the na data to prepare for the test data as we dont know the test data \n",
    "#datatest=data[data[\"status\"]==\"test\"]\n",
    "#retreiving the data and saperating it for test and train\n",
    "#data=data.loc[data[\"status\"]!=\"test\"]\n",
    "train.dropna(subset=[\"status\"],axis=0,inplace=True)\n",
    "test.dropna(subset=[\"status\"],axis=0,inplace=True)\n",
    "#print(\"The new shape of the train data is\"+str(datatest.shape))\n",
    "print(\"The new shape of the train data is\"+str(train.shape))\n",
    "print(\"The new shape of the test data is\"+str(test.shape))\n",
    "#total=datatest.shape[0]+data.shape[0]\n",
    "#print(\"The total data we have now is \"+str(total))"
   ]
  },
  {
   "cell_type": "code",
   "execution_count": 11,
   "metadata": {},
   "outputs": [
    {
     "data": {
      "text/plain": [
       "<matplotlib.axes._subplots.AxesSubplot at 0x1756629f08>"
      ]
     },
     "execution_count": 11,
     "metadata": {},
     "output_type": "execute_result"
    },
    {
     "data": {
      "image/png": "[encoded data removed]",
      "text/plain": [
       "<Figure size 1800x720 with 2 Axes>"
      ]
     },
     "metadata": {},
     "output_type": "display_data"
    }
   ],
   "source": [
    "#miissing walues in the train data set\n",
    "msno.matrix(train)\n"
   ]
  },
  {
   "cell_type": "code",
   "execution_count": 12,
   "metadata": {},
   "outputs": [
    {
     "data": {
      "text/plain": [
       "<matplotlib.axes._subplots.AxesSubplot at 0x17569c74c8>"
      ]
     },
     "execution_count": 12,
     "metadata": {},
     "output_type": "execute_result"
    },
    {
     "data": {
      "image/png": "[encoded data removed]",
      "text/plain": [
       "<Figure size 1800x720 with 2 Axes>"
      ]
     },
     "metadata": {},
     "output_type": "display_data"
    }
   ],
   "source": [
    "#miissing walues in the train data set\n",
    "msno.matrix(test)"
   ]
  },
  {
   "cell_type": "code",
   "execution_count": 13,
   "metadata": {},
   "outputs": [
    {
     "name": "stdout",
     "output_type": "stream",
     "text": [
      "Wall time: 46.9 ms\n"
     ]
    }
   ],
   "source": [
    "%%time\n",
    "#getting the data for the body type\n",
    "train[\"body_type\"].isna().sum()\n",
    "#filling the values of the test and train data with other type\n",
    "\n",
    "train[\"body_type\"].fillna(\"other\",inplace=True)\n",
    "test[\"body_type\"].fillna(\"other\",inplace=True)"
   ]
  },
  {
   "cell_type": "code",
   "execution_count": 14,
   "metadata": {},
   "outputs": [
    {
     "name": "stdout",
     "output_type": "stream",
     "text": [
      "Wall time: 31.3 ms\n"
     ]
    }
   ],
   "source": [
    "%%time\n",
    "#flling the na data for diet column according to the domain knowledge\n",
    "train[\"diet\"].fillna(\"prefer not to say\",inplace=True)\n",
    "test[\"diet\"].fillna(\"prefer not to say\",inplace=True)"
   ]
  },
  {
   "cell_type": "code",
   "execution_count": 15,
   "metadata": {},
   "outputs": [
    {
     "name": "stdout",
     "output_type": "stream",
     "text": [
      "Wall time: 17.5 ms\n"
     ]
    }
   ],
   "source": [
    "%%time\n",
    "#filling the na data for drinks according to the domain knowledge column\n",
    "train[\"drinks\"].fillna(\"prefer not to say\",inplace=True)\n",
    "test[\"drinks\"].fillna(\"prefer not to say\",inplace=True)"
   ]
  },
  {
   "cell_type": "code",
   "execution_count": 16,
   "metadata": {},
   "outputs": [
    {
     "name": "stdout",
     "output_type": "stream",
     "text": [
      "Wall time: 270 ms\n"
     ]
    }
   ],
   "source": [
    "%%time\n",
    "#changing the type of the height column to numeric \n",
    "train[\"height\"]=pd.to_numeric(train[\"height\"],errors='coerce')\n",
    "test[\"height\"]=pd.to_numeric(test[\"height\"],errors='coerce')"
   ]
  },
  {
   "cell_type": "code",
   "execution_count": 17,
   "metadata": {},
   "outputs": [
    {
     "name": "stdout",
     "output_type": "stream",
     "text": [
      "The mean of the target column is 68.29777142176141\n"
     ]
    }
   ],
   "source": [
    "print(\"The mean of the target column is \"+str(np.mean(train[\"height\"])))"
   ]
  },
  {
   "cell_type": "code",
   "execution_count": 18,
   "metadata": {},
   "outputs": [
    {
     "data": {
      "text/plain": [
       "68"
      ]
     },
     "execution_count": 18,
     "metadata": {},
     "output_type": "execute_result"
    }
   ],
   "source": [
    "floor(np.mean(train[\"height\"]))"
   ]
  },
  {
   "cell_type": "code",
   "execution_count": 19,
   "metadata": {},
   "outputs": [],
   "source": [
    "#function to detect outliers for the data \n",
    "def detect_outliers(data):\n",
    "    outliers = []\n",
    "    threshold=3\n",
    "    mean = np.mean(data)\n",
    "    std = np.std(data)\n",
    "    for i in data:\n",
    "        z_score = (i-mean)/std\n",
    "        print(z_score)\n",
    "        if np.abs(z_score) > threshold:\n",
    "            outliers.append(i)\n",
    "    return outliers"
   ]
  },
  {
   "cell_type": "code",
   "execution_count": 20,
   "metadata": {},
   "outputs": [
    {
     "data": {
      "text/plain": [
       "(17985, 31)"
      ]
     },
     "execution_count": 20,
     "metadata": {},
     "output_type": "execute_result"
    }
   ],
   "source": [
    "test.shape"
   ]
  },
  {
   "cell_type": "code",
   "execution_count": 21,
   "metadata": {},
   "outputs": [
    {
     "data": {
      "image/png": "[encoded data removed]",
      "text/plain": [
       "<Figure size 432x288 with 1 Axes>"
      ]
     },
     "metadata": {},
     "output_type": "display_data"
    }
   ],
   "source": [
    "#checking the height whether it contains outliers or not\n",
    "sns.boxplot(train[\"height\"])\n",
    "plt.xlabel(\"Height in cms\")\n",
    "plt.show()"
   ]
  },
  {
   "cell_type": "code",
   "execution_count": 22,
   "metadata": {},
   "outputs": [
    {
     "name": "stdout",
     "output_type": "stream",
     "text": [
      "People with more that normal height are in train set 49\n"
     ]
    }
   ],
   "source": [
    "#detecting the outliers after seeing the boxplot whiskers\n",
    "heightoutliers=train.loc[train[\"height\"]>80]\n",
    "heightoutliers=train.loc[train[\"height\"]<58]\n",
    "print(\"People with more that normal height are in train set \"+str(heightoutliers.shape[0]))"
   ]
  },
  {
   "cell_type": "code",
   "execution_count": 23,
   "metadata": {},
   "outputs": [
    {
     "name": "stdout",
     "output_type": "stream",
     "text": [
      "The median is 68.0\n",
      "Wall time: 15.6 ms\n"
     ]
    }
   ],
   "source": [
    "%%time\n",
    "#filling the NA values according to the domain knowledge of heights \n",
    "#data[\"height\"].mean()\n",
    "print(\"The median is \"+str(train[\"height\"].median()))\n",
    "#we are filling the NA data of height column after checking the outliers \n",
    "train[\"height\"].fillna(floor(np.mean(train[\"height\"])),inplace=True)\n",
    "test[\"height\"].fillna(floor(np.mean(train[\"height\"])),inplace=True)\n"
   ]
  },
  {
   "cell_type": "code",
   "execution_count": 24,
   "metadata": {},
   "outputs": [
    {
     "name": "stdout",
     "output_type": "stream",
     "text": [
      "Wall time: 15.6 ms\n"
     ]
    }
   ],
   "source": [
    "%%time\n",
    "#filling the NA values according to the domain knowledge\n",
    "train[\"drugs\"].fillna(\"prefer not to say\",inplace=True)\n",
    "test[\"drugs\"].fillna(\"prefer not to say\",inplace=True)"
   ]
  },
  {
   "cell_type": "code",
   "execution_count": 25,
   "metadata": {},
   "outputs": [
    {
     "name": "stdout",
     "output_type": "stream",
     "text": [
      "Wall time: 15.6 ms\n"
     ]
    }
   ],
   "source": [
    "%%time\n",
    "#filling the NA values according to the domain knowledge\n",
    "train[\"education\"].isna().sum()\n",
    "train[\"education\"].fillna(\"prefer not to say\",inplace=True)\n",
    "test[\"education\"].fillna(\"prefer not to say\",inplace=True)"
   ]
  },
  {
   "cell_type": "code",
   "execution_count": 26,
   "metadata": {},
   "outputs": [
    {
     "name": "stdout",
     "output_type": "stream",
     "text": [
      "Wall time: 31.3 ms\n"
     ]
    }
   ],
   "source": [
    "%%time\n",
    "#filling the NA values according to the domain knowledge\n",
    "train[\"job\"].isna().sum()\n",
    "train[\"job\"].fillna(\"prefer not to say\",inplace=True)\n",
    "test[\"job\"].fillna(\"prefer not to say\",inplace=True)"
   ]
  },
  {
   "cell_type": "code",
   "execution_count": 27,
   "metadata": {},
   "outputs": [
    {
     "data": {
      "text/plain": [
       "doesn&rsquo;t have kids                                5282\n",
       "doesn&rsquo;t have kids, but might want them           2688\n",
       "doesn&rsquo;t have kids, but wants them                2495\n",
       "doesn&rsquo;t want kids                                2060\n",
       "has a kid                                              1333\n",
       "has kids                                               1271\n",
       "doesn&rsquo;t have kids, and doesn&rsquo;t want any     778\n",
       "has kids, but doesn&rsquo;t want more                   320\n",
       "has a kid, but doesn&rsquo;t want more                  211\n",
       "wants kids                                              160\n",
       "has a kid, and might want more                          155\n",
       "might want kids                                         123\n",
       "has kids, and might want more                            86\n",
       "has a kid, and wants more                                46\n",
       "has kids, and wants more                                 13\n",
       "Name: offspring, dtype: int64"
      ]
     },
     "execution_count": 27,
     "metadata": {},
     "output_type": "execute_result"
    }
   ],
   "source": [
    "train[\"offspring\"].value_counts()"
   ]
  },
  {
   "cell_type": "code",
   "execution_count": 28,
   "metadata": {},
   "outputs": [
    {
     "name": "stdout",
     "output_type": "stream",
     "text": [
      "Wall time: 156 ms\n"
     ]
    },
    {
     "data": {
      "text/plain": [
       "((17985, 31), (41958, 31))"
      ]
     },
     "execution_count": 28,
     "metadata": {},
     "output_type": "execute_result"
    }
   ],
   "source": [
    "%%time\n",
    "#filling the NA values according to the domain knowledge\n",
    "train[\"offspring\"].isna().sum()\n",
    "#data[\"offspring\"]=data[\"offspring\"].apply(lambda p:p.replace(\"&rsquo;\",\"o\"))\n",
    "train[\"offspring\"]=train[\"offspring\"].str.replace(\"&rsquo;\",\"o\")\n",
    "test[\"offspring\"]=test[\"offspring\"].str.replace(\"&rsquo;\",\"o\")\n",
    "\n",
    "train[\"offspring\"].fillna(\"prefer not to say\",inplace=True)\n",
    "\n",
    "test[\"offspring\"].fillna(\"prefer not to say\",inplace=True)\n",
    "test.shape,train.shape"
   ]
  },
  {
   "cell_type": "code",
   "execution_count": 29,
   "metadata": {},
   "outputs": [],
   "source": [
    "train[\"pets\"].fillna(\"dont like pets\",inplace=True)\n",
    "test[\"pets\"].fillna(\"dont like pets\",inplace=True)"
   ]
  },
  {
   "cell_type": "code",
   "execution_count": 30,
   "metadata": {},
   "outputs": [
    {
     "name": "stdout",
     "output_type": "stream",
     "text": [
      "Wall time: 0 ns\n"
     ]
    },
    {
     "data": {
      "text/plain": [
       "14104"
      ]
     },
     "execution_count": 30,
     "metadata": {},
     "output_type": "execute_result"
    }
   ],
   "source": [
    "%%time\n",
    "#filling the NA values according to the domain knowledge\n",
    "train[\"religion\"].isna().sum()"
   ]
  },
  {
   "cell_type": "code",
   "execution_count": 31,
   "metadata": {},
   "outputs": [
    {
     "name": "stdout",
     "output_type": "stream",
     "text": [
      "Wall time: 15.6 ms\n"
     ]
    }
   ],
   "source": [
    "%%time\n",
    "#filling the NA values according to the domain knowledge\n",
    "train[\"religion\"].fillna(\"prefer not to say\",inplace=True)\n",
    "test[\"religion\"].fillna(\"prefer not to say\",inplace=True)"
   ]
  },
  {
   "cell_type": "code",
   "execution_count": 32,
   "metadata": {},
   "outputs": [
    {
     "name": "stdout",
     "output_type": "stream",
     "text": [
      "Wall time: 15.6 ms\n"
     ]
    }
   ],
   "source": [
    "%%time\n",
    "#filling the NA values according to the domain knowledge\n",
    "train[\"smokes\"].isna().sum()\n",
    "train[\"smokes\"].fillna(\"prefer not to say\",inplace=True)\n",
    "test[\"smokes\"].fillna(\"prefer not to say\",inplace=True)"
   ]
  },
  {
   "cell_type": "code",
   "execution_count": 33,
   "metadata": {},
   "outputs": [
    {
     "name": "stdout",
     "output_type": "stream",
     "text": [
      "Wall time: 219 ms\n"
     ]
    }
   ],
   "source": [
    "%%time\n",
    "#filling the NA values according to the domain knowledge\n",
    "#removing the irrational taggs from the data\n",
    "train[\"sign\"]=train[\"sign\"].str.replace(\"&rsquo;\",\"\")\n",
    "test[\"sign\"]=test[\"sign\"].str.replace(\"&rsquo;\",\"\")\n",
    "\n",
    "train[\"sign\"].value_counts()\n",
    "train[\"sign\"].fillna(\"prefer not to say\",inplace=True)\n",
    "test[\"sign\"].fillna(\"prefer not to say\",inplace=True)"
   ]
  },
  {
   "cell_type": "code",
   "execution_count": 34,
   "metadata": {},
   "outputs": [
    {
     "name": "stdout",
     "output_type": "stream",
     "text": [
      "Wall time: 46.9 ms\n"
     ]
    }
   ],
   "source": [
    "%%time\n",
    "#filling the NA values according to the domain knowledge\n",
    "train[\"ethnicity\"].value_counts().sum()\n",
    "train[\"ethnicity\"].fillna(\"prefer not to say\",inplace=True)\n",
    "test[\"ethnicity\"].fillna(\"prefer not to say\",inplace=True)"
   ]
  },
  {
   "cell_type": "code",
   "execution_count": 35,
   "metadata": {},
   "outputs": [
    {
     "data": {
      "text/plain": [
       "1519     i'm not going to be able to sum myself up in t...\n",
       "529      i'm not macho and i don't need to prove anythi...\n",
       "41425    happy, easy, compassionate, excitable, want to...\n",
       "38814    living in the east bay currently, went to coll...\n",
       "16190    i'm a grounded, fun, outgoing, artistic, emoti...\n",
       "13858    student of life... if you saw me on a friday n...\n",
       "28691    i'm geminiacally versatile with eclectic and b...\n",
       "29057    i'm looking for someone with whom to experienc...\n",
       "45120    well hello there.<br />\\ni am a social kind a ...\n",
       "59899    i'm just me... to me, getting the know someone...\n",
       "23229    i keep a journal and i love music. i'm quiet a...\n",
       "47758    i am a happy person, i like my job, i love my ...\n",
       "14171    born and raised in san diego. moved to sf afte...\n",
       "3449     i like people but i'm usually shy when first m...\n",
       "24341                                                  NaN\n",
       "4523     poly-exploring texas boy transplanted joyously...\n",
       "46924         \"that it aint no sin to be glad your alive.\"\n",
       "12559    i am a free spirit who tries to find beauty an...\n",
       "53831    i'm 23, love to read, am a pretty big dork, an...\n",
       "22628    first things first - i am poly, happily marrie...\n",
       "Name: essay0, dtype: object"
      ]
     },
     "execution_count": 35,
     "metadata": {},
     "output_type": "execute_result"
    }
   ],
   "source": [
    "train[\"essay0\"].head(20)"
   ]
  },
  {
   "cell_type": "code",
   "execution_count": 36,
   "metadata": {},
   "outputs": [
    {
     "data": {
      "text/plain": [
       "array(['essay0', 'essay1', 'essay2', 'essay3', 'essay4', 'essay5',\n",
       "       'essay6', 'essay7', 'essay8', 'essay9'], dtype=object)"
      ]
     },
     "execution_count": 36,
     "metadata": {},
     "output_type": "execute_result"
    }
   ],
   "source": [
    "#getting the column names of essay0:essay9\n",
    "train.columns\n",
    "colnames_essay=train.columns.values[6:16]\n",
    "colnames_essay"
   ]
  },
  {
   "cell_type": "code",
   "execution_count": 37,
   "metadata": {},
   "outputs": [
    {
     "name": "stdout",
     "output_type": "stream",
     "text": [
      "Wall time: 13.5 s\n"
     ]
    }
   ],
   "source": [
    "%%time\n",
    "#cleaning the data to remove some irrational tags\n",
    "for col in colnames_essay:\n",
    "    train[col]=train[col].str.replace(\"<br />\",\"\")\n",
    "    train[col]=train[col].str.replace(\"/n\",\"\")\n",
    "    train[col]=train[col].str.replace(\"\\n\",\"\")\n",
    "    train[col]=train[col].str.replace(\":\",\" \")\n",
    "    train[col]=train[col].str.replace('<em>','')    \n",
    "    train[col]=train[col].str.replace('<strong>','')\n",
    "    test[col]=test[col].str.replace(\"<br />\",\"\")\n",
    "    test[col]=test[col].str.replace(\"/n\",\"\")\n",
    "    test[col]=test[col].str.replace(\"\\n\",\"\")\n",
    "    test[col]=test[col].str.replace(\":\",\" \")\n",
    "    test[col]=test[col].str.replace('<em>','')    \n",
    "    test[col]=test[col].str.replace('<strong>','')\n"
   ]
  },
  {
   "cell_type": "code",
   "execution_count": 38,
   "metadata": {},
   "outputs": [
    {
     "name": "stdout",
     "output_type": "stream",
     "text": [
      "1519     i'm not going to be able to sum myself up in t...\n",
      "529      i'm not macho and i don't need to prove anythi...\n",
      "41425    happy, easy, compassionate, excitable, want to...\n",
      "38814    living in the east bay currently, went to coll...\n",
      "16190    i'm a grounded, fun, outgoing, artistic, emoti...\n",
      "Name: essay0, dtype: object\n",
      "1519     loving san francisco. not that i have much to ...\n",
      "529                                                    NaN\n",
      "41425     trying to go to vet school, and have fun mostly.\n",
      "38814                                                  NaN\n",
      "16190    i'm pursuing my dream of acting and singing.i'...\n",
      "Name: essay1, dtype: object\n",
      "1519     cookingcreating awkward situationsmaking peopl...\n",
      "529      selecting friends. and feeding those relations...\n",
      "41425                                                  NaN\n",
      "38814    being present for my work, family &amp; friend...\n",
      "16190              typing, making coffee, making pancakes.\n",
      "Name: essay2, dtype: object\n",
      "1519     whether or not i am present.(in company)(there...\n",
      "529      my smile is big and sincere, eye contact and a...\n",
      "41425                        my weirdo asymmetric haircut.\n",
      "38814    i'm warm &amp; calm, excited to meet new peopl...\n",
      "16190                                   my name, my height\n",
      "Name: essay3, dtype: object\n",
      "1519     those are my favorites...these are things bett...\n",
      "529      this section is irrelevant to a connection.i h...\n",
      "41425    books  david sedaris, fantasy, malcolm gladwel...\n",
      "38814                                                  NaN\n",
      "16190    books  east of eden, ask and it it given, coll...\n",
      "Name: essay4, dtype: object\n",
      "1519     my favorites(see above)friendsphysical activit...\n",
      "529      i have everything thing i need and most of wha...\n",
      "41425    good food, friends, lovers, dogs, music and le...\n",
      "38814    1. q-tips2. my family &amp; friends3. the abil...\n",
      "16190    familylovefriendsgodintimacyartactingoperagosp...\n",
      "Name: essay5, dtype: object\n",
      "1519     funny scenes/stories that could go in a future...\n",
      "529                                                    NaN\n",
      "41425                                      my next meal...\n",
      "38814    how to get to the mountains &amp; jump in a (h...\n",
      "16190    new ways to cook food, men, acting, films, coffee\n",
      "Name: essay6, dtype: object\n",
      "1519                          doing whatever sounds fun...\n",
      "529                                                    NaN\n",
      "41425    either in watching movies, making a great meal...\n",
      "38814    either mustering up the energy to cook a delic...\n",
      "16190                   wining and dining, watching a film\n",
      "Name: essay7, dtype: object\n",
      "1519     when i hear someone say \"fickle\" i see, in my ...\n",
      "529      #1 i'm pretty open, but i will take your secre...\n",
      "41425                                                  NaN\n",
      "38814                                                  NaN\n",
      "16190                                     i love anchovies\n",
      "Name: essay8, dtype: object\n",
      "1519     there's more you would like to know..oryou lik...\n",
      "529      you have taken the time to express yourself wi...\n",
      "41425                                 you want to have fun\n",
      "38814    you are genuine, kind, pro-choice, and live in...\n",
      "16190                            your interested in a date\n",
      "Name: essay9, dtype: object\n",
      "Wall time: 62.5 ms\n"
     ]
    }
   ],
   "source": [
    "%%time\n",
    "#checking the column heads to get the overview of the data they contains \n",
    "for col in colnames_essay:\n",
    "    print(train[col].head(5))"
   ]
  },
  {
   "cell_type": "code",
   "execution_count": 39,
   "metadata": {},
   "outputs": [
    {
     "name": "stdout",
     "output_type": "stream",
     "text": [
      "Wall time: 93.8 ms\n"
     ]
    }
   ],
   "source": [
    "%%time\n",
    "#renaming the columns to be more specific details\n",
    "train.rename(columns={'essay0':'aboutme',\n",
    "                          'essay1':'work_profession_details',\n",
    "                          'essay2':'your_speciality','essay3':'describe_your_look','essay4':'your_interests',\n",
    "                    'essay4':'things_you_do','essay5':'things_you_love_todo','essay6':'things_you_love_todo1',\n",
    "                    'essay7':'things_you_prefer_todo','essay8':'what_brings_you_here','essay9':'pickup_lines'}, \n",
    "                 inplace=True)\n",
    "test.rename(columns={'essay0':'aboutme',\n",
    "                          'essay1':'work_profession_details',\n",
    "                          'essay2':'your_speciality','essay3':'describe_your_look','essay4':'your_interests',\n",
    "                    'essay4':'things_you_do','essay5':'things_you_love_todo','essay6':'things_you_love_todo1',\n",
    "                    'essay7':'things_you_prefer_todo','essay8':'what_brings_you_here','essay9':'pickup_lines'}, \n",
    "                 inplace=True)\n",
    " "
   ]
  },
  {
   "cell_type": "code",
   "execution_count": 40,
   "metadata": {},
   "outputs": [
    {
     "data": {
      "text/plain": [
       "Index(['age', 'body_type', 'diet', 'drinks', 'drugs', 'education', 'aboutme',\n",
       "       'work_profession_details', 'your_speciality', 'describe_your_look',\n",
       "       'things_you_do', 'things_you_love_todo', 'things_you_love_todo1',\n",
       "       'things_you_prefer_todo', 'what_brings_you_here', 'pickup_lines',\n",
       "       'ethnicity', 'height', 'income', 'job', 'last_online', 'location',\n",
       "       'offspring', 'orientation', 'pets', 'religion', 'sex', 'sign', 'smokes',\n",
       "       'speaks', 'status'],\n",
       "      dtype='object')"
      ]
     },
     "execution_count": 40,
     "metadata": {},
     "output_type": "execute_result"
    }
   ],
   "source": [
    "#checking the new column names\n",
    "train.columns"
   ]
  },
  {
   "cell_type": "code",
   "execution_count": 41,
   "metadata": {},
   "outputs": [
    {
     "name": "stdout",
     "output_type": "stream",
     "text": [
      "Wall time: 31.3 ms\n"
     ]
    }
   ],
   "source": [
    "%%time\n",
    "#colnames_essay_modified=list(train.columns.values[6:16])\n",
    "#colnames_essay_modified\n",
    "#for col in colnames_essay_modified:\n",
    "cleaned_datatrain=train.drop(train.columns[6:16], axis = 1) \n",
    "cleaned_datatest=test.drop(test.columns[6:16], axis = 1) \n",
    "#cleaned_data=data.dropna(subset=colnames_essay_modified,axis=1)"
   ]
  },
  {
   "cell_type": "code",
   "execution_count": 42,
   "metadata": {},
   "outputs": [
    {
     "data": {
      "text/plain": [
       "(17985, 21)"
      ]
     },
     "execution_count": 42,
     "metadata": {},
     "output_type": "execute_result"
    }
   ],
   "source": [
    "cleaned_datatest.shape"
   ]
  },
  {
   "cell_type": "code",
   "execution_count": 43,
   "metadata": {},
   "outputs": [
    {
     "data": {
      "text/plain": [
       "((17985, 21), (41958, 21))"
      ]
     },
     "execution_count": 43,
     "metadata": {},
     "output_type": "execute_result"
    }
   ],
   "source": [
    "cleaned_datatest.shape,cleaned_datatrain.shape"
   ]
  },
  {
   "cell_type": "code",
   "execution_count": 44,
   "metadata": {},
   "outputs": [],
   "source": [
    "cleaned_datatrain.to_csv(\"OKCUPID_cleaned_data_train.csv\",index=False)\n",
    "cleaned_datatest.to_csv(\"OKCUPID_cleaned_data_test.csv\",index=False)"
   ]
  },
  {
   "cell_type": "code",
   "execution_count": 45,
   "metadata": {},
   "outputs": [],
   "source": [
    "#import os\n",
    "#os.getcwd()\n"
   ]
  },
  {
   "cell_type": "markdown",
   "metadata": {},
   "source": [
    "# Explanatory Data Analysis"
   ]
  },
  {
   "cell_type": "code",
   "execution_count": 46,
   "metadata": {},
   "outputs": [],
   "source": [
    "# #checking the data of test and train for target column\n",
    "# #fucntion for the subplots to check the distribution of target 0 and 1\n",
    "# def plot_feature_target(df1,df2,label1,label2,features):\n",
    "#     #making the subplots of 10,10 \n",
    "#     fig,ax=plt.subplots(1,1,figsize=(18,22))\n",
    "#     #making a counter variable\n",
    "#     i=0\n",
    "#     #iterating over the loop for setting the counter variable to zero to 100\n",
    "#     for feature in features:\n",
    "#         i+=1\n",
    "#         plt.subplot(1,1,i)\n",
    "#         #creating a distplot to check the distribution of 0\n",
    "#         sns.countplot(df1[feature],label=label1)\n",
    "#         #creating a distplot to check the distribution of 1\n",
    "#         sns.countplot(df2[feature],label=label2)\n",
    "#         #setting the labels for the plot\n",
    "#         plt.xlabel(feature, fontsize=9)\n",
    "#         locs, labels = plt.xticks()\n",
    "#         plt.tick_params(axis='x', which='major', labelsize=6, pad=-6)\n",
    "#         plt.tick_params(axis='y', which='major', labelsize=6)\n",
    "#         #plt.xticks(np.arange(100), (train.features.values[2:102]))\n",
    "#         #plt.set_xticklabels(feature)\n",
    "#         #showing the plot\n",
    "#     plt.show()"
   ]
  },
  {
   "cell_type": "code",
   "execution_count": 47,
   "metadata": {},
   "outputs": [
    {
     "data": {
      "text/plain": [
       "<matplotlib.axes._subplots.AxesSubplot at 0x17709fb288>"
      ]
     },
     "execution_count": 47,
     "metadata": {},
     "output_type": "execute_result"
    },
    {
     "data": {
      "image/png": "[encoded data removed]",
      "text/plain": [
       "<Figure size 432x288 with 1 Axes>"
      ]
     },
     "metadata": {},
     "output_type": "display_data"
    }
   ],
   "source": [
    "#plot_feature_target(train,test,\"train\",\"test\",[\"status\"])\n",
    "#sns.countplot(train[\"status\"],label=\"train\")\n",
    "sns.countplot(test[\"status\"],label=\"test\")"
   ]
  },
  {
   "cell_type": "code",
   "execution_count": 48,
   "metadata": {},
   "outputs": [
    {
     "data": {
      "text/plain": [
       "3    16708\n",
       "2      611\n",
       "0      567\n",
       "1       95\n",
       "4        4\n",
       "Name: status_trans_le, dtype: int64"
      ]
     },
     "execution_count": 48,
     "metadata": {},
     "output_type": "execute_result"
    }
   ],
   "source": [
    "#label transforming the target column\n",
    "label=LabelEncoder()\n",
    "label.fit(train[\"status\"])\n",
    "train[\"status_trans_le\"]=label.transform(train[\"status\"])\n",
    "test[\"status_trans_le\"]=label.transform(test[\"status\"])\n",
    "test[\"status_trans_le\"].value_counts()"
   ]
  },
  {
   "cell_type": "code",
   "execution_count": 49,
   "metadata": {},
   "outputs": [
    {
     "data": {
      "text/plain": [
       "single            38987\n",
       "seeing someone     1453\n",
       "available          1297\n",
       "married             215\n",
       "unknown               6\n",
       "Name: status, dtype: int64"
      ]
     },
     "execution_count": 49,
     "metadata": {},
     "output_type": "execute_result"
    }
   ],
   "source": [
    "train.status.value_counts()"
   ]
  },
  {
   "cell_type": "code",
   "execution_count": 50,
   "metadata": {},
   "outputs": [
    {
     "data": {
      "image/png": "[encoded data removed]",
      "text/plain": [
       "<Figure size 720x432 with 1 Axes>"
      ]
     },
     "metadata": {},
     "output_type": "display_data"
    }
   ],
   "source": [
    "#lets see the height vs target columns\n",
    "plt.figure(figsize=(10,6))\n",
    "plt.title(\"Height vs target columns of the train data\")\n",
    "sns.scatterplot(train[\"height\"],train[\"status\"],hue=train[\"status\"])\n",
    "plt.xlabel(\"Age group\")\n",
    "plt.ylabel(\"Status of the person\")\n",
    "color=[\"red\",\"blue\",\"green\",\"yellow\",\"cyan\"]\n",
    "#plt.legend(color,[\"single\",\"seeing someone\",\"available\",\"married\",\"unknown\"])\n",
    "plt.legend()\n",
    "plt.show()"
   ]
  },
  {
   "cell_type": "code",
   "execution_count": 51,
   "metadata": {},
   "outputs": [
    {
     "data": {
      "image/png": "[encoded data removed]",
      "text/plain": [
       "<Figure size 864x576 with 1 Axes>"
      ]
     },
     "metadata": {},
     "output_type": "display_data"
    }
   ],
   "source": [
    "#checking the distribution of the height column\n",
    "plt.figure(figsize=(12,8))\n",
    "plt.title(\"Distribution of height test and train\")\n",
    "sns.distplot(train[\"height\"],label=\"train\",color=\"orange\",hist=False)\n",
    "sns.distplot(test[\"height\"],label=\"test\",color=\"green\",hist=False)\n",
    "plt.legend()\n",
    "plt.show()\n",
    "\n",
    "#as we can see that there is a bit difference in the test and train height column"
   ]
  },
  {
   "cell_type": "code",
   "execution_count": 52,
   "metadata": {},
   "outputs": [
    {
     "name": "stdout",
     "output_type": "stream",
     "text": [
      "<class 'pandas.core.frame.DataFrame'>\n",
      "Int64Index: 41958 entries, 1519 to 10862\n",
      "Data columns (total 32 columns):\n",
      "age                        41958 non-null object\n",
      "body_type                  41958 non-null object\n",
      "diet                       41958 non-null object\n",
      "drinks                     41958 non-null object\n",
      "drugs                      41958 non-null object\n",
      "education                  41958 non-null object\n",
      "aboutme                    38111 non-null object\n",
      "work_profession_details    36650 non-null object\n",
      "your_speciality            35264 non-null object\n",
      "describe_your_look         33989 non-null object\n",
      "things_you_do              34588 non-null object\n",
      "things_you_love_todo       34360 non-null object\n",
      "things_you_love_todo1      32359 non-null object\n",
      "things_you_prefer_todo     33308 non-null object\n",
      "what_brings_you_here       28595 non-null object\n",
      "pickup_lines               33170 non-null object\n",
      "ethnicity                  41958 non-null object\n",
      "height                     41958 non-null float64\n",
      "income                     41958 non-null object\n",
      "job                        41958 non-null object\n",
      "last_online                41958 non-null object\n",
      "location                   41958 non-null object\n",
      "offspring                  41958 non-null object\n",
      "orientation                41958 non-null object\n",
      "pets                       41958 non-null object\n",
      "religion                   41958 non-null object\n",
      "sex                        41958 non-null object\n",
      "sign                       41958 non-null object\n",
      "smokes                     41958 non-null object\n",
      "speaks                     41924 non-null object\n",
      "status                     41958 non-null object\n",
      "status_trans_le            41958 non-null int32\n",
      "dtypes: float64(1), int32(1), object(30)\n",
      "memory usage: 10.4+ MB\n"
     ]
    }
   ],
   "source": [
    "train.info()"
   ]
  },
  {
   "cell_type": "code",
   "execution_count": 53,
   "metadata": {},
   "outputs": [
    {
     "data": {
      "image/png": "[encoded data removed]",
      "text/plain": [
       "<Figure size 720x432 with 1 Axes>"
      ]
     },
     "metadata": {},
     "output_type": "display_data"
    },
    {
     "name": "stdout",
     "output_type": "stream",
     "text": [
      "Wall time: 13 s\n"
     ]
    }
   ],
   "source": [
    "%%time\n",
    "# t0=train.loc[train[\"status_trans_le\"]==0]\n",
    "# t1=train.loc[train[\"status_trans_le\"]==1]\n",
    "# t2=train.loc[train[\"status_trans_le\"]==2]\n",
    "# t3=train.loc[train[\"status_trans_le\"]==3]\n",
    "# t4=train.loc[train[\"status_trans_le\"]==4]\n",
    "#lets see the height vs target columns\n",
    "plt.figure(figsize=(10,6))\n",
    "plt.title(\"sex vs target columns of the train data\")\n",
    "sns.scatterplot(train[\"sex\"],train[\"status\"],hue=train[\"status\"])\n",
    "plt.xlabel(\"Sex of the person\")\n",
    "plt.ylabel(\"Status of the person\")\n",
    "#color=[\"red\",\"blue\",\"green\",\"yellow\",\"cyan\"]\n",
    "#plt.legend(color,[\"single\",\"seeing someone\",\"available\",\"married\",\"unknown\"])\n",
    "plt.legend()\n",
    "plt.show()"
   ]
  },
  {
   "cell_type": "code",
   "execution_count": 54,
   "metadata": {},
   "outputs": [
    {
     "data": {
      "text/plain": [
       "array(['m', 'f'], dtype=object)"
      ]
     },
     "execution_count": 54,
     "metadata": {},
     "output_type": "execute_result"
    }
   ],
   "source": [
    "train[\"sex\"].unique()"
   ]
  },
  {
   "cell_type": "code",
   "execution_count": 55,
   "metadata": {},
   "outputs": [
    {
     "data": {
      "text/plain": [
       "<Figure size 720x432 with 0 Axes>"
      ]
     },
     "metadata": {},
     "output_type": "display_data"
    },
    {
     "data": {
      "image/png": "[encoded data removed]",
      "text/plain": [
       "<Figure size 1152x576 with 2 Axes>"
      ]
     },
     "metadata": {},
     "output_type": "display_data"
    },
    {
     "name": "stdout",
     "output_type": "stream",
     "text": [
      "Wall time: 1.01 s\n"
     ]
    }
   ],
   "source": [
    "%%time\n",
    "data_sex_f=train.loc[train[\"sex\"]=='f']\n",
    "data_sex_m=train.loc[train[\"sex\"]=='m']\n",
    "sns.set_style('whitegrid')\n",
    "plt.figure(figsize=(10,6))\n",
    "fig, (ax1,ax2) = plt.subplots(1,2,figsize=(16,8))\n",
    "\n",
    "ax1.hist(data_sex_f[\"status\"],label=\"FEMALE vs TARGET\",color=\"green\",histtype=\"barstacked\")\n",
    "ax1.set_title(\"Female vs target columns of the train data\")\n",
    "#ax2.title(\"Female vs target columns of the train data\")\n",
    "ax2.hist(data_sex_m[\"status\"],label=\"MALE vs TARGET\",histtype=\"barstacked\")\n",
    "ax2.set_title(\"male vs target columns of the train data\")\n",
    "plt.legend()\n",
    "plt.show()\n"
   ]
  },
  {
   "cell_type": "markdown",
   "metadata": {},
   "source": [
    "# Lets add some feature engineering for EDA"
   ]
  },
  {
   "cell_type": "code",
   "execution_count": 56,
   "metadata": {},
   "outputs": [],
   "source": [
    "value=train.columns[6:16]"
   ]
  },
  {
   "cell_type": "code",
   "execution_count": null,
   "metadata": {},
   "outputs": [],
   "source": [
    "for val in value:\n",
    "    print(val)\n",
    "    cleaned_datatrain[\"len_\"+val]=train[val].str.findall(r'(\\w+)').str.len()\n",
    "    cleaned_datatest[\"len_\"+val]=test[val].str.findall(r'(\\w+)').str.len()\n",
    "    train[\"len_\"+val]=train[val].str.findall(r'(\\w+)').str.len()\n",
    "    test[\"len_\"+val]=test[val].str.findall(r'(\\w+)').str.len()"
   ]
  },
  {
   "cell_type": "code",
   "execution_count": null,
   "metadata": {},
   "outputs": [],
   "source": [
    "cleaned_datatest.shape,cleaned_datatrain.shape"
   ]
  },
  {
   "cell_type": "code",
   "execution_count": null,
   "metadata": {},
   "outputs": [],
   "source": [
    "cleaned_datatrain.head()"
   ]
  },
  {
   "cell_type": "code",
   "execution_count": null,
   "metadata": {},
   "outputs": [],
   "source": [
    "%%time\n",
    "value=cleaned_datatest.iloc[:,21:].columns\n",
    "for val in value:\n",
    "    cleaned_datatrain[val].fillna(0,inplace=True)\n",
    "    cleaned_datatest[val].fillna(0,inplace=True)"
   ]
  },
  {
   "cell_type": "code",
   "execution_count": null,
   "metadata": {},
   "outputs": [],
   "source": [
    "#dropping language column beacuse of too many unique values and shortage of time\n",
    "cleaned_datatrain.drop([\"speaks\"],axis=1,inplace=True)\n",
    "cleaned_datatest.drop([\"speaks\"],axis=1,inplace=True)\n"
   ]
  },
  {
   "cell_type": "code",
   "execution_count": null,
   "metadata": {},
   "outputs": [],
   "source": [
    "#lets check the target column of the people who have descrited themselves well\n",
    "cleaned_datatest[\"status_trans_le\"]=test[\"status_trans_le\"]\n",
    "cleaned_datatrain[\"status_trans_le\"]=train[\"status_trans_le\"]"
   ]
  },
  {
   "cell_type": "code",
   "execution_count": null,
   "metadata": {},
   "outputs": [],
   "source": [
    "plt.figure(figsize=(10,6))\n",
    "sns.scatterplot(cleaned_datatrain[\"len_aboutme\"],cleaned_datatrain[\"status\"])\n",
    "sns.scatterplot(cleaned_datatrain[\"len_describe_your_look\"],cleaned_datatrain[\"status\"])\n"
   ]
  },
  {
   "cell_type": "code",
   "execution_count": null,
   "metadata": {},
   "outputs": [],
   "source": [
    "plt.figure(figsize=(10,6))\n",
    "sns.scatterplot(cleaned_datatrain[\"len_things_you_do\"],cleaned_datatrain[\"status\"])\n",
    "sns.scatterplot(cleaned_datatrain[\"len_things_you_love_todo\"],cleaned_datatrain[\"status\"])\n"
   ]
  },
  {
   "cell_type": "code",
   "execution_count": null,
   "metadata": {},
   "outputs": [],
   "source": [
    "plt.figure(figsize=(10,6))\n",
    "sns.scatterplot(cleaned_datatrain[\"len_things_you_prefer_todo\"],cleaned_datatrain[\"status\"])\n",
    "sns.scatterplot(cleaned_datatrain[\"len_what_brings_you_here\"],cleaned_datatrain[\"status\"])\n"
   ]
  },
  {
   "cell_type": "code",
   "execution_count": null,
   "metadata": {},
   "outputs": [],
   "source": [
    "#changing the datatype of age column\n",
    "cleaned_datatrain[\"age\"]=cleaned_datatrain[\"age\"].astype('int')\n",
    "cleaned_datatest[\"age\"]=cleaned_datatest[\"age\"].astype('int')"
   ]
  },
  {
   "cell_type": "code",
   "execution_count": null,
   "metadata": {},
   "outputs": [],
   "source": [
    "plt.figure(figsize=(10,6))\n",
    "plt.title(\"age plot of train vs test\")\n",
    "sns.set_style('whitegrid')\n",
    "sns.distplot(cleaned_datatrain[\"age\"],label=\"train\",color=\"green\",kde=True,hist=True)\n",
    "sns.distplot(cleaned_datatest[\"age\"],label=\"test\",color=\"blue\",kde=True,hist=True)\n",
    "#cleaned_datatrain[\"age\"].plot(kde=True,kind=\"hist\",color=\"green\")\n",
    "plt.legend()\n",
    "plt.show()"
   ]
  },
  {
   "cell_type": "code",
   "execution_count": null,
   "metadata": {},
   "outputs": [],
   "source": [
    "plt.figure(figsize=(10,6))\n",
    "plt.title(\"train age vs status\")\n",
    "sns.set_style('whitegrid')\n",
    "sns.scatterplot(cleaned_datatrain[\"age\"],cleaned_datatrain[\"status\"],color=\"green\")\n",
    "plt.legend()\n",
    "plt.show()"
   ]
  },
  {
   "cell_type": "code",
   "execution_count": null,
   "metadata": {},
   "outputs": [],
   "source": [
    "#lets check the spread in the age column\n",
    "plt.figure(figsize=(10,6))\n",
    "plt.title(\"train age vs status\")\n",
    "sns.set_style('whitegrid')\n",
    "sns.violinplot(cleaned_datatrain[\"age\"],cleaned_datatrain[\"status\"])\n",
    "plt.legend()\n",
    "plt.show()"
   ]
  },
  {
   "cell_type": "code",
   "execution_count": null,
   "metadata": {},
   "outputs": [],
   "source": [
    "#lets check the outliers in the age column\n",
    "plt.figure(figsize=(10,6))\n",
    "plt.title(\"train age vs status\")\n",
    "sns.set_style('whitegrid')\n",
    "sns.boxplot(cleaned_datatrain[\"age\"],cleaned_datatrain[\"status\"])\n",
    "plt.legend()\n",
    "plt.show()"
   ]
  },
  {
   "cell_type": "code",
   "execution_count": null,
   "metadata": {},
   "outputs": [],
   "source": [
    "#lets check the outliers in the age column\n",
    "plt.figure(figsize=(10,6))\n",
    "plt.title(\"test age vs status\")\n",
    "sns.set_style('whitegrid')\n",
    "sns.boxplot(cleaned_datatest[\"age\"],cleaned_datatest[\"status\"])\n",
    "plt.legend()\n",
    "plt.show()"
   ]
  },
  {
   "cell_type": "code",
   "execution_count": null,
   "metadata": {},
   "outputs": [],
   "source": [
    "def plot_scatterplot(df1, df2,features):\n",
    "    sns.set_style('whitegrid')\n",
    "    plt.figure()\n",
    "    i = 0\n",
    "    fig, ax = plt.subplots(4,3,figsize=(15,15))\n",
    "    for feature in features:\n",
    "        i += 1\n",
    "        plt.subplot(4,3,i)\n",
    "        plt.scatter(df1[feature], df2[feature], marker='*')\n",
    "        plt.xlabel(feature, fontsize=9)\n",
    "    plt.show();\n",
    "#checking the train and test data spread"
   ]
  },
  {
   "cell_type": "code",
   "execution_count": null,
   "metadata": {},
   "outputs": [],
   "source": [
    "#to check the similarity between the test and train data hich we have splitted\n",
    "#cancatinating train columns of int and float \n",
    "integer_column_names=cleaned_datatrain.select_dtypes('int')\n",
    "float_col_names=cleaned_datatrain.select_dtypes('float')\n",
    "merged_df_train=pd.concat([integer_column_names,float_col_names],axis=1)\n",
    "#test numeric columns columns of int and float\n",
    "integer_column_names=cleaned_datatest.select_dtypes('int')\n",
    "float_col_names=cleaned_datatest.select_dtypes('float')\n",
    "merged_df_test=pd.concat([integer_column_names,float_col_names],axis=1)\n",
    "merged_df_test.shape,merged_df_train.shape"
   ]
  },
  {
   "cell_type": "code",
   "execution_count": null,
   "metadata": {},
   "outputs": [],
   "source": [
    "%%time\n",
    "#this \n",
    "feature=merged_df_train.columns.values\n",
    "print(feature)\n",
    "plot_scatterplot(merged_df_train.sample(n=1500),merged_df_test.sample(n=1500),features=feature)"
   ]
  },
  {
   "cell_type": "code",
   "execution_count": null,
   "metadata": {},
   "outputs": [],
   "source": [
    "cleaned_datatest[\"status\"].dtype"
   ]
  },
  {
   "cell_type": "code",
   "execution_count": null,
   "metadata": {},
   "outputs": [],
   "source": [
    "dataset_object_colnames=[]\n",
    "for colname in cleaned_datatrain.columns:\n",
    "    if cleaned_datatest[colname].dtype=='O':\n",
    "        dataset_object_colnames.append(colname)"
   ]
  },
  {
   "cell_type": "code",
   "execution_count": null,
   "metadata": {},
   "outputs": [],
   "source": [
    "dataset_object_colnames"
   ]
  },
  {
   "cell_type": "code",
   "execution_count": null,
   "metadata": {},
   "outputs": [],
   "source": [
    "# for i in dataset_object_colnames:\n",
    "#     print(i)\n",
    "#     cleaned_datatrain[i]=cleaned_datatrain[i].str.replace(\"<\",\"\")\n",
    "#     cleaned_datatest[i]=cleaned_datatest[i].str.replace(\"<\",\"\")\n",
    "cleaned_datatrain[\"income\"]=cleaned_datatrain[\"income\"].astype('float')\n",
    "cleaned_datatest[\"income\"]=cleaned_datatest[\"income\"].astype('float')\n",
    "#cleaned_datatrain[\"last_online\"]=cleaned_datatrain[\"last_online\"].to_date()\n",
    "cleaned_datatrain.drop(['last_online'],axis=1,inplace=True)\n",
    "cleaned_datatest.drop(['last_online'],axis=1,inplace=True)"
   ]
  },
  {
   "cell_type": "code",
   "execution_count": null,
   "metadata": {},
   "outputs": [],
   "source": [
    "%%time\n",
    "#label encoding all the columns \n",
    "label=LabelEncoder()\n",
    "# for i in dataset_object_colnames:\n",
    "#     print(i)\n",
    "#     cleaned_datatrain[i]=label.fit_transform(cleaned_datatrain[i])\n",
    "#     cleaned_datatest[i]=label.fit_transform(cleaned_datatest[i])\n",
    "cleaned_datatrain[\"body_type\"]=label.fit_transform(cleaned_datatrain[\"body_type\"])\n",
    "cleaned_datatest[\"body_type\"]=label.fit_transform(cleaned_datatest[\"body_type\"])\n",
    "\n",
    "cleaned_datatrain[\"job\"]=label.fit_transform(cleaned_datatrain[\"job\"])\n",
    "cleaned_datatest[\"job\"]=label.fit_transform(cleaned_datatest[\"job\"])\n",
    "\n",
    "cleaned_datatrain[\"diet\"]=label.fit_transform(cleaned_datatrain[\"diet\"])\n",
    "cleaned_datatest[\"diet\"]=label.fit_transform(cleaned_datatest[\"diet\"])\n",
    "\n",
    "cleaned_datatrain[\"drinks\"]=label.fit_transform(cleaned_datatrain[\"drinks\"])\n",
    "cleaned_datatest[\"drinks\"]=label.fit_transform(cleaned_datatest[\"drinks\"])\n",
    "\n",
    "cleaned_datatrain[\"drugs\"]=label.fit_transform(cleaned_datatrain[\"drugs\"])\n",
    "cleaned_datatest[\"drugs\"]=label.fit_transform(cleaned_datatest[\"drugs\"])\n",
    "\n",
    "cleaned_datatrain[\"education\"]=label.fit_transform(cleaned_datatrain[\"education\"])\n",
    "cleaned_datatest[\"education\"]=label.fit_transform(cleaned_datatest[\"education\"])\n",
    "\n",
    "cleaned_datatrain[\"offspring\"]=label.fit_transform(cleaned_datatrain[\"offspring\"])\n",
    "cleaned_datatest[\"offspring\"]=label.fit_transform(cleaned_datatest[\"offspring\"])\n",
    "\n",
    "\n",
    "cleaned_datatrain[\"orientation\"]=label.fit_transform(cleaned_datatrain[\"orientation\"])\n",
    "cleaned_datatest[\"orientation\"]=label.fit_transform(cleaned_datatest[\"orientation\"])\n",
    "\n",
    "\n",
    "cleaned_datatrain[\"pets\"]=label.fit_transform(cleaned_datatrain[\"pets\"])\n",
    "cleaned_datatest[\"pets\"]=label.fit_transform(cleaned_datatest[\"pets\"])\n",
    "\n",
    "\n",
    "cleaned_datatrain[\"religion\"]=label.fit_transform(cleaned_datatrain[\"religion\"])\n",
    "cleaned_datatest[\"religion\"]=label.fit_transform(cleaned_datatest[\"religion\"])\n",
    "\n",
    "\n",
    "cleaned_datatrain[\"sex\"]=label.fit_transform(cleaned_datatrain[\"sex\"])\n",
    "cleaned_datatest[\"sex\"]=label.fit_transform(cleaned_datatest[\"sex\"])\n",
    "\n",
    "\n",
    "cleaned_datatrain[\"sign\"]=label.fit_transform(cleaned_datatrain[\"sign\"])\n",
    "cleaned_datatest[\"sign\"]=label.fit_transform(cleaned_datatest[\"sign\"])\n",
    "\n",
    "\n",
    "cleaned_datatrain[\"smokes\"]=label.fit_transform(cleaned_datatrain[\"smokes\"])\n",
    "cleaned_datatest[\"smokes\"]=label.fit_transform(cleaned_datatest[\"smokes\"])"
   ]
  },
  {
   "cell_type": "code",
   "execution_count": null,
   "metadata": {},
   "outputs": [],
   "source": [
    "locations=pd.DataFrame(list(cleaned_datatest[\"location\"].str.split(\",\")))\n",
    "locations.columns=['a','b']\n",
    "\n",
    "locations['b']=locations['b'].str.replace(\" \",\"\")\n",
    "locations['b'].unique()"
   ]
  },
  {
   "cell_type": "code",
   "execution_count": null,
   "metadata": {},
   "outputs": [],
   "source": [
    "#cleaned_datatrain[\"location\"]=\n",
    "#label encoding the locations in train\n",
    "locations=pd.DataFrame(list(cleaned_datatrain[\"location\"].str.split(pat=\",\")))\n",
    "locations.columns=['a','b','c']\n",
    "locations['b']=locations['b'].str.replace(\" \",\"\")\n",
    "cleaned_datatrain[\"location\"]=locations['b']\n",
    "\n",
    "cleaned_datatrain[\"location\"]=cleaned_datatrain[\"location\"].map({'california':0, 'districtofcolumbia':1, 'newyork':2, 'oregon':3,\n",
    "                                                                 'minnesota':4, 'michigan':5, 'washington':6, 'switzerland':7,\n",
    "                                                                 'mexico':8,'texas':9, 'ireland':10, 'pennsylvania':11, 'illinois':12,\n",
    "                                                                 'virginia':13,'massachusetts':14, 'germany':15, 'spain':16, 'netherlands':17,\n",
    "                                                                 'wisconsin':18,'colorado':19,  'florida':20, 'idaho':21, 'arizona':22,\n",
    "                                                                 'britishcolumbia':23, 'northcarolina':24, 'westvirginia':25, 'ohio':26,\n",
    "                                                                 'tennessee':27,  'georgia':28, 'hawaii':29, 'mississippi':30,'unitedkingdom':31,'utah':32,\n",
    "                                                                 'vietnam':33,'nevada':34,'montana':35,'connecticut':36, 'newjersey':37,\n",
    "                                                                 'rhodeisland':38,'louisiana':39})\n",
    "\n"
   ]
  },
  {
   "cell_type": "code",
   "execution_count": null,
   "metadata": {},
   "outputs": [],
   "source": [
    "#cleaned_datatrain[\"location\"]=label.fit_transform(cleaned_datatrain[\"location\"])\n",
    "#label encoding the locations in test\n",
    "locations=pd.DataFrame(list(cleaned_datatest[\"location\"].str.split(pat=\",\")))\n",
    "locations.columns=['a','b']\n",
    "\n",
    "locations['b']=locations['b'].str.replace(\" \",\"\")\n",
    "cleaned_datatest[\"location\"]=locations['b']\n",
    "cleaned_datatest[\"location\"]=cleaned_datatest[\"location\"].map({'california':0, 'districtofcolumbia':1, 'newyork':2, 'oregon':3,\n",
    "                                                                 'minnesota':4, 'michigan':5, 'washington':6, 'switzerland':7,\n",
    "                                                                 'mexico':8,'texas':9, 'ireland':10, 'pennsylvania':11, 'illinois':12,\n",
    "                                                                 'virginia':13,'massachusetts':14, 'germany':15, 'spain':16, 'netherlands':17,'wisconsin':18,'colorado':19,  'florida':20, 'idaho':21, 'arizona':22,\n",
    "                                                                 'britishcolumbia':23, 'northcarolina':24, 'westvirginia':25, 'ohio':26,\n",
    "                                                                 'tennessee':27,  'georgia':28, 'hawaii':29, 'mississippi':30,'unitedkingdom':31,'utah':32,\n",
    "                                                                 'vietnam':33,'nevada':34,'montana':35,'connecticut':36, 'newjersey':37,\n",
    "                                                                 'rhodeisland':38,'louisiana':39})\n",
    "#cleaned_datatest[\"location\"]=label.fit_transform(cleaned_datatest[\"location\"])\n"
   ]
  },
  {
   "cell_type": "code",
   "execution_count": null,
   "metadata": {},
   "outputs": [],
   "source": [
    "cleaned_datatrain[\"location\"].fillna(40.0,inplace=True)\n",
    "cleaned_datatest[\"location\"].fillna(40.0,inplace=True)"
   ]
  },
  {
   "cell_type": "code",
   "execution_count": null,
   "metadata": {},
   "outputs": [],
   "source": [
    "cleaned_datatest.drop([\"ethnicity\"],axis=1,inplace=True)\n",
    "cleaned_datatrain.drop([\"ethnicity\"],axis=1,inplace=True)\n"
   ]
  },
  {
   "cell_type": "code",
   "execution_count": null,
   "metadata": {},
   "outputs": [],
   "source": [
    "cleaned_datatrain.shape,cleaned_datatest.shape"
   ]
  },
  {
   "cell_type": "code",
   "execution_count": null,
   "metadata": {},
   "outputs": [],
   "source": [
    "train_cleaned_x=cleaned_datatrain.drop([\"status\"],axis=1)\n",
    "train_cleaned_y=cleaned_datatrain[\"status_trans_le\"]\n",
    "test_cleaned_x=cleaned_datatest.drop([\"status\"],axis=1)\n",
    "test_cleaned_y=cleaned_datatest[\"status_trans_le\"]\n",
    "print(str(train_cleaned_x.shape)+\"_\"+str(train_cleaned_y.shape)+\"and test shape is \"+str(test_cleaned_x.shape)+\"_\"+str(test_cleaned_y.shape))"
   ]
  },
  {
   "cell_type": "markdown",
   "metadata": {},
   "source": [
    "# MODELING PROCESS"
   ]
  },
  {
   "cell_type": "code",
   "execution_count": null,
   "metadata": {},
   "outputs": [],
   "source": [
    "from sklearn.svm import SVC\n",
    "import lightgbm as lgb\n",
    "from sklearn.linear_model import LogisticRegression,SGDClassifier\n",
    "from xgboost.sklearn import XGBClassifier\n",
    "from lightgbm import LGBMClassifier\n",
    "from sklearn.ensemble import RandomForestClassifier,AdaBoostClassifier,ExtraTreesClassifier,GradientBoostingClassifier,Deci"
   ]
  },
  {
   "cell_type": "code",
   "execution_count": null,
   "metadata": {},
   "outputs": [],
   "source": [
    "help(GradientBoostingClassifier)"
   ]
  },
  {
   "cell_type": "code",
   "execution_count": null,
   "metadata": {},
   "outputs": [],
   "source": [
    "lrc=LogisticRegression(class_weight=\"balanced\",n_jobs=-1,verbose=2)\n",
    "sgc=SGDClassifier(class_weight=\"balanced\",n_jobs=-1,verbose=2)\n",
    "rfc=RandomForestClassifier(class_weight=\"balanced\",n_jobs=-1,verbose=2)\n",
    "abc=AdaBoostClassifier(base_estimator=RandomForestClassifier(class_weight=\"balanced\"),n_jobs=-1,verbose=2)\n",
    "etc=ExtraTreesClassifier(class_weight=\"balanced\",n_jobs=-1,verbose=2)\n",
    "#gbc=GradientBoostingClassifier(class_weight=\"balanced\")\n",
    "xgc=XGBClassifier(class_weight=\"balanced\",n_jobs=-1,verbose=2)\n",
    "lgbc=LGBMClassifier(class_weight=\"balanced\",n_jobs=-1,verbose=2)"
   ]
  },
  {
   "cell_type": "code",
   "execution_count": null,
   "metadata": {},
   "outputs": [],
   "source": [
    "lrc.fit(train_cleaned_x,train_cleaned_y)\n",
    "sgc.fit(train_cleaned_x,train_cleaned_y)\n",
    "rfc.fit(train_cleaned_x,train_cleaned_y)\n",
    "abc.fit(train_cleaned_x,train_cleaned_y)\n",
    "etc.fit(train_cleaned_x,train_cleaned_y)\n",
    "xgc.fit(train_cleaned_x,train_cleaned_y)\n",
    "lgbc.fit(train_cleaned_x,train_cleaned_y)\n"
   ]
  },
  {
   "cell_type": "code",
   "execution_count": null,
   "metadata": {},
   "outputs": [],
   "source": [
    "predicted_lrc=lrc.predict(test_cleaned_x)\n",
    "predicted_sgc=sgc.predict(test_cleaned_x)\n",
    "predicted_rfc=rfc.predict(test_cleaned_x)\n",
    "predicted_abc=abc.predict(test_cleaned_x)\n",
    "predicted_etc=etc.predict(test_cleaned_x)\n",
    "predicted_xgc=xgc.predict(test_cleaned_x)\n",
    "predicted_lgbc=lgbc.predict(test_cleaned_x)\n",
    "\n"
   ]
  },
  {
   "cell_type": "code",
   "execution_count": null,
   "metadata": {},
   "outputs": [],
   "source": [
    "\n",
    "#probability\n",
    "proba_predicted_lrc=lrc.predict_proba(test_cleaned_x)\n",
    "#proba_predicted_sgc=sgc.predict_proba(test_cleaned_x)\n",
    "proba_predicted_rfc=rfc.predict_proba(test_cleaned_x)\n",
    "proba_predicted_abc=abc.predict_proba(test_cleaned_x)\n",
    "proba_predicted_etc=etc.predict_proba(test_cleaned_x)\n",
    "proba_predicted_xgc=xgc.predict_proba(test_cleaned_x)\n",
    "proba_predicted_lgbc=lgbc.predict_proba(test_cleaned_x)\n"
   ]
  },
  {
   "cell_type": "code",
   "execution_count": null,
   "metadata": {},
   "outputs": [],
   "source": [
    "from sklearn.metrics import accuracy_score,confusion_matrix,f1_score,log_loss"
   ]
  },
  {
   "cell_type": "code",
   "execution_count": null,
   "metadata": {},
   "outputs": [],
   "source": [
    "#accuracy of the models\n",
    "print(\"The accuracy score of lrc is\"+str(accuracy_score(y_pred=predicted_lrc,y_true=test_cleaned_y)))\n",
    "print(\"The accuracy score of rfc is\"+str(accuracy_score(y_pred=predicted_rfc,y_true=test_cleaned_y)))\n",
    "print(\"The accuracy score of sgc is\"+str(accuracy_score(y_pred=predicted_sgc,y_true=test_cleaned_y)))\n",
    "print(\"The accuracy score of abc is\"+str(accuracy_score(y_pred=predicted_abc,y_true=test_cleaned_y)))\n",
    "print(\"The accuracy score of etc is\"+str(accuracy_score(y_pred=predicted_etc,y_true=test_cleaned_y)))\n",
    "print(\"The accuracy score of xgc is\"+str(accuracy_score(y_pred=predicted_xgc,y_true=test_cleaned_y)))\n",
    "print(\"The accuracy score of lgbc is\"+str(accuracy_score(y_pred=predicted_lgbc,y_true=test_cleaned_y)))"
   ]
  },
  {
   "cell_type": "code",
   "execution_count": null,
   "metadata": {},
   "outputs": [],
   "source": [
    "#confusion matrix\n",
    "print(\"The confusion matrix of lrc is\"+str(confusion_matrix(y_pred=predicted_lrc,y_true=test_cleaned_y)))\n",
    "print(\"The confusion matrix of rfc is\"+str(confusion_matrix(y_pred=predicted_rfc,y_true=test_cleaned_y)))\n",
    "print(\"The confusion matrix of sgc is\"+str(confusion_matrix(y_pred=predicted_sgc,y_true=test_cleaned_y)))\n",
    "print(\"The confusion matrix of abc is\"+str(confusion_matrix(y_pred=predicted_abc,y_true=test_cleaned_y)))\n",
    "print(\"The confusion matrix of etc is\"+str(confusion_matrix(y_pred=predicted_etc,y_true=test_cleaned_y)))\n",
    "print(\"The confusion matrix of xgc is\"+str(confusion_matrix(y_pred=predicted_xgc,y_true=test_cleaned_y)))\n",
    "print(\"The confusion matrix of lgbc is\"+str(confusion_matrix(y_pred=predicted_lgbc,y_true=test_cleaned_y)))"
   ]
  },
  {
   "cell_type": "code",
   "execution_count": null,
   "metadata": {},
   "outputs": [],
   "source": [
    "#f1score \n",
    "print(\"The f1_score of lrc is\"+str(f1_score(y_pred=predicted_lrc,y_true=test_cleaned_y,average=\"micro\")))\n",
    "print(\"The f1_score of rfc is\"+str(f1_score(y_pred=predicted_rfc,y_true=test_cleaned_y,average=\"micro\")))\n",
    "print(\"The f1_score of sgc is\"+str(f1_score(y_pred=predicted_sgc,y_true=test_cleaned_y,average=\"micro\")))\n",
    "print(\"The f1_score of abc is\"+str(f1_score(y_pred=predicted_abc,y_true=test_cleaned_y,average=\"micro\")))\n",
    "print(\"The f1_score of etc is\"+str(f1_score(y_pred=predicted_etc,y_true=test_cleaned_y,average=\"micro\")))\n",
    "print(\"The f1_score of xgc is\"+str(f1_score(y_pred=predicted_xgc,y_true=test_cleaned_y,average=\"micro\")))\n",
    "print(\"The f1_score of lgbc is\"+str(f1_score(y_pred=predicted_lgbc,y_true=test_cleaned_y,average=\"micro\")))"
   ]
  }
 ],
 "metadata": {
  "kernelspec": {
   "display_name": "Python 3",
   "language": "python",
   "name": "python3"
  },
  "language_info": {
   "codemirror_mode": {
    "name": "ipython",
    "version": 3
   },
   "file_extension": ".py",
   "mimetype": "text/x-python",
   "name": "python",
   "nbconvert_exporter": "python",
   "pygments_lexer": "ipython3",
   "version": "3.7.4"
  }
 },
 "nbformat": 4,
 "nbformat_minor": 2
}
