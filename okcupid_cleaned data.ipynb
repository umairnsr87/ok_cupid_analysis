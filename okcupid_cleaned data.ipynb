{
 "cells": [
  {
   "cell_type": "code",
   "execution_count": 1,
   "metadata": {},
   "outputs": [],
   "source": [
    "file=r'C:\\Users\\umairansari\\Desktop'"
   ]
  },
  {
   "cell_type": "code",
   "execution_count": 26,
   "metadata": {},
   "outputs": [],
   "source": [
    "import pandas as pd\n",
    "import numpy as np\n",
    "import seaborn as sns\n",
    "import matplotlib.pyplot as plt\n",
    "import missingno as msno\n",
    "import math\n",
    "from math import floor"
   ]
  },
  {
   "cell_type": "code",
   "execution_count": 3,
   "metadata": {},
   "outputs": [
    {
     "name": "stderr",
     "output_type": "stream",
     "text": [
      "C:\\Users\\umairansari\\Anaconda3\\lib\\site-packages\\IPython\\core\\interactiveshell.py:3058: DtypeWarning: Columns (0,17,18) have mixed types. Specify dtype option on import or set low_memory=False.\n",
      "  interactivity=interactivity, compiler=compiler, result=result)\n"
     ]
    }
   ],
   "source": [
    "data=pd.read_csv(file+r\"\\profiles_ok_cupid.csv\")"
   ]
  },
  {
   "cell_type": "code",
   "execution_count": 4,
   "metadata": {},
   "outputs": [
    {
     "data": {
      "text/html": [
       "<div>\n",
       "<style scoped>\n",
       "    .dataframe tbody tr th:only-of-type {\n",
       "        vertical-align: middle;\n",
       "    }\n",
       "\n",
       "    .dataframe tbody tr th {\n",
       "        vertical-align: top;\n",
       "    }\n",
       "\n",
       "    .dataframe thead th {\n",
       "        text-align: right;\n",
       "    }\n",
       "</style>\n",
       "<table border=\"1\" class=\"dataframe\">\n",
       "  <thead>\n",
       "    <tr style=\"text-align: right;\">\n",
       "      <th></th>\n",
       "      <th>age</th>\n",
       "      <th>body_type</th>\n",
       "      <th>diet</th>\n",
       "      <th>drinks</th>\n",
       "      <th>drugs</th>\n",
       "      <th>education</th>\n",
       "      <th>essay0</th>\n",
       "      <th>essay1</th>\n",
       "      <th>essay2</th>\n",
       "      <th>essay3</th>\n",
       "      <th>...</th>\n",
       "      <th>location</th>\n",
       "      <th>offspring</th>\n",
       "      <th>orientation</th>\n",
       "      <th>pets</th>\n",
       "      <th>religion</th>\n",
       "      <th>sex</th>\n",
       "      <th>sign</th>\n",
       "      <th>smokes</th>\n",
       "      <th>speaks</th>\n",
       "      <th>status</th>\n",
       "    </tr>\n",
       "  </thead>\n",
       "  <tbody>\n",
       "    <tr>\n",
       "      <td>0</td>\n",
       "      <td>22</td>\n",
       "      <td>a little extra</td>\n",
       "      <td>strictly anything</td>\n",
       "      <td>socially</td>\n",
       "      <td>never</td>\n",
       "      <td>working on college/university</td>\n",
       "      <td>about me:&lt;br /&gt;\\n&lt;br /&gt;\\ni would love to think...</td>\n",
       "      <td>currently working as an international agent fo...</td>\n",
       "      <td>making people laugh.&lt;br /&gt;\\nranting about a go...</td>\n",
       "      <td>the way i look. i am a six foot half asian, ha...</td>\n",
       "      <td>...</td>\n",
       "      <td>south san francisco, california</td>\n",
       "      <td>doesn&amp;rsquo;t have kids, but might want them</td>\n",
       "      <td>straight</td>\n",
       "      <td>likes dogs and likes cats</td>\n",
       "      <td>agnosticism and very serious about it</td>\n",
       "      <td>m</td>\n",
       "      <td>gemini</td>\n",
       "      <td>sometimes</td>\n",
       "      <td>english</td>\n",
       "      <td>single</td>\n",
       "    </tr>\n",
       "    <tr>\n",
       "      <td>1</td>\n",
       "      <td>35</td>\n",
       "      <td>average</td>\n",
       "      <td>mostly other</td>\n",
       "      <td>often</td>\n",
       "      <td>sometimes</td>\n",
       "      <td>working on space camp</td>\n",
       "      <td>i am a chef: this is what that means.&lt;br /&gt;\\n1...</td>\n",
       "      <td>dedicating everyday to being an unbelievable b...</td>\n",
       "      <td>being silly. having ridiculous amonts of fun w...</td>\n",
       "      <td>NaN</td>\n",
       "      <td>...</td>\n",
       "      <td>oakland, california</td>\n",
       "      <td>doesn&amp;rsquo;t have kids, but might want them</td>\n",
       "      <td>straight</td>\n",
       "      <td>likes dogs and likes cats</td>\n",
       "      <td>agnosticism but not too serious about it</td>\n",
       "      <td>m</td>\n",
       "      <td>cancer</td>\n",
       "      <td>no</td>\n",
       "      <td>english (fluently), spanish (poorly), french (...</td>\n",
       "      <td>single</td>\n",
       "    </tr>\n",
       "    <tr>\n",
       "      <td>2</td>\n",
       "      <td>38</td>\n",
       "      <td>thin</td>\n",
       "      <td>anything</td>\n",
       "      <td>socially</td>\n",
       "      <td>NaN</td>\n",
       "      <td>graduated from masters program</td>\n",
       "      <td>i'm not ashamed of much, but writing public te...</td>\n",
       "      <td>i make nerdy software for musicians, artists, ...</td>\n",
       "      <td>improvising in different contexts. alternating...</td>\n",
       "      <td>my large jaw and large glasses are the physica...</td>\n",
       "      <td>...</td>\n",
       "      <td>san francisco, california</td>\n",
       "      <td>NaN</td>\n",
       "      <td>straight</td>\n",
       "      <td>has cats</td>\n",
       "      <td>NaN</td>\n",
       "      <td>m</td>\n",
       "      <td>pisces but it doesn&amp;rsquo;t matter</td>\n",
       "      <td>no</td>\n",
       "      <td>english, french, c++</td>\n",
       "      <td>available</td>\n",
       "    </tr>\n",
       "    <tr>\n",
       "      <td>3</td>\n",
       "      <td>23</td>\n",
       "      <td>thin</td>\n",
       "      <td>vegetarian</td>\n",
       "      <td>socially</td>\n",
       "      <td>NaN</td>\n",
       "      <td>working on college/university</td>\n",
       "      <td>i work in a library and go to school. . .</td>\n",
       "      <td>reading things written by old dead people</td>\n",
       "      <td>playing synthesizers and organizing books acco...</td>\n",
       "      <td>socially awkward but i do my best</td>\n",
       "      <td>...</td>\n",
       "      <td>berkeley, california</td>\n",
       "      <td>doesn&amp;rsquo;t want kids</td>\n",
       "      <td>straight</td>\n",
       "      <td>likes cats</td>\n",
       "      <td>NaN</td>\n",
       "      <td>m</td>\n",
       "      <td>pisces</td>\n",
       "      <td>no</td>\n",
       "      <td>english, german (poorly)</td>\n",
       "      <td>single</td>\n",
       "    </tr>\n",
       "    <tr>\n",
       "      <td>4</td>\n",
       "      <td>29</td>\n",
       "      <td>athletic</td>\n",
       "      <td>NaN</td>\n",
       "      <td>socially</td>\n",
       "      <td>never</td>\n",
       "      <td>graduated from college/university</td>\n",
       "      <td>hey how's it going? currently vague on the pro...</td>\n",
       "      <td>work work work work + play</td>\n",
       "      <td>creating imagery to look at:&lt;br /&gt;\\nhttp://bag...</td>\n",
       "      <td>i smile a lot and my inquisitive nature</td>\n",
       "      <td>...</td>\n",
       "      <td>san francisco, california</td>\n",
       "      <td>NaN</td>\n",
       "      <td>straight</td>\n",
       "      <td>likes dogs and likes cats</td>\n",
       "      <td>NaN</td>\n",
       "      <td>m</td>\n",
       "      <td>aquarius</td>\n",
       "      <td>no</td>\n",
       "      <td>english</td>\n",
       "      <td>single</td>\n",
       "    </tr>\n",
       "  </tbody>\n",
       "</table>\n",
       "<p>5 rows × 31 columns</p>\n",
       "</div>"
      ],
      "text/plain": [
       "  age       body_type               diet    drinks      drugs  \\\n",
       "0  22  a little extra  strictly anything  socially      never   \n",
       "1  35         average       mostly other     often  sometimes   \n",
       "2  38            thin           anything  socially        NaN   \n",
       "3  23            thin         vegetarian  socially        NaN   \n",
       "4  29        athletic                NaN  socially      never   \n",
       "\n",
       "                           education  \\\n",
       "0      working on college/university   \n",
       "1              working on space camp   \n",
       "2     graduated from masters program   \n",
       "3      working on college/university   \n",
       "4  graduated from college/university   \n",
       "\n",
       "                                              essay0  \\\n",
       "0  about me:<br />\\n<br />\\ni would love to think...   \n",
       "1  i am a chef: this is what that means.<br />\\n1...   \n",
       "2  i'm not ashamed of much, but writing public te...   \n",
       "3          i work in a library and go to school. . .   \n",
       "4  hey how's it going? currently vague on the pro...   \n",
       "\n",
       "                                              essay1  \\\n",
       "0  currently working as an international agent fo...   \n",
       "1  dedicating everyday to being an unbelievable b...   \n",
       "2  i make nerdy software for musicians, artists, ...   \n",
       "3          reading things written by old dead people   \n",
       "4                         work work work work + play   \n",
       "\n",
       "                                              essay2  \\\n",
       "0  making people laugh.<br />\\nranting about a go...   \n",
       "1  being silly. having ridiculous amonts of fun w...   \n",
       "2  improvising in different contexts. alternating...   \n",
       "3  playing synthesizers and organizing books acco...   \n",
       "4  creating imagery to look at:<br />\\nhttp://bag...   \n",
       "\n",
       "                                              essay3  ...  \\\n",
       "0  the way i look. i am a six foot half asian, ha...  ...   \n",
       "1                                                NaN  ...   \n",
       "2  my large jaw and large glasses are the physica...  ...   \n",
       "3                  socially awkward but i do my best  ...   \n",
       "4            i smile a lot and my inquisitive nature  ...   \n",
       "\n",
       "                          location  \\\n",
       "0  south san francisco, california   \n",
       "1              oakland, california   \n",
       "2        san francisco, california   \n",
       "3             berkeley, california   \n",
       "4        san francisco, california   \n",
       "\n",
       "                                      offspring orientation  \\\n",
       "0  doesn&rsquo;t have kids, but might want them    straight   \n",
       "1  doesn&rsquo;t have kids, but might want them    straight   \n",
       "2                                           NaN    straight   \n",
       "3                       doesn&rsquo;t want kids    straight   \n",
       "4                                           NaN    straight   \n",
       "\n",
       "                        pets                                  religion sex  \\\n",
       "0  likes dogs and likes cats     agnosticism and very serious about it   m   \n",
       "1  likes dogs and likes cats  agnosticism but not too serious about it   m   \n",
       "2                   has cats                                       NaN   m   \n",
       "3                 likes cats                                       NaN   m   \n",
       "4  likes dogs and likes cats                                       NaN   m   \n",
       "\n",
       "                                 sign     smokes  \\\n",
       "0                              gemini  sometimes   \n",
       "1                              cancer         no   \n",
       "2  pisces but it doesn&rsquo;t matter         no   \n",
       "3                              pisces         no   \n",
       "4                            aquarius         no   \n",
       "\n",
       "                                              speaks     status  \n",
       "0                                            english     single  \n",
       "1  english (fluently), spanish (poorly), french (...     single  \n",
       "2                               english, french, c++  available  \n",
       "3                           english, german (poorly)     single  \n",
       "4                                            english     single  \n",
       "\n",
       "[5 rows x 31 columns]"
      ]
     },
     "execution_count": 4,
     "metadata": {},
     "output_type": "execute_result"
    }
   ],
   "source": [
    "data.head(5)"
   ]
  },
  {
   "cell_type": "code",
   "execution_count": 5,
   "metadata": {},
   "outputs": [
    {
     "data": {
      "text/plain": [
       "(60552, 31)"
      ]
     },
     "execution_count": 5,
     "metadata": {},
     "output_type": "execute_result"
    }
   ],
   "source": [
    "data.shape"
   ]
  },
  {
   "cell_type": "code",
   "execution_count": 6,
   "metadata": {},
   "outputs": [
    {
     "data": {
      "text/plain": [
       "Index(['age', 'body_type', 'diet', 'drinks', 'drugs', 'education', 'essay0',\n",
       "       'essay1', 'essay2', 'essay3', 'essay4', 'essay5', 'essay6', 'essay7',\n",
       "       'essay8', 'essay9', 'ethnicity', 'height', 'income', 'job',\n",
       "       'last_online', 'location', 'offspring', 'orientation', 'pets',\n",
       "       'religion', 'sex', 'sign', 'smokes', 'speaks', 'status'],\n",
       "      dtype='object')"
      ]
     },
     "execution_count": 6,
     "metadata": {},
     "output_type": "execute_result"
    }
   ],
   "source": [
    "data.columns"
   ]
  },
  {
   "cell_type": "code",
   "execution_count": 7,
   "metadata": {},
   "outputs": [
    {
     "data": {
      "text/plain": [
       "single            55695\n",
       "seeing someone     2064\n",
       "available          1864\n",
       "married             310\n",
       "unknown              10\n",
       "Name: status, dtype: int64"
      ]
     },
     "execution_count": 7,
     "metadata": {},
     "output_type": "execute_result"
    }
   ],
   "source": [
    "data[\"status\"].value_counts()"
   ]
  },
  {
   "cell_type": "code",
   "execution_count": 8,
   "metadata": {},
   "outputs": [
    {
     "data": {
      "image/png": "[encoded data removed]",
      "text/plain": [
       "<Figure size 1296x432 with 1 Axes>"
      ]
     },
     "metadata": {
      "needs_background": "light"
     },
     "output_type": "display_data"
    }
   ],
   "source": [
    "plt.figure(figsize=(18,6))\n",
    "sns.set_style(\"whitegrid\")\n",
    "plt.title(\"Relationship frequencies graph\")\n",
    "sns.countplot(data[\"status\"])\n",
    "plt.xlabel(\"The type of status of the relationship of the persons\")\n",
    "plt.show()"
   ]
  },
  {
   "cell_type": "code",
   "execution_count": 9,
   "metadata": {},
   "outputs": [
    {
     "name": "stdout",
     "output_type": "stream",
     "text": [
      "The new shape of the test data is(59943, 31)\n"
     ]
    }
   ],
   "source": [
    "data[\"status\"].value_counts()\n",
    "#counting the values of the status of the data \n",
    "#data[\"status\"].fillna(\"test\",inplace=True)\n",
    "#filling the na data to prepare for the test data as we dont know the test data \n",
    "#datatest=data[data[\"status\"]==\"test\"]\n",
    "#retreiving the data and saperating it for test and train\n",
    "#data=data.loc[data[\"status\"]!=\"test\"]\n",
    "data.dropna(subset=[\"status\"],axis=0,inplace=True)\n",
    "#print(\"The new shape of the train data is\"+str(datatest.shape))\n",
    "print(\"The new shape of the test data is\"+str(data.shape))\n",
    "#total=datatest.shape[0]+data.shape[0]\n",
    "#print(\"The total data we have now is \"+str(total))"
   ]
  },
  {
   "cell_type": "code",
   "execution_count": 82,
   "metadata": {},
   "outputs": [
    {
     "data": {
      "text/plain": [
       "<matplotlib.axes._subplots.AxesSubplot at 0x2aac141cc8>"
      ]
     },
     "execution_count": 82,
     "metadata": {},
     "output_type": "execute_result"
    },
    {
     "data": {
      "image/png": "[encoded data removed]",
      "text/plain": [
       "<Figure size 1800x720 with 2 Axes>"
      ]
     },
     "metadata": {},
     "output_type": "display_data"
    }
   ],
   "source": [
    "#miissing walues in the data set\n",
    "msno.matrix(data)\n"
   ]
  },
  {
   "cell_type": "code",
   "execution_count": 13,
   "metadata": {},
   "outputs": [],
   "source": [
    "\n",
    "#getting the data for the body type\n",
    "data[\"body_type\"].isna().sum()\n",
    "#filling the values of the test and train data with other type\n",
    "data[\"body_type\"].fillna(\"other\",inplace=True)"
   ]
  },
  {
   "cell_type": "code",
   "execution_count": 14,
   "metadata": {},
   "outputs": [],
   "source": [
    "#flling the na data for diet column according to the domain knowledge\n",
    "data[\"diet\"].fillna(\"prefer not to say\",inplace=True)"
   ]
  },
  {
   "cell_type": "code",
   "execution_count": 15,
   "metadata": {},
   "outputs": [],
   "source": [
    "#filling the na data for drinks according to the domain knowledge column\n",
    "data[\"drinks\"].fillna(\"prefer not to say\",inplace=True)"
   ]
  },
  {
   "cell_type": "code",
   "execution_count": 16,
   "metadata": {},
   "outputs": [],
   "source": [
    "#changing the type of the height column to numeric \n",
    "data[\"height\"]=pd.to_numeric(data[\"height\"],errors='coerce')"
   ]
  },
  {
   "cell_type": "code",
   "execution_count": 20,
   "metadata": {},
   "outputs": [
    {
     "name": "stdout",
     "output_type": "stream",
     "text": [
      "The mean of the target column is 68.29522856189523\n"
     ]
    }
   ],
   "source": [
    "print(\"The mean of the target column is \"+str(np.mean(data[\"height\"])))"
   ]
  },
  {
   "cell_type": "code",
   "execution_count": 27,
   "metadata": {},
   "outputs": [
    {
     "data": {
      "text/plain": [
       "68"
      ]
     },
     "execution_count": 27,
     "metadata": {},
     "output_type": "execute_result"
    }
   ],
   "source": [
    "floor(np.mean(data[\"height\"]))"
   ]
  },
  {
   "cell_type": "code",
   "execution_count": 28,
   "metadata": {},
   "outputs": [],
   "source": [
    "#function to detect outliers for the data \n",
    "def detect_outliers(data):\n",
    "    outliers = []\n",
    "    threshold=3\n",
    "    mean = np.mean(data)\n",
    "    std = np.std(data)\n",
    "    for i in data:\n",
    "        z_score = (i-mean)/std\n",
    "        print(z_score)\n",
    "        if np.abs(z_score) > threshold:\n",
    "            outliers.append(i)\n",
    "    return outliers"
   ]
  },
  {
   "cell_type": "code",
   "execution_count": 29,
   "metadata": {},
   "outputs": [
    {
     "data": {
      "text/plain": [
       "<matplotlib.axes._subplots.AxesSubplot at 0x2a8cdcd548>"
      ]
     },
     "execution_count": 29,
     "metadata": {},
     "output_type": "execute_result"
    },
    {
     "data": {
      "image/png": "[encoded data removed]",
      "text/plain": [
       "<Figure size 432x288 with 1 Axes>"
      ]
     },
     "metadata": {},
     "output_type": "display_data"
    }
   ],
   "source": [
    "#checking the height whether it contains outliers or not\n",
    "sns.boxplot(data=data[\"height\"])\n",
    "plt.xlabel(\"Height in cms\")\n",
    "plt.show()"
   ]
  },
  {
   "cell_type": "code",
   "execution_count": 42,
   "metadata": {},
   "outputs": [
    {
     "name": "stdout",
     "output_type": "stream",
     "text": [
      "People with more that normal height are70\n"
     ]
    }
   ],
   "source": [
    "#detecting the outliers after seeing the boxplot whiskers\n",
    "heightoutliers=data.loc[data[\"height\"]>80]\n",
    "heightoutliers=data.loc[data[\"height\"]<58]\n",
    "print(\"People with more that normal height are\"+str(heightoutliers.shape[0]))"
   ]
  },
  {
   "cell_type": "code",
   "execution_count": 36,
   "metadata": {},
   "outputs": [
    {
     "name": "stdout",
     "output_type": "stream",
     "text": [
      "The median is 68.0\n"
     ]
    }
   ],
   "source": [
    "%%time\n",
    "#filling the NA values according to the domain knowledge of heights \n",
    "#data[\"height\"].mean()\n",
    "print(\"The median is \"+str(data[\"height\"].median()))\n",
    "#we are filling the NA data of height column after checking the outliers \n",
    "data[\"height\"].fillna(floor(np.mean(data[\"height\"])),inplace=True)\n"
   ]
  },
  {
   "cell_type": "code",
   "execution_count": 41,
   "metadata": {},
   "outputs": [],
   "source": [
    "%%time\n",
    "#filling the NA values according to the domain knowledge\n",
    "data[\"drugs\"].fillna(\"prefer not to say\",inplace=True)"
   ]
  },
  {
   "cell_type": "code",
   "execution_count": 47,
   "metadata": {},
   "outputs": [],
   "source": [
    "%%time\n",
    "#filling the NA values according to the domain knowledge\n",
    "data[\"education\"].isna().sum()\n",
    "data[\"education\"].fillna(\"prefer not to say\",inplace=True)"
   ]
  },
  {
   "cell_type": "code",
   "execution_count": 51,
   "metadata": {},
   "outputs": [],
   "source": [
    "%%time\n",
    "#filling the NA values according to the domain knowledge\n",
    "data[\"job\"].isna().sum()\n",
    "data[\"job\"].fillna(\"prefer not to say\",inplace=True)"
   ]
  },
  {
   "cell_type": "code",
   "execution_count": 59,
   "metadata": {},
   "outputs": [
    {
     "data": {
      "text/plain": [
       "doesnot have kids                          7559\n",
       "doesnot have kids, but might want them     3875\n",
       "doesnot have kids, but wants them          3565\n",
       "doesnot want kids                          2926\n",
       "has kids                                   1883\n",
       "has a kid                                  1881\n",
       "doesnot have kids, and doesnot want any    1132\n",
       "has kids, but doesnot want more             442\n",
       "has a kid, but doesnot want more            275\n",
       "has a kid, and might want more              231\n",
       "wants kids                                  225\n",
       "might want kids                             182\n",
       "has kids, and might want more               115\n",
       "has a kid, and wants more                    71\n",
       "has kids, and wants more                     21\n",
       "Name: offspring, dtype: int64"
      ]
     },
     "execution_count": 59,
     "metadata": {},
     "output_type": "execute_result"
    }
   ],
   "source": [
    "data[\"offspring\"].value_counts()"
   ]
  },
  {
   "cell_type": "code",
   "execution_count": 60,
   "metadata": {},
   "outputs": [],
   "source": [
    "%%time\n",
    "#filling the NA values according to the domain knowledge\n",
    "data[\"offspring\"].isna().sum()\n",
    "#data[\"offspring\"]=data[\"offspring\"].apply(lambda p:p.replace(\"&rsquo;\",\"o\"))\n",
    "data[\"offspring\"]=data[\"offspring\"].str.replace(\"&rsquo;\",\"o\")\n",
    "data[\"offspring\"].fillna(\"prefer not to say\",inplace=True)"
   ]
  },
  {
   "cell_type": "code",
   "execution_count": 65,
   "metadata": {},
   "outputs": [],
   "source": [
    "data[\"pets\"].fillna(\"dont like pets\",inplace=True)"
   ]
  },
  {
   "cell_type": "code",
   "execution_count": 68,
   "metadata": {},
   "outputs": [
    {
     "data": {
      "text/plain": [
       "20226"
      ]
     },
     "execution_count": 68,
     "metadata": {},
     "output_type": "execute_result"
    }
   ],
   "source": [
    "%%time\n",
    "#filling the NA values according to the domain knowledge\n",
    "data[\"religion\"].isna().sum()"
   ]
  },
  {
   "cell_type": "code",
   "execution_count": 69,
   "metadata": {},
   "outputs": [],
   "source": [
    "%%time\n",
    "#filling the NA values according to the domain knowledge\n",
    "data[\"religion\"].fillna(\"prefer not to say\",inplace=True)"
   ]
  },
  {
   "cell_type": "code",
   "execution_count": 73,
   "metadata": {},
   "outputs": [],
   "source": [
    "%%time\n",
    "#filling the NA values according to the domain knowledge\n",
    "data[\"smokes\"].isna().sum()\n",
    "data[\"smokes\"].fillna(\"prefer not to say\",inplace=True)"
   ]
  },
  {
   "cell_type": "code",
   "execution_count": 77,
   "metadata": {},
   "outputs": [],
   "source": [
    "%%time\n",
    "#filling the NA values according to the domain knowledge\n",
    "#removing the irrational taggs from the data\n",
    "data[\"sign\"]=data[\"sign\"].str.replace(\"&rsquo;\",\"\")\n",
    "data[\"sign\"].value_counts()\n",
    "data[\"sign\"].fillna(\"prefer not to say\",inplace=True)"
   ]
  },
  {
   "cell_type": "code",
   "execution_count": 81,
   "metadata": {},
   "outputs": [],
   "source": [
    "%%time\n",
    "#filling the NA values according to the domain knowledge\n",
    "data[\"ethnicity\"].value_counts().sum()\n",
    "data[\"ethnicity\"].fillna(\"prefer not to say\",inplace=True)"
   ]
  },
  {
   "cell_type": "code",
   "execution_count": 89,
   "metadata": {},
   "outputs": [
    {
     "data": {
      "text/plain": [
       "0     about me i would love to think that i was some...\n",
       "1     i am a chef  this is what that means.1. i am a...\n",
       "2     i'm not ashamed of much, but writing public te...\n",
       "3             i work in a library and go to school. . .\n",
       "4     hey how's it going? currently vague on the pro...\n",
       "5     i'm an australian living in san francisco, but...\n",
       "6     life is about the little things. i love to lau...\n",
       "7                                                   NaN\n",
       "8                                                   NaN\n",
       "9     my names jake.i'm a creative guy and i look fo...\n",
       "10    update  i'm seeing someone, so off the market ...\n",
       "11    i was born in wisconsin, grew up in iowa, and ...\n",
       "12                                    bang my shit bang\n",
       "13                                                  NaN\n",
       "14                                                  NaN\n",
       "15                                                  NaN\n",
       "16    i just moved to the bay area from austin, tx (...\n",
       "17    to sum myself in whole  i have adventurous ten...\n",
       "18    some of my favorite things riding my motorcycl...\n",
       "19    i relocated to san francisco half a year ago. ...\n",
       "Name: essay0, dtype: object"
      ]
     },
     "execution_count": 89,
     "metadata": {},
     "output_type": "execute_result"
    }
   ],
   "source": [
    "data[\"essay0\"].head(20)"
   ]
  },
  {
   "cell_type": "code",
   "execution_count": 98,
   "metadata": {},
   "outputs": [
    {
     "data": {
      "text/plain": [
       "array(['essay0', 'essay1', 'essay2', 'essay3', 'essay4', 'essay5',\n",
       "       'essay6', 'essay7', 'essay8', 'essay9'], dtype=object)"
      ]
     },
     "execution_count": 98,
     "metadata": {},
     "output_type": "execute_result"
    }
   ],
   "source": [
    "#getting the column names of essay0:essay9\n",
    "data.columns\n",
    "colnames_essay=data.columns.values[6:16]\n",
    "colnames_essay"
   ]
  },
  {
   "cell_type": "code",
   "execution_count": 108,
   "metadata": {},
   "outputs": [
    {
     "name": "stdout",
     "output_type": "stream",
     "text": [
      "Wall time: 10.8 s\n"
     ]
    }
   ],
   "source": [
    "%%time\n",
    "#cleaning the data to remove some irrational tags\n",
    "for col in colnames_essay:\n",
    "    data[col]=data[col].str.replace(\"<br />\",\"\")\n",
    "    data[col]=data[col].str.replace(\"/n\",\"\")\n",
    "    data[col]=data[col].str.replace(\"\\n\",\"\")\n",
    "    data[col]=data[col].str.replace(\":\",\" \")\n",
    "    data[col]=data[col].str.replace('<em>','')    \n",
    "    data[col]=data[col].str.replace('<strong>','')\n"
   ]
  },
  {
   "cell_type": "code",
   "execution_count": 101,
   "metadata": {},
   "outputs": [
    {
     "name": "stdout",
     "output_type": "stream",
     "text": [
      "0    about me i would love to think that i was some...\n",
      "1    i am a chef  this is what that means.1. i am a...\n",
      "2    i'm not ashamed of much, but writing public te...\n",
      "3            i work in a library and go to school. . .\n",
      "4    hey how's it going? currently vague on the pro...\n",
      "Name: essay0, dtype: object\n",
      "0    currently working as an international agent fo...\n",
      "1    dedicating everyday to being an unbelievable b...\n",
      "2    i make nerdy software for musicians, artists, ...\n",
      "3            reading things written by old dead people\n",
      "4                           work work work work + play\n",
      "Name: essay1, dtype: object\n",
      "0    making people laugh.ranting about a good salti...\n",
      "1    being silly. having ridiculous amonts of fun w...\n",
      "2    improvising in different contexts. alternating...\n",
      "3    playing synthesizers and organizing books acco...\n",
      "4    creating imagery to look at http //bagsbrown.b...\n",
      "Name: essay2, dtype: object\n",
      "0    the way i look. i am a six foot half asian, ha...\n",
      "1                                                  NaN\n",
      "2    my large jaw and large glasses are the physica...\n",
      "3                    socially awkward but i do my best\n",
      "4              i smile a lot and my inquisitive nature\n",
      "Name: essay3, dtype: object\n",
      "0    books absurdistan, the republic, of mice and m...\n",
      "1    i am die hard christopher moore fan. i don't r...\n",
      "2    okay this is where the cultural matrix gets so...\n",
      "3    bataille, celine, beckett. . .lynch, jarmusch,...\n",
      "4    music  bands, rappers, musiciansat the moment ...\n",
      "Name: essay4, dtype: object\n",
      "0                       food.water.cell phone.shelter.\n",
      "1    delicious porkness in all of its glories.my bi...\n",
      "2    movementconversationcreationcontemplationtouch...\n",
      "3                                                  NaN\n",
      "4                                                  NaN\n",
      "Name: essay5, dtype: object\n",
      "0    duality and humorous things\n",
      "1                            NaN\n",
      "2                            NaN\n",
      "3     cats and german philosophy\n",
      "4                            NaN\n",
      "Name: essay6, dtype: object\n",
      "0    trying to find someone to hang out with. i am ...\n",
      "1                                                  NaN\n",
      "2    viewing. listening. dancing. talking. drinking...\n",
      "3                                                  NaN\n",
      "4                                                  NaN\n",
      "Name: essay7, dtype: object\n",
      "0    i am new to california and looking for someone...\n",
      "1    i am very open and will share just about anyth...\n",
      "2    when i was five years old, i was known as \"the...\n",
      "3                                                  NaN\n",
      "4                                                  NaN\n",
      "Name: essay8, dtype: object\n",
      "0    you want to be swept off your feet!you are tir...\n",
      "1                                                  NaN\n",
      "2    you are bright, open, intense, silly, ironic, ...\n",
      "3                                you feel so inclined.\n",
      "4                                                  NaN\n",
      "Name: essay9, dtype: object\n"
     ]
    }
   ],
   "source": [
    "%%time\n",
    "#checking the column heads to get the overview of the data they contains \n",
    "for col in colnames_essay:\n",
    "    print(data[col].head(5))"
   ]
  },
  {
   "cell_type": "code",
   "execution_count": 110,
   "metadata": {},
   "outputs": [],
   "source": [
    "#renaming the columns to be more specific details\n",
    "data.rename(columns={'essay0':'aboutme',\n",
    "                          'essay1':'work_profession_details',\n",
    "                          'essay2':'your_speciality','essay3':'describe_your_look','essay4':'your_interests',\n",
    "                    'essay4':'things_you_do','essay5':'things_you_love_todo','essay6':'things_you_love_todo1',\n",
    "                    'essay7':'things_you_prefer_todo','essay8':'what_brings_you_here','essay9':'pickup_lines'}, \n",
    "                 inplace=True)\n",
    " "
   ]
  },
  {
   "cell_type": "code",
   "execution_count": 111,
   "metadata": {},
   "outputs": [
    {
     "data": {
      "text/plain": [
       "Index(['age', 'body_type', 'diet', 'drinks', 'drugs', 'education', 'aboutme',\n",
       "       'work_profession_details', 'your_speciality', 'describe_your_look',\n",
       "       'things_you_do', 'things_you_love_todo', 'things_you_love_todo1',\n",
       "       'things_you_prefer_todo', 'what_brings_you_here', 'pickup_lines',\n",
       "       'ethnicity', 'height', 'income', 'job', 'last_online', 'location',\n",
       "       'offspring', 'orientation', 'pets', 'religion', 'sex', 'sign', 'smokes',\n",
       "       'speaks', 'status'],\n",
       "      dtype='object')"
      ]
     },
     "execution_count": 111,
     "metadata": {},
     "output_type": "execute_result"
    }
   ],
   "source": [
    "#checking the new column names\n",
    "data.columns"
   ]
  },
  {
   "cell_type": "code",
   "execution_count": 118,
   "metadata": {},
   "outputs": [
    {
     "data": {
      "text/plain": [
       "['aboutme',\n",
       " 'work_profession_details',\n",
       " 'your_speciality',\n",
       " 'describe_your_look',\n",
       " 'things_you_do',\n",
       " 'things_you_love_todo',\n",
       " 'things_you_love_todo1',\n",
       " 'things_you_prefer_todo',\n",
       " 'what_brings_you_here',\n",
       " 'pickup_lines']"
      ]
     },
     "execution_count": 118,
     "metadata": {},
     "output_type": "execute_result"
    }
   ],
   "source": [
    "colnames_essay_modified"
   ]
  },
  {
   "cell_type": "code",
   "execution_count": 127,
   "metadata": {},
   "outputs": [],
   "source": [
    "colnames_essay_modified=list(data.columns.values[6:16])\n",
    "#for col in colnames_essay_modified:\n",
    "cleaned_data=data.drop(data.columns[6:16], axis = 1) \n",
    "#cleaned_data=data.dropna(subset=colnames_essay_modified,axis=1)"
   ]
  },
  {
   "cell_type": "code",
   "execution_count": 128,
   "metadata": {},
   "outputs": [
    {
     "data": {
      "text/plain": [
       "Index(['age', 'body_type', 'diet', 'drinks', 'drugs', 'education', 'ethnicity',\n",
       "       'height', 'income', 'job', 'last_online', 'location', 'offspring',\n",
       "       'orientation', 'pets', 'religion', 'sex', 'sign', 'smokes', 'speaks',\n",
       "       'status'],\n",
       "      dtype='object')"
      ]
     },
     "execution_count": 128,
     "metadata": {},
     "output_type": "execute_result"
    }
   ],
   "source": [
    "cleaned_data.columns"
   ]
  }
 ],
 "metadata": {
  "kernelspec": {
   "display_name": "Python 3",
   "language": "python",
   "name": "python3"
  },
  "language_info": {
   "codemirror_mode": {
    "name": "ipython",
    "version": 3
   },
   "file_extension": ".py",
   "mimetype": "text/x-python",
   "name": "python",
   "nbconvert_exporter": "python",
   "pygments_lexer": "ipython3",
   "version": "3.7.4"
  }
 },
 "nbformat": 4,
 "nbformat_minor": 2
}
