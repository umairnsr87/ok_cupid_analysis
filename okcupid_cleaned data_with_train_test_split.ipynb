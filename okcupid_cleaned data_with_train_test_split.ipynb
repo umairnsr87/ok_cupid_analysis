{
 "cells": [
  {
   "cell_type": "code",
   "execution_count": 1,
   "metadata": {},
   "outputs": [],
   "source": [
    "file=r'C:\\Users\\umairansari\\Desktop'"
   ]
  },
  {
   "cell_type": "code",
   "execution_count": 2,
   "metadata": {},
   "outputs": [],
   "source": [
    "import pandas as pd\n",
    "import numpy as np\n",
    "import seaborn as sns\n",
    "import matplotlib.pyplot as plt\n",
    "import missingno as msno\n",
    "import math\n",
    "from math import floor\n",
    "from sklearn.model_selection import train_test_split,KFold,StratifiedKFold,GridSearchCV,RandomizedSearchCV"
   ]
  },
  {
   "cell_type": "code",
   "execution_count": 3,
   "metadata": {},
   "outputs": [
    {
     "name": "stderr",
     "output_type": "stream",
     "text": [
      "C:\\Users\\umairansari\\Anaconda3\\lib\\site-packages\\IPython\\core\\interactiveshell.py:3058: DtypeWarning: Columns (0,17,18) have mixed types. Specify dtype option on import or set low_memory=False.\n",
      "  interactivity=interactivity, compiler=compiler, result=result)\n"
     ]
    }
   ],
   "source": [
    "data=pd.read_csv(file+r\"\\profiles_ok_cupid.csv\")"
   ]
  },
  {
   "cell_type": "code",
   "execution_count": 4,
   "metadata": {},
   "outputs": [
    {
     "name": "stdout",
     "output_type": "stream",
     "text": [
      "the dimension of test data is(18166, 31)\n",
      "the dimension of train data is(42386, 31)\n"
     ]
    }
   ],
   "source": [
    "#splitting the data into test and train\n",
    "train,test=train_test_split(data,random_state=19,shuffle=True,test_size=.30)\n",
    "print(\"the dimension of test data is\"+str(test.shape))\n",
    "print(\"the dimension of train data is\"+str(train.shape))"
   ]
  },
  {
   "cell_type": "code",
   "execution_count": 5,
   "metadata": {},
   "outputs": [
    {
     "data": {
      "text/html": [
       "<div>\n",
       "<style scoped>\n",
       "    .dataframe tbody tr th:only-of-type {\n",
       "        vertical-align: middle;\n",
       "    }\n",
       "\n",
       "    .dataframe tbody tr th {\n",
       "        vertical-align: top;\n",
       "    }\n",
       "\n",
       "    .dataframe thead th {\n",
       "        text-align: right;\n",
       "    }\n",
       "</style>\n",
       "<table border=\"1\" class=\"dataframe\">\n",
       "  <thead>\n",
       "    <tr style=\"text-align: right;\">\n",
       "      <th></th>\n",
       "      <th>age</th>\n",
       "      <th>body_type</th>\n",
       "      <th>diet</th>\n",
       "      <th>drinks</th>\n",
       "      <th>drugs</th>\n",
       "      <th>education</th>\n",
       "      <th>essay0</th>\n",
       "      <th>essay1</th>\n",
       "      <th>essay2</th>\n",
       "      <th>essay3</th>\n",
       "      <th>...</th>\n",
       "      <th>location</th>\n",
       "      <th>offspring</th>\n",
       "      <th>orientation</th>\n",
       "      <th>pets</th>\n",
       "      <th>religion</th>\n",
       "      <th>sex</th>\n",
       "      <th>sign</th>\n",
       "      <th>smokes</th>\n",
       "      <th>speaks</th>\n",
       "      <th>status</th>\n",
       "    </tr>\n",
       "  </thead>\n",
       "  <tbody>\n",
       "    <tr>\n",
       "      <td>1519</td>\n",
       "      <td>24</td>\n",
       "      <td>athletic</td>\n",
       "      <td>strictly anything</td>\n",
       "      <td>socially</td>\n",
       "      <td>sometimes</td>\n",
       "      <td>space camp</td>\n",
       "      <td>i'm not going to be able to sum myself up in t...</td>\n",
       "      <td>loving san francisco. not that i have much to ...</td>\n",
       "      <td>cooking&lt;br /&gt;\\ncreating awkward situations&lt;br ...</td>\n",
       "      <td>whether or not i am present.(in company)(there...</td>\n",
       "      <td>...</td>\n",
       "      <td>san francisco, california</td>\n",
       "      <td>doesn&amp;rsquo;t have kids</td>\n",
       "      <td>straight</td>\n",
       "      <td>likes dogs and likes cats</td>\n",
       "      <td>NaN</td>\n",
       "      <td>m</td>\n",
       "      <td>virgo but it doesn&amp;rsquo;t matter</td>\n",
       "      <td>no</td>\n",
       "      <td>english (fluently), sanskrit (fluently)</td>\n",
       "      <td>single</td>\n",
       "    </tr>\n",
       "    <tr>\n",
       "      <td>529</td>\n",
       "      <td>46</td>\n",
       "      <td>fit</td>\n",
       "      <td>anything</td>\n",
       "      <td>socially</td>\n",
       "      <td>NaN</td>\n",
       "      <td>graduated from college/university</td>\n",
       "      <td>i'm not macho and i don't need to prove anythi...</td>\n",
       "      <td>NaN</td>\n",
       "      <td>selecting friends. and feeding those relations...</td>\n",
       "      <td>my smile is big and sincere, eye contact and a...</td>\n",
       "      <td>...</td>\n",
       "      <td>san francisco, california</td>\n",
       "      <td>doesn&amp;rsquo;t have kids</td>\n",
       "      <td>straight</td>\n",
       "      <td>likes dogs</td>\n",
       "      <td>NaN</td>\n",
       "      <td>m</td>\n",
       "      <td>pisces and it&amp;rsquo;s fun to think about</td>\n",
       "      <td>no</td>\n",
       "      <td>english</td>\n",
       "      <td>single</td>\n",
       "    </tr>\n",
       "    <tr>\n",
       "      <td>41425</td>\n",
       "      <td>29</td>\n",
       "      <td>athletic</td>\n",
       "      <td>mostly anything</td>\n",
       "      <td>socially</td>\n",
       "      <td>sometimes</td>\n",
       "      <td>working on space camp</td>\n",
       "      <td>happy, easy, compassionate, excitable, want to...</td>\n",
       "      <td>trying to go to vet school, and have fun mostly.</td>\n",
       "      <td>NaN</td>\n",
       "      <td>my weirdo asymmetric haircut.</td>\n",
       "      <td>...</td>\n",
       "      <td>san francisco, california</td>\n",
       "      <td>doesn&amp;rsquo;t have kids, but might want them</td>\n",
       "      <td>straight</td>\n",
       "      <td>has dogs and has cats</td>\n",
       "      <td>atheism</td>\n",
       "      <td>f</td>\n",
       "      <td>pisces but it doesn&amp;rsquo;t matter</td>\n",
       "      <td>no</td>\n",
       "      <td>english</td>\n",
       "      <td>single</td>\n",
       "    </tr>\n",
       "    <tr>\n",
       "      <td>38814</td>\n",
       "      <td>25</td>\n",
       "      <td>NaN</td>\n",
       "      <td>mostly vegetarian</td>\n",
       "      <td>socially</td>\n",
       "      <td>never</td>\n",
       "      <td>graduated from college/university</td>\n",
       "      <td>living in the east bay currently, went to coll...</td>\n",
       "      <td>NaN</td>\n",
       "      <td>being present for my work, family &amp;amp; friend...</td>\n",
       "      <td>i'm warm &amp;amp; calm, excited to meet new peopl...</td>\n",
       "      <td>...</td>\n",
       "      <td>berkeley, california</td>\n",
       "      <td>NaN</td>\n",
       "      <td>straight</td>\n",
       "      <td>likes dogs</td>\n",
       "      <td>NaN</td>\n",
       "      <td>f</td>\n",
       "      <td>NaN</td>\n",
       "      <td>no</td>\n",
       "      <td>english, spanish</td>\n",
       "      <td>single</td>\n",
       "    </tr>\n",
       "    <tr>\n",
       "      <td>16190</td>\n",
       "      <td>25</td>\n",
       "      <td>athletic</td>\n",
       "      <td>anything</td>\n",
       "      <td>socially</td>\n",
       "      <td>never</td>\n",
       "      <td>working on space camp</td>\n",
       "      <td>i'm a grounded, fun, outgoing, artistic, emoti...</td>\n",
       "      <td>i'm pursuing my dream of acting and singing.&lt;b...</td>\n",
       "      <td>typing, making coffee, making pancakes.</td>\n",
       "      <td>my name, my height</td>\n",
       "      <td>...</td>\n",
       "      <td>san francisco, california</td>\n",
       "      <td>NaN</td>\n",
       "      <td>gay</td>\n",
       "      <td>likes dogs and likes cats</td>\n",
       "      <td>other</td>\n",
       "      <td>m</td>\n",
       "      <td>aquarius and it&amp;rsquo;s fun to think about</td>\n",
       "      <td>no</td>\n",
       "      <td>english, italian (poorly)</td>\n",
       "      <td>single</td>\n",
       "    </tr>\n",
       "  </tbody>\n",
       "</table>\n",
       "<p>5 rows × 31 columns</p>\n",
       "</div>"
      ],
      "text/plain": [
       "      age body_type               diet    drinks      drugs  \\\n",
       "1519   24  athletic  strictly anything  socially  sometimes   \n",
       "529    46       fit           anything  socially        NaN   \n",
       "41425  29  athletic    mostly anything  socially  sometimes   \n",
       "38814  25       NaN  mostly vegetarian  socially      never   \n",
       "16190  25  athletic           anything  socially      never   \n",
       "\n",
       "                               education  \\\n",
       "1519                          space camp   \n",
       "529    graduated from college/university   \n",
       "41425              working on space camp   \n",
       "38814  graduated from college/university   \n",
       "16190              working on space camp   \n",
       "\n",
       "                                                  essay0  \\\n",
       "1519   i'm not going to be able to sum myself up in t...   \n",
       "529    i'm not macho and i don't need to prove anythi...   \n",
       "41425  happy, easy, compassionate, excitable, want to...   \n",
       "38814  living in the east bay currently, went to coll...   \n",
       "16190  i'm a grounded, fun, outgoing, artistic, emoti...   \n",
       "\n",
       "                                                  essay1  \\\n",
       "1519   loving san francisco. not that i have much to ...   \n",
       "529                                                  NaN   \n",
       "41425   trying to go to vet school, and have fun mostly.   \n",
       "38814                                                NaN   \n",
       "16190  i'm pursuing my dream of acting and singing.<b...   \n",
       "\n",
       "                                                  essay2  \\\n",
       "1519   cooking<br />\\ncreating awkward situations<br ...   \n",
       "529    selecting friends. and feeding those relations...   \n",
       "41425                                                NaN   \n",
       "38814  being present for my work, family &amp; friend...   \n",
       "16190            typing, making coffee, making pancakes.   \n",
       "\n",
       "                                                  essay3  ...  \\\n",
       "1519   whether or not i am present.(in company)(there...  ...   \n",
       "529    my smile is big and sincere, eye contact and a...  ...   \n",
       "41425                      my weirdo asymmetric haircut.  ...   \n",
       "38814  i'm warm &amp; calm, excited to meet new peopl...  ...   \n",
       "16190                                 my name, my height  ...   \n",
       "\n",
       "                        location  \\\n",
       "1519   san francisco, california   \n",
       "529    san francisco, california   \n",
       "41425  san francisco, california   \n",
       "38814       berkeley, california   \n",
       "16190  san francisco, california   \n",
       "\n",
       "                                          offspring orientation  \\\n",
       "1519                        doesn&rsquo;t have kids    straight   \n",
       "529                         doesn&rsquo;t have kids    straight   \n",
       "41425  doesn&rsquo;t have kids, but might want them    straight   \n",
       "38814                                           NaN    straight   \n",
       "16190                                           NaN         gay   \n",
       "\n",
       "                            pets religion sex  \\\n",
       "1519   likes dogs and likes cats      NaN   m   \n",
       "529                   likes dogs      NaN   m   \n",
       "41425      has dogs and has cats  atheism   f   \n",
       "38814                 likes dogs      NaN   f   \n",
       "16190  likes dogs and likes cats    other   m   \n",
       "\n",
       "                                             sign smokes  \\\n",
       "1519            virgo but it doesn&rsquo;t matter     no   \n",
       "529      pisces and it&rsquo;s fun to think about     no   \n",
       "41425          pisces but it doesn&rsquo;t matter     no   \n",
       "38814                                         NaN     no   \n",
       "16190  aquarius and it&rsquo;s fun to think about     no   \n",
       "\n",
       "                                        speaks  status  \n",
       "1519   english (fluently), sanskrit (fluently)  single  \n",
       "529                                    english  single  \n",
       "41425                                  english  single  \n",
       "38814                         english, spanish  single  \n",
       "16190                english, italian (poorly)  single  \n",
       "\n",
       "[5 rows x 31 columns]"
      ]
     },
     "execution_count": 5,
     "metadata": {},
     "output_type": "execute_result"
    }
   ],
   "source": [
    "train.head(5)"
   ]
  },
  {
   "cell_type": "code",
   "execution_count": 6,
   "metadata": {},
   "outputs": [
    {
     "data": {
      "text/plain": [
       "(42386, 31)"
      ]
     },
     "execution_count": 6,
     "metadata": {},
     "output_type": "execute_result"
    }
   ],
   "source": [
    "train.shape"
   ]
  },
  {
   "cell_type": "code",
   "execution_count": 7,
   "metadata": {},
   "outputs": [
    {
     "data": {
      "text/plain": [
       "Index(['age', 'body_type', 'diet', 'drinks', 'drugs', 'education', 'essay0',\n",
       "       'essay1', 'essay2', 'essay3', 'essay4', 'essay5', 'essay6', 'essay7',\n",
       "       'essay8', 'essay9', 'ethnicity', 'height', 'income', 'job',\n",
       "       'last_online', 'location', 'offspring', 'orientation', 'pets',\n",
       "       'religion', 'sex', 'sign', 'smokes', 'speaks', 'status'],\n",
       "      dtype='object')"
      ]
     },
     "execution_count": 7,
     "metadata": {},
     "output_type": "execute_result"
    }
   ],
   "source": [
    "train.columns"
   ]
  },
  {
   "cell_type": "code",
   "execution_count": 8,
   "metadata": {},
   "outputs": [
    {
     "data": {
      "text/plain": [
       "single            38987\n",
       "seeing someone     1453\n",
       "available          1297\n",
       "married             215\n",
       "unknown               6\n",
       "Name: status, dtype: int64"
      ]
     },
     "execution_count": 8,
     "metadata": {},
     "output_type": "execute_result"
    }
   ],
   "source": [
    "train[\"status\"].value_counts()"
   ]
  },
  {
   "cell_type": "code",
   "execution_count": 9,
   "metadata": {},
   "outputs": [
    {
     "data": {
      "image/png": "[encoded data removed]",
      "text/plain": [
       "<Figure size 1296x432 with 1 Axes>"
      ]
     },
     "metadata": {
      "needs_background": "light"
     },
     "output_type": "display_data"
    },
    {
     "name": "stdout",
     "output_type": "stream",
     "text": [
      "Wall time: 735 ms\n"
     ]
    }
   ],
   "source": [
    "%%time\n",
    "plt.figure(figsize=(18,6))\n",
    "sns.set_style(\"whitegrid\")\n",
    "plt.title(\"Relationship frequencies graph\")\n",
    "sns.countplot(train[\"status\"])\n",
    "plt.xlabel(\"The type of status of the relationship of the persons\")\n",
    "plt.show()"
   ]
  },
  {
   "cell_type": "code",
   "execution_count": 10,
   "metadata": {},
   "outputs": [
    {
     "name": "stdout",
     "output_type": "stream",
     "text": [
      "The new shape of the train data is(41958, 31)\n",
      "The new shape of the test data is(17985, 31)\n",
      "Wall time: 141 ms\n"
     ]
    },
    {
     "name": "stderr",
     "output_type": "stream",
     "text": [
      "C:\\Users\\umairansari\\Anaconda3\\lib\\site-packages\\ipykernel_launcher.py:8: SettingWithCopyWarning: \n",
      "A value is trying to be set on a copy of a slice from a DataFrame\n",
      "\n",
      "See the caveats in the documentation: http://pandas.pydata.org/pandas-docs/stable/user_guide/indexing.html#returning-a-view-versus-a-copy\n",
      "  \n",
      "C:\\Users\\umairansari\\Anaconda3\\lib\\site-packages\\ipykernel_launcher.py:9: SettingWithCopyWarning: \n",
      "A value is trying to be set on a copy of a slice from a DataFrame\n",
      "\n",
      "See the caveats in the documentation: http://pandas.pydata.org/pandas-docs/stable/user_guide/indexing.html#returning-a-view-versus-a-copy\n",
      "  if __name__ == '__main__':\n"
     ]
    }
   ],
   "source": [
    "%%time\n",
    "train[\"status\"].value_counts()\n",
    "#counting the values of the status of the data \n",
    "#data[\"status\"].fillna(\"test\",inplace=True)\n",
    "#filling the na data to prepare for the test data as we dont know the test data \n",
    "#datatest=data[data[\"status\"]==\"test\"]\n",
    "#retreiving the data and saperating it for test and train\n",
    "#data=data.loc[data[\"status\"]!=\"test\"]\n",
    "train.dropna(subset=[\"status\"],axis=0,inplace=True)\n",
    "test.dropna(subset=[\"status\"],axis=0,inplace=True)\n",
    "#print(\"The new shape of the train data is\"+str(datatest.shape))\n",
    "print(\"The new shape of the train data is\"+str(train.shape))\n",
    "print(\"The new shape of the test data is\"+str(test.shape))\n",
    "#total=datatest.shape[0]+data.shape[0]\n",
    "#print(\"The total data we have now is \"+str(total))"
   ]
  },
  {
   "cell_type": "code",
   "execution_count": 11,
   "metadata": {},
   "outputs": [
    {
     "data": {
      "text/plain": [
       "<matplotlib.axes._subplots.AxesSubplot at 0xf04ffd1cc8>"
      ]
     },
     "execution_count": 11,
     "metadata": {},
     "output_type": "execute_result"
    },
    {
     "data": {
      "image/png": "[encoded data removed]",
      "text/plain": [
       "<Figure size 1800x720 with 2 Axes>"
      ]
     },
     "metadata": {},
     "output_type": "display_data"
    }
   ],
   "source": [
    "#miissing walues in the train data set\n",
    "msno.matrix(train)\n"
   ]
  },
  {
   "cell_type": "code",
   "execution_count": 12,
   "metadata": {},
   "outputs": [
    {
     "data": {
      "text/plain": [
       "<matplotlib.axes._subplots.AxesSubplot at 0xf04fa44c88>"
      ]
     },
     "execution_count": 12,
     "metadata": {},
     "output_type": "execute_result"
    },
    {
     "data": {
      "image/png": "[encoded data removed]",
      "text/plain": [
       "<Figure size 1800x720 with 2 Axes>"
      ]
     },
     "metadata": {},
     "output_type": "display_data"
    }
   ],
   "source": [
    "#miissing walues in the train data set\n",
    "msno.matrix(test)"
   ]
  },
  {
   "cell_type": "code",
   "execution_count": 13,
   "metadata": {},
   "outputs": [
    {
     "name": "stdout",
     "output_type": "stream",
     "text": [
      "Wall time: 31.3 ms\n"
     ]
    },
    {
     "name": "stderr",
     "output_type": "stream",
     "text": [
      "C:\\Users\\umairansari\\Anaconda3\\lib\\site-packages\\pandas\\core\\generic.py:6287: SettingWithCopyWarning: \n",
      "A value is trying to be set on a copy of a slice from a DataFrame\n",
      "\n",
      "See the caveats in the documentation: http://pandas.pydata.org/pandas-docs/stable/user_guide/indexing.html#returning-a-view-versus-a-copy\n",
      "  self._update_inplace(new_data)\n"
     ]
    }
   ],
   "source": [
    "%%time\n",
    "#getting the data for the body type\n",
    "train[\"body_type\"].isna().sum()\n",
    "#filling the values of the test and train data with other type\n",
    "\n",
    "train[\"body_type\"].fillna(\"other\",inplace=True)\n",
    "test[\"body_type\"].fillna(\"other\",inplace=True)"
   ]
  },
  {
   "cell_type": "code",
   "execution_count": 14,
   "metadata": {},
   "outputs": [
    {
     "name": "stdout",
     "output_type": "stream",
     "text": [
      "Wall time: 15.6 ms\n"
     ]
    }
   ],
   "source": [
    "%%time\n",
    "#flling the na data for diet column according to the domain knowledge\n",
    "train[\"diet\"].fillna(\"prefer not to say\",inplace=True)\n",
    "test[\"diet\"].fillna(\"prefer not to say\",inplace=True)"
   ]
  },
  {
   "cell_type": "code",
   "execution_count": 15,
   "metadata": {},
   "outputs": [
    {
     "name": "stdout",
     "output_type": "stream",
     "text": [
      "Wall time: 15.6 ms\n"
     ]
    }
   ],
   "source": [
    "%%time\n",
    "#filling the na data for drinks according to the domain knowledge column\n",
    "train[\"drinks\"].fillna(\"prefer not to say\",inplace=True)\n",
    "test[\"drinks\"].fillna(\"prefer not to say\",inplace=True)"
   ]
  },
  {
   "cell_type": "code",
   "execution_count": 16,
   "metadata": {},
   "outputs": [
    {
     "name": "stdout",
     "output_type": "stream",
     "text": [
      "Wall time: 250 ms\n"
     ]
    },
    {
     "name": "stderr",
     "output_type": "stream",
     "text": [
      "C:\\Users\\umairansari\\Anaconda3\\lib\\site-packages\\ipykernel_launcher.py:2: SettingWithCopyWarning: \n",
      "A value is trying to be set on a copy of a slice from a DataFrame.\n",
      "Try using .loc[row_indexer,col_indexer] = value instead\n",
      "\n",
      "See the caveats in the documentation: http://pandas.pydata.org/pandas-docs/stable/user_guide/indexing.html#returning-a-view-versus-a-copy\n",
      "  \n",
      "C:\\Users\\umairansari\\Anaconda3\\lib\\site-packages\\ipykernel_launcher.py:3: SettingWithCopyWarning: \n",
      "A value is trying to be set on a copy of a slice from a DataFrame.\n",
      "Try using .loc[row_indexer,col_indexer] = value instead\n",
      "\n",
      "See the caveats in the documentation: http://pandas.pydata.org/pandas-docs/stable/user_guide/indexing.html#returning-a-view-versus-a-copy\n",
      "  This is separate from the ipykernel package so we can avoid doing imports until\n"
     ]
    }
   ],
   "source": [
    "%%time\n",
    "#changing the type of the height column to numeric \n",
    "train[\"height\"]=pd.to_numeric(train[\"height\"],errors='coerce')\n",
    "test[\"height\"]=pd.to_numeric(test[\"height\"],errors='coerce')"
   ]
  },
  {
   "cell_type": "code",
   "execution_count": 17,
   "metadata": {},
   "outputs": [
    {
     "name": "stdout",
     "output_type": "stream",
     "text": [
      "The mean of the target column is 68.29777142176141\n"
     ]
    }
   ],
   "source": [
    "print(\"The mean of the target column is \"+str(np.mean(train[\"height\"])))"
   ]
  },
  {
   "cell_type": "code",
   "execution_count": 18,
   "metadata": {},
   "outputs": [
    {
     "data": {
      "text/plain": [
       "68"
      ]
     },
     "execution_count": 18,
     "metadata": {},
     "output_type": "execute_result"
    }
   ],
   "source": [
    "floor(np.mean(train[\"height\"]))"
   ]
  },
  {
   "cell_type": "code",
   "execution_count": 19,
   "metadata": {},
   "outputs": [],
   "source": [
    "#function to detect outliers for the data \n",
    "def detect_outliers(data):\n",
    "    outliers = []\n",
    "    threshold=3\n",
    "    mean = np.mean(data)\n",
    "    std = np.std(data)\n",
    "    for i in data:\n",
    "        z_score = (i-mean)/std\n",
    "        print(z_score)\n",
    "        if np.abs(z_score) > threshold:\n",
    "            outliers.append(i)\n",
    "    return outliers"
   ]
  },
  {
   "cell_type": "code",
   "execution_count": 20,
   "metadata": {},
   "outputs": [
    {
     "data": {
      "text/plain": [
       "(17985, 31)"
      ]
     },
     "execution_count": 20,
     "metadata": {},
     "output_type": "execute_result"
    }
   ],
   "source": [
    "test.shape"
   ]
  },
  {
   "cell_type": "raw",
   "metadata": {},
   "source": []
  },
  {
   "cell_type": "code",
   "execution_count": null,
   "metadata": {},
   "outputs": [],
   "source": []
  },
  {
   "cell_type": "code",
   "execution_count": 21,
   "metadata": {},
   "outputs": [
    {
     "data": {
      "image/png": "[encoded data removed]",
      "text/plain": [
       "<Figure size 432x288 with 1 Axes>"
      ]
     },
     "metadata": {},
     "output_type": "display_data"
    }
   ],
   "source": [
    "#checking the height whether it contains outliers or not\n",
    "sns.boxplot(train[\"height\"])\n",
    "plt.xlabel(\"Height in cms\")\n",
    "plt.show()"
   ]
  },
  {
   "cell_type": "code",
   "execution_count": 22,
   "metadata": {},
   "outputs": [
    {
     "name": "stdout",
     "output_type": "stream",
     "text": [
      "People with more that normal height are in train set 49\n"
     ]
    }
   ],
   "source": [
    "#detecting the outliers after seeing the boxplot whiskers\n",
    "heightoutliers=train.loc[train[\"height\"]>80]\n",
    "heightoutliers=train.loc[train[\"height\"]<58]\n",
    "print(\"People with more that normal height are in train set \"+str(heightoutliers.shape[0]))"
   ]
  },
  {
   "cell_type": "code",
   "execution_count": 23,
   "metadata": {},
   "outputs": [
    {
     "name": "stdout",
     "output_type": "stream",
     "text": [
      "The median is 68.0\n",
      "Wall time: 13 ms\n"
     ]
    },
    {
     "name": "stderr",
     "output_type": "stream",
     "text": [
      "C:\\Users\\umairansari\\Anaconda3\\lib\\site-packages\\pandas\\core\\generic.py:6287: SettingWithCopyWarning: \n",
      "A value is trying to be set on a copy of a slice from a DataFrame\n",
      "\n",
      "See the caveats in the documentation: http://pandas.pydata.org/pandas-docs/stable/user_guide/indexing.html#returning-a-view-versus-a-copy\n",
      "  self._update_inplace(new_data)\n"
     ]
    }
   ],
   "source": [
    "%%time\n",
    "#filling the NA values according to the domain knowledge of heights \n",
    "#data[\"height\"].mean()\n",
    "print(\"The median is \"+str(train[\"height\"].median()))\n",
    "#we are filling the NA data of height column after checking the outliers \n",
    "train[\"height\"].fillna(floor(np.mean(train[\"height\"])),inplace=True)\n",
    "test[\"height\"].fillna(floor(np.mean(train[\"height\"])),inplace=True)\n"
   ]
  },
  {
   "cell_type": "code",
   "execution_count": 24,
   "metadata": {},
   "outputs": [
    {
     "name": "stdout",
     "output_type": "stream",
     "text": [
      "Wall time: 21 ms\n"
     ]
    }
   ],
   "source": [
    "%%time\n",
    "#filling the NA values according to the domain knowledge\n",
    "train[\"drugs\"].fillna(\"prefer not to say\",inplace=True)\n",
    "test[\"drugs\"].fillna(\"prefer not to say\",inplace=True)"
   ]
  },
  {
   "cell_type": "code",
   "execution_count": 25,
   "metadata": {},
   "outputs": [
    {
     "name": "stdout",
     "output_type": "stream",
     "text": [
      "Wall time: 25 ms\n"
     ]
    }
   ],
   "source": [
    "%%time\n",
    "#filling the NA values according to the domain knowledge\n",
    "train[\"education\"].isna().sum()\n",
    "train[\"education\"].fillna(\"prefer not to say\",inplace=True)\n",
    "test[\"education\"].fillna(\"prefer not to say\",inplace=True)"
   ]
  },
  {
   "cell_type": "code",
   "execution_count": 26,
   "metadata": {},
   "outputs": [
    {
     "name": "stdout",
     "output_type": "stream",
     "text": [
      "Wall time: 25 ms\n"
     ]
    }
   ],
   "source": [
    "%%time\n",
    "#filling the NA values according to the domain knowledge\n",
    "train[\"job\"].isna().sum()\n",
    "train[\"job\"].fillna(\"prefer not to say\",inplace=True)\n",
    "test[\"job\"].fillna(\"prefer not to say\",inplace=True)"
   ]
  },
  {
   "cell_type": "code",
   "execution_count": 27,
   "metadata": {},
   "outputs": [
    {
     "data": {
      "text/plain": [
       "doesn&rsquo;t have kids                                5282\n",
       "doesn&rsquo;t have kids, but might want them           2688\n",
       "doesn&rsquo;t have kids, but wants them                2495\n",
       "doesn&rsquo;t want kids                                2060\n",
       "has a kid                                              1333\n",
       "has kids                                               1271\n",
       "doesn&rsquo;t have kids, and doesn&rsquo;t want any     778\n",
       "has kids, but doesn&rsquo;t want more                   320\n",
       "has a kid, but doesn&rsquo;t want more                  211\n",
       "wants kids                                              160\n",
       "has a kid, and might want more                          155\n",
       "might want kids                                         123\n",
       "has kids, and might want more                            86\n",
       "has a kid, and wants more                                46\n",
       "has kids, and wants more                                 13\n",
       "Name: offspring, dtype: int64"
      ]
     },
     "execution_count": 27,
     "metadata": {},
     "output_type": "execute_result"
    }
   ],
   "source": [
    "train[\"offspring\"].value_counts()"
   ]
  },
  {
   "cell_type": "code",
   "execution_count": 28,
   "metadata": {},
   "outputs": [
    {
     "name": "stdout",
     "output_type": "stream",
     "text": [
      "Wall time: 219 ms\n"
     ]
    },
    {
     "name": "stderr",
     "output_type": "stream",
     "text": [
      "C:\\Users\\umairansari\\Anaconda3\\lib\\site-packages\\ipykernel_launcher.py:4: SettingWithCopyWarning: \n",
      "A value is trying to be set on a copy of a slice from a DataFrame.\n",
      "Try using .loc[row_indexer,col_indexer] = value instead\n",
      "\n",
      "See the caveats in the documentation: http://pandas.pydata.org/pandas-docs/stable/user_guide/indexing.html#returning-a-view-versus-a-copy\n",
      "  after removing the cwd from sys.path.\n",
      "C:\\Users\\umairansari\\Anaconda3\\lib\\site-packages\\ipykernel_launcher.py:5: SettingWithCopyWarning: \n",
      "A value is trying to be set on a copy of a slice from a DataFrame.\n",
      "Try using .loc[row_indexer,col_indexer] = value instead\n",
      "\n",
      "See the caveats in the documentation: http://pandas.pydata.org/pandas-docs/stable/user_guide/indexing.html#returning-a-view-versus-a-copy\n",
      "  \"\"\"\n"
     ]
    },
    {
     "data": {
      "text/plain": [
       "((17985, 31), (41958, 31))"
      ]
     },
     "execution_count": 28,
     "metadata": {},
     "output_type": "execute_result"
    }
   ],
   "source": [
    "%%time\n",
    "#filling the NA values according to the domain knowledge\n",
    "train[\"offspring\"].isna().sum()\n",
    "#data[\"offspring\"]=data[\"offspring\"].apply(lambda p:p.replace(\"&rsquo;\",\"o\"))\n",
    "train[\"offspring\"]=train[\"offspring\"].str.replace(\"&rsquo;\",\"o\")\n",
    "test[\"offspring\"]=test[\"offspring\"].str.replace(\"&rsquo;\",\"o\")\n",
    "\n",
    "train[\"offspring\"].fillna(\"prefer not to say\",inplace=True)\n",
    "\n",
    "test[\"offspring\"].fillna(\"prefer not to say\",inplace=True)\n",
    "test.shape,train.shape"
   ]
  },
  {
   "cell_type": "code",
   "execution_count": 29,
   "metadata": {},
   "outputs": [],
   "source": [
    "train[\"pets\"].fillna(\"dont like pets\",inplace=True)\n",
    "test[\"pets\"].fillna(\"dont like pets\",inplace=True)"
   ]
  },
  {
   "cell_type": "code",
   "execution_count": 30,
   "metadata": {},
   "outputs": [
    {
     "name": "stdout",
     "output_type": "stream",
     "text": [
      "Wall time: 14 ms\n"
     ]
    },
    {
     "data": {
      "text/plain": [
       "14104"
      ]
     },
     "execution_count": 30,
     "metadata": {},
     "output_type": "execute_result"
    }
   ],
   "source": [
    "%%time\n",
    "#filling the NA values according to the domain knowledge\n",
    "train[\"religion\"].isna().sum()"
   ]
  },
  {
   "cell_type": "code",
   "execution_count": 31,
   "metadata": {},
   "outputs": [
    {
     "name": "stdout",
     "output_type": "stream",
     "text": [
      "Wall time: 15.6 ms\n"
     ]
    }
   ],
   "source": [
    "%%time\n",
    "#filling the NA values according to the domain knowledge\n",
    "train[\"religion\"].fillna(\"prefer not to say\",inplace=True)\n",
    "test[\"religion\"].fillna(\"prefer not to say\",inplace=True)"
   ]
  },
  {
   "cell_type": "code",
   "execution_count": 32,
   "metadata": {},
   "outputs": [
    {
     "name": "stdout",
     "output_type": "stream",
     "text": [
      "Wall time: 31.3 ms\n"
     ]
    }
   ],
   "source": [
    "%%time\n",
    "#filling the NA values according to the domain knowledge\n",
    "train[\"smokes\"].isna().sum()\n",
    "train[\"smokes\"].fillna(\"prefer not to say\",inplace=True)\n",
    "test[\"smokes\"].fillna(\"prefer not to say\",inplace=True)"
   ]
  },
  {
   "cell_type": "code",
   "execution_count": 33,
   "metadata": {},
   "outputs": [
    {
     "name": "stdout",
     "output_type": "stream",
     "text": [
      "Wall time: 419 ms\n"
     ]
    },
    {
     "name": "stderr",
     "output_type": "stream",
     "text": [
      "C:\\Users\\umairansari\\Anaconda3\\lib\\site-packages\\ipykernel_launcher.py:3: SettingWithCopyWarning: \n",
      "A value is trying to be set on a copy of a slice from a DataFrame.\n",
      "Try using .loc[row_indexer,col_indexer] = value instead\n",
      "\n",
      "See the caveats in the documentation: http://pandas.pydata.org/pandas-docs/stable/user_guide/indexing.html#returning-a-view-versus-a-copy\n",
      "  This is separate from the ipykernel package so we can avoid doing imports until\n",
      "C:\\Users\\umairansari\\Anaconda3\\lib\\site-packages\\ipykernel_launcher.py:4: SettingWithCopyWarning: \n",
      "A value is trying to be set on a copy of a slice from a DataFrame.\n",
      "Try using .loc[row_indexer,col_indexer] = value instead\n",
      "\n",
      "See the caveats in the documentation: http://pandas.pydata.org/pandas-docs/stable/user_guide/indexing.html#returning-a-view-versus-a-copy\n",
      "  after removing the cwd from sys.path.\n"
     ]
    }
   ],
   "source": [
    "%%time\n",
    "#filling the NA values according to the domain knowledge\n",
    "#removing the irrational taggs from the data\n",
    "train[\"sign\"]=train[\"sign\"].str.replace(\"&rsquo;\",\"\")\n",
    "test[\"sign\"]=test[\"sign\"].str.replace(\"&rsquo;\",\"\")\n",
    "\n",
    "train[\"sign\"].value_counts()\n",
    "train[\"sign\"].fillna(\"prefer not to say\",inplace=True)\n",
    "test[\"sign\"].fillna(\"prefer not to say\",inplace=True)"
   ]
  },
  {
   "cell_type": "code",
   "execution_count": 34,
   "metadata": {},
   "outputs": [
    {
     "name": "stdout",
     "output_type": "stream",
     "text": [
      "Wall time: 63 ms\n"
     ]
    }
   ],
   "source": [
    "%%time\n",
    "#filling the NA values according to the domain knowledge\n",
    "train[\"ethnicity\"].value_counts().sum()\n",
    "train[\"ethnicity\"].fillna(\"prefer not to say\",inplace=True)\n",
    "test[\"ethnicity\"].fillna(\"prefer not to say\",inplace=True)"
   ]
  },
  {
   "cell_type": "code",
   "execution_count": 35,
   "metadata": {},
   "outputs": [
    {
     "data": {
      "text/plain": [
       "1519     i'm not going to be able to sum myself up in t...\n",
       "529      i'm not macho and i don't need to prove anythi...\n",
       "41425    happy, easy, compassionate, excitable, want to...\n",
       "38814    living in the east bay currently, went to coll...\n",
       "16190    i'm a grounded, fun, outgoing, artistic, emoti...\n",
       "13858    student of life... if you saw me on a friday n...\n",
       "28691    i'm geminiacally versatile with eclectic and b...\n",
       "29057    i'm looking for someone with whom to experienc...\n",
       "45120    well hello there.<br />\\ni am a social kind a ...\n",
       "59899    i'm just me... to me, getting the know someone...\n",
       "23229    i keep a journal and i love music. i'm quiet a...\n",
       "47758    i am a happy person, i like my job, i love my ...\n",
       "14171    born and raised in san diego. moved to sf afte...\n",
       "3449     i like people but i'm usually shy when first m...\n",
       "24341                                                  NaN\n",
       "4523     poly-exploring texas boy transplanted joyously...\n",
       "46924         \"that it aint no sin to be glad your alive.\"\n",
       "12559    i am a free spirit who tries to find beauty an...\n",
       "53831    i'm 23, love to read, am a pretty big dork, an...\n",
       "22628    first things first - i am poly, happily marrie...\n",
       "Name: essay0, dtype: object"
      ]
     },
     "execution_count": 35,
     "metadata": {},
     "output_type": "execute_result"
    }
   ],
   "source": [
    "train[\"essay0\"].head(20)"
   ]
  },
  {
   "cell_type": "code",
   "execution_count": 36,
   "metadata": {},
   "outputs": [
    {
     "data": {
      "text/plain": [
       "array(['essay0', 'essay1', 'essay2', 'essay3', 'essay4', 'essay5',\n",
       "       'essay6', 'essay7', 'essay8', 'essay9'], dtype=object)"
      ]
     },
     "execution_count": 36,
     "metadata": {},
     "output_type": "execute_result"
    }
   ],
   "source": [
    "#getting the column names of essay0:essay9\n",
    "train.columns\n",
    "colnames_essay=train.columns.values[6:16]\n",
    "colnames_essay"
   ]
  },
  {
   "cell_type": "code",
   "execution_count": 37,
   "metadata": {},
   "outputs": [
    {
     "name": "stderr",
     "output_type": "stream",
     "text": [
      "C:\\Users\\umairansari\\Anaconda3\\lib\\site-packages\\ipykernel_launcher.py:3: SettingWithCopyWarning: \n",
      "A value is trying to be set on a copy of a slice from a DataFrame.\n",
      "Try using .loc[row_indexer,col_indexer] = value instead\n",
      "\n",
      "See the caveats in the documentation: http://pandas.pydata.org/pandas-docs/stable/user_guide/indexing.html#returning-a-view-versus-a-copy\n",
      "  This is separate from the ipykernel package so we can avoid doing imports until\n",
      "C:\\Users\\umairansari\\Anaconda3\\lib\\site-packages\\ipykernel_launcher.py:4: SettingWithCopyWarning: \n",
      "A value is trying to be set on a copy of a slice from a DataFrame.\n",
      "Try using .loc[row_indexer,col_indexer] = value instead\n",
      "\n",
      "See the caveats in the documentation: http://pandas.pydata.org/pandas-docs/stable/user_guide/indexing.html#returning-a-view-versus-a-copy\n",
      "  after removing the cwd from sys.path.\n",
      "C:\\Users\\umairansari\\Anaconda3\\lib\\site-packages\\ipykernel_launcher.py:5: SettingWithCopyWarning: \n",
      "A value is trying to be set on a copy of a slice from a DataFrame.\n",
      "Try using .loc[row_indexer,col_indexer] = value instead\n",
      "\n",
      "See the caveats in the documentation: http://pandas.pydata.org/pandas-docs/stable/user_guide/indexing.html#returning-a-view-versus-a-copy\n",
      "  \"\"\"\n",
      "C:\\Users\\umairansari\\Anaconda3\\lib\\site-packages\\ipykernel_launcher.py:6: SettingWithCopyWarning: \n",
      "A value is trying to be set on a copy of a slice from a DataFrame.\n",
      "Try using .loc[row_indexer,col_indexer] = value instead\n",
      "\n",
      "See the caveats in the documentation: http://pandas.pydata.org/pandas-docs/stable/user_guide/indexing.html#returning-a-view-versus-a-copy\n",
      "  \n",
      "C:\\Users\\umairansari\\Anaconda3\\lib\\site-packages\\ipykernel_launcher.py:7: SettingWithCopyWarning: \n",
      "A value is trying to be set on a copy of a slice from a DataFrame.\n",
      "Try using .loc[row_indexer,col_indexer] = value instead\n",
      "\n",
      "See the caveats in the documentation: http://pandas.pydata.org/pandas-docs/stable/user_guide/indexing.html#returning-a-view-versus-a-copy\n",
      "  import sys\n",
      "C:\\Users\\umairansari\\Anaconda3\\lib\\site-packages\\ipykernel_launcher.py:8: SettingWithCopyWarning: \n",
      "A value is trying to be set on a copy of a slice from a DataFrame.\n",
      "Try using .loc[row_indexer,col_indexer] = value instead\n",
      "\n",
      "See the caveats in the documentation: http://pandas.pydata.org/pandas-docs/stable/user_guide/indexing.html#returning-a-view-versus-a-copy\n",
      "  \n",
      "C:\\Users\\umairansari\\Anaconda3\\lib\\site-packages\\ipykernel_launcher.py:9: SettingWithCopyWarning: \n",
      "A value is trying to be set on a copy of a slice from a DataFrame.\n",
      "Try using .loc[row_indexer,col_indexer] = value instead\n",
      "\n",
      "See the caveats in the documentation: http://pandas.pydata.org/pandas-docs/stable/user_guide/indexing.html#returning-a-view-versus-a-copy\n",
      "  if __name__ == '__main__':\n",
      "C:\\Users\\umairansari\\Anaconda3\\lib\\site-packages\\ipykernel_launcher.py:10: SettingWithCopyWarning: \n",
      "A value is trying to be set on a copy of a slice from a DataFrame.\n",
      "Try using .loc[row_indexer,col_indexer] = value instead\n",
      "\n",
      "See the caveats in the documentation: http://pandas.pydata.org/pandas-docs/stable/user_guide/indexing.html#returning-a-view-versus-a-copy\n",
      "  # Remove the CWD from sys.path while we load stuff.\n",
      "C:\\Users\\umairansari\\Anaconda3\\lib\\site-packages\\ipykernel_launcher.py:11: SettingWithCopyWarning: \n",
      "A value is trying to be set on a copy of a slice from a DataFrame.\n",
      "Try using .loc[row_indexer,col_indexer] = value instead\n",
      "\n",
      "See the caveats in the documentation: http://pandas.pydata.org/pandas-docs/stable/user_guide/indexing.html#returning-a-view-versus-a-copy\n",
      "  # This is added back by InteractiveShellApp.init_path()\n",
      "C:\\Users\\umairansari\\Anaconda3\\lib\\site-packages\\ipykernel_launcher.py:12: SettingWithCopyWarning: \n",
      "A value is trying to be set on a copy of a slice from a DataFrame.\n",
      "Try using .loc[row_indexer,col_indexer] = value instead\n",
      "\n",
      "See the caveats in the documentation: http://pandas.pydata.org/pandas-docs/stable/user_guide/indexing.html#returning-a-view-versus-a-copy\n",
      "  if sys.path[0] == '':\n",
      "C:\\Users\\umairansari\\Anaconda3\\lib\\site-packages\\ipykernel_launcher.py:13: SettingWithCopyWarning: \n",
      "A value is trying to be set on a copy of a slice from a DataFrame.\n",
      "Try using .loc[row_indexer,col_indexer] = value instead\n",
      "\n",
      "See the caveats in the documentation: http://pandas.pydata.org/pandas-docs/stable/user_guide/indexing.html#returning-a-view-versus-a-copy\n",
      "  del sys.path[0]\n",
      "C:\\Users\\umairansari\\Anaconda3\\lib\\site-packages\\ipykernel_launcher.py:14: SettingWithCopyWarning: \n",
      "A value is trying to be set on a copy of a slice from a DataFrame.\n",
      "Try using .loc[row_indexer,col_indexer] = value instead\n",
      "\n",
      "See the caveats in the documentation: http://pandas.pydata.org/pandas-docs/stable/user_guide/indexing.html#returning-a-view-versus-a-copy\n",
      "  \n"
     ]
    },
    {
     "name": "stdout",
     "output_type": "stream",
     "text": [
      "Wall time: 15.6 s\n"
     ]
    }
   ],
   "source": [
    "%%time\n",
    "#cleaning the data to remove some irrational tags\n",
    "for col in colnames_essay:\n",
    "    train[col]=train[col].str.replace(\"<br />\",\"\")\n",
    "    train[col]=train[col].str.replace(\"/n\",\"\")\n",
    "    train[col]=train[col].str.replace(\"\\n\",\"\")\n",
    "    train[col]=train[col].str.replace(\":\",\" \")\n",
    "    train[col]=train[col].str.replace('<em>','')    \n",
    "    train[col]=train[col].str.replace('<strong>','')\n",
    "    test[col]=test[col].str.replace(\"<br />\",\"\")\n",
    "    test[col]=test[col].str.replace(\"/n\",\"\")\n",
    "    test[col]=test[col].str.replace(\"\\n\",\"\")\n",
    "    test[col]=test[col].str.replace(\":\",\" \")\n",
    "    test[col]=test[col].str.replace('<em>','')    \n",
    "    test[col]=test[col].str.replace('<strong>','')\n"
   ]
  },
  {
   "cell_type": "code",
   "execution_count": 38,
   "metadata": {},
   "outputs": [
    {
     "name": "stdout",
     "output_type": "stream",
     "text": [
      "1519     i'm not going to be able to sum myself up in t...\n",
      "529      i'm not macho and i don't need to prove anythi...\n",
      "41425    happy, easy, compassionate, excitable, want to...\n",
      "38814    living in the east bay currently, went to coll...\n",
      "16190    i'm a grounded, fun, outgoing, artistic, emoti...\n",
      "Name: essay0, dtype: object\n",
      "1519     loving san francisco. not that i have much to ...\n",
      "529                                                    NaN\n",
      "41425     trying to go to vet school, and have fun mostly.\n",
      "38814                                                  NaN\n",
      "16190    i'm pursuing my dream of acting and singing.i'...\n",
      "Name: essay1, dtype: object\n",
      "1519     cookingcreating awkward situationsmaking peopl...\n",
      "529      selecting friends. and feeding those relations...\n",
      "41425                                                  NaN\n",
      "38814    being present for my work, family &amp; friend...\n",
      "16190              typing, making coffee, making pancakes.\n",
      "Name: essay2, dtype: object\n",
      "1519     whether or not i am present.(in company)(there...\n",
      "529      my smile is big and sincere, eye contact and a...\n",
      "41425                        my weirdo asymmetric haircut.\n",
      "38814    i'm warm &amp; calm, excited to meet new peopl...\n",
      "16190                                   my name, my height\n",
      "Name: essay3, dtype: object\n",
      "1519     those are my favorites...these are things bett...\n",
      "529      this section is irrelevant to a connection.i h...\n",
      "41425    books  david sedaris, fantasy, malcolm gladwel...\n",
      "38814                                                  NaN\n",
      "16190    books  east of eden, ask and it it given, coll...\n",
      "Name: essay4, dtype: object\n",
      "1519     my favorites(see above)friendsphysical activit...\n",
      "529      i have everything thing i need and most of wha...\n",
      "41425    good food, friends, lovers, dogs, music and le...\n",
      "38814    1. q-tips2. my family &amp; friends3. the abil...\n",
      "16190    familylovefriendsgodintimacyartactingoperagosp...\n",
      "Name: essay5, dtype: object\n",
      "1519     funny scenes/stories that could go in a future...\n",
      "529                                                    NaN\n",
      "41425                                      my next meal...\n",
      "38814    how to get to the mountains &amp; jump in a (h...\n",
      "16190    new ways to cook food, men, acting, films, coffee\n",
      "Name: essay6, dtype: object\n",
      "1519                          doing whatever sounds fun...\n",
      "529                                                    NaN\n",
      "41425    either in watching movies, making a great meal...\n",
      "38814    either mustering up the energy to cook a delic...\n",
      "16190                   wining and dining, watching a film\n",
      "Name: essay7, dtype: object\n",
      "1519     when i hear someone say \"fickle\" i see, in my ...\n",
      "529      #1 i'm pretty open, but i will take your secre...\n",
      "41425                                                  NaN\n",
      "38814                                                  NaN\n",
      "16190                                     i love anchovies\n",
      "Name: essay8, dtype: object\n",
      "1519     there's more you would like to know..oryou lik...\n",
      "529      you have taken the time to express yourself wi...\n",
      "41425                                 you want to have fun\n",
      "38814    you are genuine, kind, pro-choice, and live in...\n",
      "16190                            your interested in a date\n",
      "Name: essay9, dtype: object\n",
      "Wall time: 62.5 ms\n"
     ]
    }
   ],
   "source": [
    "%%time\n",
    "#checking the column heads to get the overview of the data they contains \n",
    "for col in colnames_essay:\n",
    "    print(train[col].head(5))"
   ]
  },
  {
   "cell_type": "code",
   "execution_count": 39,
   "metadata": {},
   "outputs": [
    {
     "name": "stdout",
     "output_type": "stream",
     "text": [
      "Wall time: 109 ms\n"
     ]
    },
    {
     "name": "stderr",
     "output_type": "stream",
     "text": [
      "C:\\Users\\umairansari\\Anaconda3\\lib\\site-packages\\pandas\\core\\frame.py:4223: SettingWithCopyWarning: \n",
      "A value is trying to be set on a copy of a slice from a DataFrame\n",
      "\n",
      "See the caveats in the documentation: http://pandas.pydata.org/pandas-docs/stable/user_guide/indexing.html#returning-a-view-versus-a-copy\n",
      "  return super().rename(**kwargs)\n"
     ]
    }
   ],
   "source": [
    "%%time\n",
    "#renaming the columns to be more specific details\n",
    "train.rename(columns={'essay0':'aboutme',\n",
    "                          'essay1':'work_profession_details',\n",
    "                          'essay2':'your_speciality','essay3':'describe_your_look','essay4':'your_interests',\n",
    "                    'essay4':'things_you_do','essay5':'things_you_love_todo','essay6':'things_you_love_todo1',\n",
    "                    'essay7':'things_you_prefer_todo','essay8':'what_brings_you_here','essay9':'pickup_lines'}, \n",
    "                 inplace=True)\n",
    "test.rename(columns={'essay0':'aboutme',\n",
    "                          'essay1':'work_profession_details',\n",
    "                          'essay2':'your_speciality','essay3':'describe_your_look','essay4':'your_interests',\n",
    "                    'essay4':'things_you_do','essay5':'things_you_love_todo','essay6':'things_you_love_todo1',\n",
    "                    'essay7':'things_you_prefer_todo','essay8':'what_brings_you_here','essay9':'pickup_lines'}, \n",
    "                 inplace=True)\n",
    " "
   ]
  },
  {
   "cell_type": "code",
   "execution_count": 40,
   "metadata": {},
   "outputs": [
    {
     "data": {
      "text/plain": [
       "Index(['age', 'body_type', 'diet', 'drinks', 'drugs', 'education', 'aboutme',\n",
       "       'work_profession_details', 'your_speciality', 'describe_your_look',\n",
       "       'things_you_do', 'things_you_love_todo', 'things_you_love_todo1',\n",
       "       'things_you_prefer_todo', 'what_brings_you_here', 'pickup_lines',\n",
       "       'ethnicity', 'height', 'income', 'job', 'last_online', 'location',\n",
       "       'offspring', 'orientation', 'pets', 'religion', 'sex', 'sign', 'smokes',\n",
       "       'speaks', 'status'],\n",
       "      dtype='object')"
      ]
     },
     "execution_count": 40,
     "metadata": {},
     "output_type": "execute_result"
    }
   ],
   "source": [
    "#checking the new column names\n",
    "train.columns"
   ]
  },
  {
   "cell_type": "code",
   "execution_count": 41,
   "metadata": {},
   "outputs": [
    {
     "name": "stdout",
     "output_type": "stream",
     "text": [
      "Wall time: 62.5 ms\n"
     ]
    }
   ],
   "source": [
    "%%time\n",
    "#colnames_essay_modified=list(train.columns.values[6:16])\n",
    "#colnames_essay_modified\n",
    "#for col in colnames_essay_modified:\n",
    "cleaned_datatrain=train.drop(train.columns[6:16], axis = 1) \n",
    "cleaned_datatest=test.drop(test.columns[6:16], axis = 1) \n",
    "#cleaned_data=data.dropna(subset=colnames_essay_modified,axis=1)"
   ]
  },
  {
   "cell_type": "code",
   "execution_count": 42,
   "metadata": {},
   "outputs": [
    {
     "data": {
      "text/plain": [
       "(17985, 21)"
      ]
     },
     "execution_count": 42,
     "metadata": {},
     "output_type": "execute_result"
    }
   ],
   "source": [
    "cleaned_datatest.shape"
   ]
  },
  {
   "cell_type": "code",
   "execution_count": 43,
   "metadata": {},
   "outputs": [
    {
     "data": {
      "text/plain": [
       "((17985, 21), (41958, 21))"
      ]
     },
     "execution_count": 43,
     "metadata": {},
     "output_type": "execute_result"
    }
   ],
   "source": [
    "cleaned_datatest.shape,cleaned_datatrain.shape"
   ]
  },
  {
   "cell_type": "code",
   "execution_count": 44,
   "metadata": {},
   "outputs": [],
   "source": [
    "cleaned_datatrain.to_csv(\"OKCUPID_cleaned_data_train.csv\",index=False)\n",
    "cleaned_datatest.to_csv(\"OKCUPID_cleaned_data_test.csv\",index=False)"
   ]
  },
  {
   "cell_type": "code",
   "execution_count": 45,
   "metadata": {},
   "outputs": [],
   "source": [
    "#import os\n",
    "#os.getcwd()"
   ]
  }
 ],
 "metadata": {
  "kernelspec": {
   "display_name": "Python 3",
   "language": "python",
   "name": "python3"
  },
  "language_info": {
   "codemirror_mode": {
    "name": "ipython",
    "version": 3
   },
   "file_extension": ".py",
   "mimetype": "text/x-python",
   "name": "python",
   "nbconvert_exporter": "python",
   "pygments_lexer": "ipython3",
   "version": "3.7.4"
  }
 },
 "nbformat": 4,
 "nbformat_minor": 2
}
